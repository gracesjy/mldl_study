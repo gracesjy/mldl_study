{
 "cells": [
  {
   "cell_type": "code",
   "execution_count": 1,
   "id": "b1d2836b-2ed2-4a75-a4f6-024be361ba45",
   "metadata": {},
   "outputs": [
    {
     "name": "stdout",
     "output_type": "stream",
     "text": [
      "sent .. 12\n",
      "         ID   name class\n",
      "0  20190103    Kim     H\n",
      "1  20190222    Lee     W\n",
      "2  20190531  Jeong     S\n",
      "sent .. 12\n",
      "         ID   name class\n",
      "0  20190103    Kim     H\n",
      "1  20190222    Lee     W\n",
      "2  20190531  Jeong     S\n",
      "sent .. 12\n",
      "         ID   name class\n",
      "0  20190103    Kim     H\n",
      "1  20190222    Lee     W\n",
      "2  20190531  Jeong     S\n",
      "sent .. 12\n",
      "         ID   name class\n",
      "0  20190103    Kim     H\n",
      "1  20190222    Lee     W\n",
      "2  20190531  Jeong     S\n",
      "sent .. 12\n",
      "         ID   name class\n",
      "0  20190103    Kim     H\n",
      "1  20190222    Lee     W\n",
      "2  20190531  Jeong     S\n",
      "sent .. 12\n",
      "         ID   name class\n",
      "0  20190103    Kim     H\n",
      "1  20190222    Lee     W\n",
      "2  20190531  Jeong     S\n",
      "sent .. 12\n",
      "         ID   name class\n",
      "0  20190103    Kim     H\n",
      "1  20190222    Lee     W\n",
      "2  20190531  Jeong     S\n",
      "sent .. 12\n",
      "         ID   name class\n",
      "0  20190103    Kim     H\n",
      "1  20190222    Lee     W\n",
      "2  20190531  Jeong     S\n"
     ]
    },
    {
     "ename": "KeyboardInterrupt",
     "evalue": "",
     "output_type": "error",
     "traceback": [
      "\u001b[1;31m---------------------------------------------------------------------------\u001b[0m",
      "\u001b[1;31mKeyboardInterrupt\u001b[0m                         Traceback (most recent call last)",
      "Cell \u001b[1;32mIn[1], line 25\u001b[0m\n\u001b[0;32m     22\u001b[0m     frame \u001b[38;5;241m=\u001b[39m pickle\u001b[38;5;241m.\u001b[39mloads(frame_data)\n\u001b[0;32m     23\u001b[0m     \u001b[38;5;28mprint\u001b[39m(\u001b[38;5;28mstr\u001b[39m(frame))\n\u001b[1;32m---> 25\u001b[0m     \u001b[43mtime\u001b[49m\u001b[38;5;241;43m.\u001b[39;49m\u001b[43msleep\u001b[49m\u001b[43m(\u001b[49m\u001b[38;5;241;43m1\u001b[39;49m\u001b[43m)\u001b[49m\n\u001b[0;32m     27\u001b[0m client_cam\u001b[38;5;241m.\u001b[39mclose()\n",
      "\u001b[1;31mKeyboardInterrupt\u001b[0m: "
     ]
    }
   ],
   "source": [
    "import socket\n",
    "import time\n",
    "import struct\n",
    "import pandas as pd\n",
    "import pickle\n",
    "\n",
    "HOST_RPI = '127.0.0.1'\n",
    "PORT=8089\n",
    "\n",
    "client_cam = socket.socket(socket.AF_INET, socket.SOCK_STREAM)\n",
    "client_cam.connect((HOST_RPI, PORT))\n",
    "\n",
    "while True:\n",
    "    cmd = 12\n",
    "    cmd_byte = struct.pack('!B', cmd)\n",
    "    client_cam.sendall(cmd_byte)\n",
    "    print('sent .. ' + str(cmd))\n",
    "    data_len_bytes = client_cam.recv(4)\n",
    "    data_len = struct.unpack('!L', data_len_bytes)\n",
    "\n",
    "    frame_data = client_cam.recv(data_len[0], socket.MSG_WAITALL)\n",
    "    frame = pickle.loads(frame_data)\n",
    "    print(str(frame))\n",
    "    \n",
    "    time.sleep(1)\n",
    "\n",
    "client_cam.close()\n"
   ]
  },
  {
   "cell_type": "code",
   "execution_count": null,
   "id": "5be141d3-12be-49e0-9315-07209df63899",
   "metadata": {},
   "outputs": [],
   "source": []
  },
  {
   "cell_type": "code",
   "execution_count": null,
   "id": "73a3745c-d056-4556-8495-8addbebe385c",
   "metadata": {},
   "outputs": [],
   "source": []
  },
  {
   "cell_type": "code",
   "execution_count": null,
   "id": "b3de650a-20fb-4802-974d-970a6be19657",
   "metadata": {},
   "outputs": [],
   "source": []
  }
 ],
 "metadata": {
  "kernelspec": {
   "display_name": "Python 3 (ipykernel)",
   "language": "python",
   "name": "python3"
  },
  "language_info": {
   "codemirror_mode": {
    "name": "ipython",
    "version": 3
   },
   "file_extension": ".py",
   "mimetype": "text/x-python",
   "name": "python",
   "nbconvert_exporter": "python",
   "pygments_lexer": "ipython3",
   "version": "3.10.13"
  }
 },
 "nbformat": 4,
 "nbformat_minor": 5
}
