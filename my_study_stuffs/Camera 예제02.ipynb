{
 "cells": [
  {
   "cell_type": "code",
   "execution_count": 1,
   "id": "37cb56f1-721d-45ec-90d1-bafd050a0d2d",
   "metadata": {},
   "outputs": [
    {
     "name": "stdout",
     "output_type": "stream",
     "text": [
      "main ..\n",
      "sent .. 12\n",
      "data len : 18475\n",
      "main ..\n",
      "sent .. 12\n",
      "data len : 17829\n",
      "main ..\n",
      "sent .. 12\n",
      "data len : 17794\n",
      "sent .. 12\n",
      "data len : 17516\n",
      "main ..\n",
      "sent .. 12\n",
      "data len : 17659\n",
      "sent .. 12\n",
      "data len : 17773\n",
      "main ..\n",
      "sent .. 12\n",
      "data len : 17910\n",
      "sent .. 12\n",
      "data len : 17410\n",
      "main ..\n",
      "sent .. 12\n",
      "data len : 17478\n",
      "main ..\n",
      "sent .. 12\n",
      "data len : 17571\n",
      "sent .. 12\n",
      "data len : 17588\n"
     ]
    },
    {
     "ename": "NameError",
     "evalue": "name 'client_cam' is not defined",
     "output_type": "error",
     "traceback": [
      "\u001b[1;31m---------------------------------------------------------------------------\u001b[0m",
      "\u001b[1;31mNameError\u001b[0m                                 Traceback (most recent call last)",
      "Cell \u001b[1;32mIn[1], line 57\u001b[0m\n\u001b[0;32m     54\u001b[0m flag_exit\u001b[38;5;241m=\u001b[39m\u001b[38;5;28;01mTrue\u001b[39;00m\n\u001b[0;32m     55\u001b[0m t1\u001b[38;5;241m.\u001b[39mjoin()\n\u001b[1;32m---> 57\u001b[0m \u001b[43mclient_cam\u001b[49m\u001b[38;5;241m.\u001b[39mclose()\n",
      "\u001b[1;31mNameError\u001b[0m: name 'client_cam' is not defined"
     ]
    }
   ],
   "source": [
    "import threading\n",
    "import time\n",
    "import socket\n",
    "import time\n",
    "import struct\n",
    "import pandas as pd\n",
    "import pickle\n",
    "import cv2\n",
    "import numpy as np\n",
    "import time\n",
    "\n",
    "flag_exit = False\n",
    "HOST_RPI = '127.0.0.1'\n",
    "PORT=8089\n",
    "\n",
    "def t1_main():\n",
    "    client_cam = socket.socket(socket.AF_INET, socket.SOCK_STREAM)\n",
    "    client_cam.connect((HOST_RPI, PORT))    \n",
    "    \n",
    "    while True:\n",
    "        cmd = 12\n",
    "        cmd_byte = struct.pack('!B', cmd)\n",
    "        client_cam.sendall(cmd_byte)\n",
    "        print('sent .. ' + str(cmd))\n",
    "        data_len_bytes = client_cam.recv(4)\n",
    "        data_len = struct.unpack('!L', data_len_bytes)\n",
    "        print('data len : ' + str(data_len[0]))\n",
    "        frame_data = client_cam.recv(data_len[0], socket.MSG_WAITALL)\n",
    "        frame = pickle.loads(frame_data)\n",
    "        np_data = np.frombuffer(frame, dtype='uint8')\n",
    "        frame2 = cv2.imdecode(np_data, 1)\n",
    "        #cv2.imshow('frameX', frame2)\n",
    "        cv2.imwrite(r'C:\\Users\\Lenovo\\Pictures\\camera.png', frame2)\n",
    "        time.sleep(0.5)\n",
    "        #frame3 = cv2.imdecode(frame, cv2.IMREAD_COLOR)\n",
    "        #cv2.imshow('frameX', frame3)\n",
    "        #if cv2.waitKey(1) & 0xFF == ord('q'):\n",
    "        #    break\n",
    "    \n",
    "        if flag_exit: break\n",
    "\n",
    "\n",
    "t1 = threading.Thread(target=t1_main)\n",
    "t1.start()\n",
    "\n",
    "try:\n",
    "    while True:\n",
    "        print(\"main ..\")\n",
    "        time.sleep(1.0)\n",
    "\n",
    "except KeyboardInterrupt:\n",
    "    pass\n",
    "\n",
    "flag_exit=True\n",
    "t1.join()\n",
    "\n",
    "client_cam.close()\n",
    "\n"
   ]
  },
  {
   "cell_type": "code",
   "execution_count": null,
   "id": "1f3eb7fa-4a41-4258-99c5-ad8a606e7d3d",
   "metadata": {},
   "outputs": [],
   "source": []
  }
 ],
 "metadata": {
  "kernelspec": {
   "display_name": "Python 3 (ipykernel)",
   "language": "python",
   "name": "python3"
  },
  "language_info": {
   "codemirror_mode": {
    "name": "ipython",
    "version": 3
   },
   "file_extension": ".py",
   "mimetype": "text/x-python",
   "name": "python",
   "nbconvert_exporter": "python",
   "pygments_lexer": "ipython3",
   "version": "3.9.19"
  }
 },
 "nbformat": 4,
 "nbformat_minor": 5
}
