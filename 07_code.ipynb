{
  "cells": [
    {
      "cell_type": "markdown",
      "metadata": {
        "id": "view-in-github",
        "colab_type": "text"
      },
      "source": [
        "<a href=\"https://colab.research.google.com/github/gracesjy/mldl_study/blob/main/07_code.ipynb\" target=\"_parent\"><img src=\"https://colab.research.google.com/assets/colab-badge.svg\" alt=\"Open In Colab\"/></a>"
      ]
    },
    {
      "cell_type": "markdown",
      "metadata": {
        "id": "ST1JQvndN1TW"
      },
      "source": [
        "# **인피니티북스 \"누구나 쉽게 배우는 딥러닝 스타트\"(1판) 교재 소스 코드**\n",
        "\n",
        "\n",
        "## **7장 텐서플로로 구현하는 딥러닝**\n",
        "---\n",
        "* 출판사 : 인피니티북스( https://www.infinitybooks.co.kr )\n",
        "* 저자 : 박동규\n",
        "* 소스코드 저장소 : https://github.com/dongupak/DLstart\n",
        "*  저작권 : 본 주피터 노트북 코드는 자유롭게 배포가능하지만 위의 출판사, 저자 표기와 함께 배포해 주십시오.\n",
        " * https://www.yes24.com/Product/Goods/124152667\n",
        " * 책의 오류는 dongupak@gmail.com 으로 알려주십시오.\n",
        "---"
      ]
    },
    {
      "cell_type": "markdown",
      "metadata": {
        "id": "cUkquOdfOdVS"
      },
      "source": [
        "### 01 딥러닝을 위한 도구 : 텐서플로\n",
        "#### 텐서플로와 MNIST 데이터"
      ]
    },
    {
      "cell_type": "code",
      "execution_count": null,
      "metadata": {
        "colab": {
          "base_uri": "https://localhost:8080/"
        },
        "id": "ux7vSQtmXarq",
        "outputId": "d401123e-c261-4af5-eff2-3e947fc4e0e6"
      },
      "outputs": [
        {
          "name": "stdout",
          "output_type": "stream",
          "text": [
            "Downloading data from https://storage.googleapis.com/tensorflow/tf-keras-datasets/mnist.npz\n",
            "11490434/11490434 [==============================] - 1s 0us/step\n"
          ]
        }
      ],
      "source": [
        "# tensorflow와 tf.keras를 임포트\n",
        "import tensorflow as tf\n",
        "from tensorflow import keras\n",
        "import numpy as np\n",
        "import matplotlib.pyplot as plt\n",
        "\n",
        "# MNIST 데이터를 학습용, 테스트 데이터로 구분하여 읽어옴\n",
        "mnist = keras.datasets.mnist\n",
        "(train_images, train_labels), (test_images, test_labels) =\\\n",
        "    mnist.load_data()"
      ]
    },
    {
      "cell_type": "code",
      "execution_count": null,
      "metadata": {
        "colab": {
          "base_uri": "https://localhost:8080/"
        },
        "id": "vAfUrRlOMZl3",
        "outputId": "ba11cb06-97a0-4e47-9687-98a8ffcc171d"
      },
      "outputs": [
        {
          "name": "stdout",
          "output_type": "stream",
          "text": [
            "train_images.shape = (60000, 28, 28)\n",
            "test_images.shape = (10000, 28, 28)\n",
            "train_labels.shape = (60000,)\n",
            "test_labels.shape = (10000,)\n"
          ]
        }
      ],
      "source": [
        "print('train_images.shape =', train_images.shape)\n",
        "print('test_images.shape =', test_images.shape)\n",
        "print('train_labels.shape =', train_labels.shape)\n",
        "print('test_labels.shape =', test_labels.shape)"
      ]
    },
    {
      "cell_type": "code",
      "execution_count": null,
      "metadata": {
        "colab": {
          "base_uri": "https://localhost:8080/"
        },
        "id": "n4pc0o-re-8X",
        "outputId": "d9081ec0-cdbb-489b-b362-c887d8f158b0"
      },
      "outputs": [
        {
          "name": "stdout",
          "output_type": "stream",
          "text": [
            "   0   0   0   0   0   0   0   0   0   0   0   0   0   0   0   0   0   0   0   0   0   0   0   0   0   0   0   0\n",
            "   0   0   0   0   0   0   0   0   0   0   0   0   0   0   0   0   0   0   0   0   0   0   0   0   0   0   0   0\n",
            "   0   0   0   0   0   0   0   0   0   0   0   0   0   0   0   0   0   0   0   0   0   0   0   0   0   0   0   0\n",
            "   0   0   0   0   0   0   0   0   0   0   0   0   0   0   0   0   0   0   0   0   0   0   0   0   0   0   0   0\n",
            "   0   0   0   0   0   0   0   0   0   0   0   0   0   0   0   0   0   0   0   0   0   0   0   0   0   0   0   0\n",
            "   0   0   0   0   0   0   0   0   0   0   0   0   3  18  18  18 126 136 175  26 166 255 247 127   0   0   0   0\n",
            "   0   0   0   0   0   0   0   0  30  36  94 154 170 253 253 253 253 253 225 172 253 242 195  64   0   0   0   0\n",
            "   0   0   0   0   0   0   0  49 238 253 253 253 253 253 253 253 253 251  93  82  82  56  39   0   0   0   0   0\n",
            "   0   0   0   0   0   0   0  18 219 253 253 253 253 253 198 182 247 241   0   0   0   0   0   0   0   0   0   0\n",
            "   0   0   0   0   0   0   0   0  80 156 107 253 253 205  11   0  43 154   0   0   0   0   0   0   0   0   0   0\n",
            "   0   0   0   0   0   0   0   0   0  14   1 154 253  90   0   0   0   0   0   0   0   0   0   0   0   0   0   0\n",
            "   0   0   0   0   0   0   0   0   0   0   0 139 253 190   2   0   0   0   0   0   0   0   0   0   0   0   0   0\n",
            "   0   0   0   0   0   0   0   0   0   0   0  11 190 253  70   0   0   0   0   0   0   0   0   0   0   0   0   0\n",
            "   0   0   0   0   0   0   0   0   0   0   0   0  35 241 225 160 108   1   0   0   0   0   0   0   0   0   0   0\n",
            "   0   0   0   0   0   0   0   0   0   0   0   0   0  81 240 253 253 119  25   0   0   0   0   0   0   0   0   0\n",
            "   0   0   0   0   0   0   0   0   0   0   0   0   0   0  45 186 253 253 150  27   0   0   0   0   0   0   0   0\n",
            "   0   0   0   0   0   0   0   0   0   0   0   0   0   0   0  16  93 252 253 187   0   0   0   0   0   0   0   0\n",
            "   0   0   0   0   0   0   0   0   0   0   0   0   0   0   0   0   0 249 253 249  64   0   0   0   0   0   0   0\n",
            "   0   0   0   0   0   0   0   0   0   0   0   0   0   0  46 130 183 253 253 207   2   0   0   0   0   0   0   0\n",
            "   0   0   0   0   0   0   0   0   0   0   0   0  39 148 229 253 253 253 250 182   0   0   0   0   0   0   0   0\n",
            "   0   0   0   0   0   0   0   0   0   0  24 114 221 253 253 253 253 201  78   0   0   0   0   0   0   0   0   0\n",
            "   0   0   0   0   0   0   0   0  23  66 213 253 253 253 253 198  81   2   0   0   0   0   0   0   0   0   0   0\n",
            "   0   0   0   0   0   0  18 171 219 253 253 253 253 195  80   9   0   0   0   0   0   0   0   0   0   0   0   0\n",
            "   0   0   0   0  55 172 226 253 253 253 253 244 133  11   0   0   0   0   0   0   0   0   0   0   0   0   0   0\n",
            "   0   0   0   0 136 253 253 253 212 135 132  16   0   0   0   0   0   0   0   0   0   0   0   0   0   0   0   0\n",
            "   0   0   0   0   0   0   0   0   0   0   0   0   0   0   0   0   0   0   0   0   0   0   0   0   0   0   0   0\n",
            "   0   0   0   0   0   0   0   0   0   0   0   0   0   0   0   0   0   0   0   0   0   0   0   0   0   0   0   0\n",
            "   0   0   0   0   0   0   0   0   0   0   0   0   0   0   0   0   0   0   0   0   0   0   0   0   0   0   0   0\n"
          ]
        }
      ],
      "source": [
        "num = train_images[0]  # 첫번째 데이터 가져오기\n",
        "for i in range(28):\n",
        "    for j in range(28):\n",
        "        print('{:4d}'.format(num[i][j]), end='')\n",
        "    print()"
      ]
    },
    {
      "cell_type": "code",
      "execution_count": null,
      "metadata": {
        "colab": {
          "base_uri": "https://localhost:8080/"
        },
        "id": "zVl3tByTMk46",
        "outputId": "8e57b139-34de-41ab-f000-c2c009a20609"
      },
      "outputs": [
        {
          "name": "stdout",
          "output_type": "stream",
          "text": [
            "  0  0  0  0  0  0  0  0  0  0  0  0  0  0  0  0  0  0  0  0  0  0  0  0  0  0  0  0\n",
            "  0  0  0  0  0  0  0  0  0  0  0  0  0  0  0  0  0  0  0  0  0  0  0  0  0  0  0  0\n",
            "  0  0  0  0  0  0  0  0  0  0  0  0  0  0  0  0  0  0  0  0  0  0  0  0  0  0  0  0\n",
            "  0  0  0  0  0  0  0  0  0  0  0  0  0  0  0  0  0  0  0  0  0  0  0  0  0  0  0  0\n",
            "  0  0  0  0  0  0  0  0  0  0  0  0  0  0  0  0  0  0  0  0  0  0  0  0  0  0  0  0\n",
            "  0  0  0  0  0  0  0  0  0  0  0  0  3 18 18 18126136175 26166255247127  0  0  0  0\n",
            "  0  0  0  0  0  0  0  0 30 36 94154170253253253253253225172253242195 64  0  0  0  0\n",
            "  0  0  0  0  0  0  0 49238253253253253253253253253251 93 82 82 56 39  0  0  0  0  0\n",
            "  0  0  0  0  0  0  0 18219253253253253253198182247241  0  0  0  0  0  0  0  0  0  0\n",
            "  0  0  0  0  0  0  0  0 80156107253253205 11  0 43154  0  0  0  0  0  0  0  0  0  0\n",
            "  0  0  0  0  0  0  0  0  0 14  1154253 90  0  0  0  0  0  0  0  0  0  0  0  0  0  0\n",
            "  0  0  0  0  0  0  0  0  0  0  0139253190  2  0  0  0  0  0  0  0  0  0  0  0  0  0\n",
            "  0  0  0  0  0  0  0  0  0  0  0 11190253 70  0  0  0  0  0  0  0  0  0  0  0  0  0\n",
            "  0  0  0  0  0  0  0  0  0  0  0  0 35241225160108  1  0  0  0  0  0  0  0  0  0  0\n",
            "  0  0  0  0  0  0  0  0  0  0  0  0  0 81240253253119 25  0  0  0  0  0  0  0  0  0\n",
            "  0  0  0  0  0  0  0  0  0  0  0  0  0  0 45186253253150 27  0  0  0  0  0  0  0  0\n",
            "  0  0  0  0  0  0  0  0  0  0  0  0  0  0  0 16 93252253187  0  0  0  0  0  0  0  0\n",
            "  0  0  0  0  0  0  0  0  0  0  0  0  0  0  0  0  0249253249 64  0  0  0  0  0  0  0\n",
            "  0  0  0  0  0  0  0  0  0  0  0  0  0  0 46130183253253207  2  0  0  0  0  0  0  0\n",
            "  0  0  0  0  0  0  0  0  0  0  0  0 39148229253253253250182  0  0  0  0  0  0  0  0\n",
            "  0  0  0  0  0  0  0  0  0  0 24114221253253253253201 78  0  0  0  0  0  0  0  0  0\n",
            "  0  0  0  0  0  0  0  0 23 66213253253253253198 81  2  0  0  0  0  0  0  0  0  0  0\n",
            "  0  0  0  0  0  0 18171219253253253253195 80  9  0  0  0  0  0  0  0  0  0  0  0  0\n",
            "  0  0  0  0 55172226253253253253244133 11  0  0  0  0  0  0  0  0  0  0  0  0  0  0\n",
            "  0  0  0  0136253253253212135132 16  0  0  0  0  0  0  0  0  0  0  0  0  0  0  0  0\n",
            "  0  0  0  0  0  0  0  0  0  0  0  0  0  0  0  0  0  0  0  0  0  0  0  0  0  0  0  0\n",
            "  0  0  0  0  0  0  0  0  0  0  0  0  0  0  0  0  0  0  0  0  0  0  0  0  0  0  0  0\n",
            "  0  0  0  0  0  0  0  0  0  0  0  0  0  0  0  0  0  0  0  0  0  0  0  0  0  0  0  0\n"
          ]
        }
      ],
      "source": [
        "num = train_images[0]  # 첫번째 데이터 가져오기\n",
        "for i in range(28):\n",
        "    for j in range(28):\n",
        "        print('{:3d}'.format(num[i][j]), end='')\n",
        "    print()"
      ]
    },
    {
      "cell_type": "code",
      "execution_count": null,
      "metadata": {
        "colab": {
          "base_uri": "https://localhost:8080/"
        },
        "id": "DcQ3h07GMig2",
        "outputId": "f1de3ae6-38f4-4e77-dddf-255938bd2dc0"
      },
      "outputs": [
        {
          "name": "stdout",
          "output_type": "stream",
          "text": [
            "train_labels[0] = 5\n"
          ]
        }
      ],
      "source": [
        "print('train_labels[0] =', train_labels[0])"
      ]
    },
    {
      "cell_type": "markdown",
      "metadata": {
        "id": "kKj8laIwR05G"
      },
      "source": [
        "---\n",
        "#### MNIST 데이터 시각화하기\n"
      ]
    },
    {
      "cell_type": "code",
      "execution_count": null,
      "metadata": {
        "colab": {
          "base_uri": "https://localhost:8080/",
          "height": 447
        },
        "id": "PDSy79aYai5U",
        "outputId": "11b0f436-b6ce-4ff3-e133-40d508fc1e6e"
      },
      "outputs": [
        {
          "data": {
            "text/plain": [
              "<matplotlib.image.AxesImage at 0x7c76e6a92620>"
            ]
          },
          "execution_count": 7,
          "metadata": {},
          "output_type": "execute_result"
        },
        {
          "data": {
            "image/png": "[encoded data removed]",
            "text/plain": [
              "<Figure size 640x480 with 1 Axes>"
            ]
          },
          "metadata": {},
          "output_type": "display_data"
        }
      ],
      "source": [
        "import matplotlib.pyplot as plt\n",
        "\n",
        "plt.imshow(train_images[0], cmap='Greys')"
      ]
    },
    {
      "cell_type": "code",
      "execution_count": null,
      "metadata": {
        "colab": {
          "base_uri": "https://localhost:8080/",
          "height": 189
        },
        "id": "HDQVXxQoMxQp",
        "outputId": "a4f96203-1c08-4a96-995d-16aa22a547e3"
      },
      "outputs": [
        {
          "data": {
            "text/plain": [
              "<matplotlib.image.AxesImage at 0x7c76e7dc7cd0>"
            ]
          },
          "execution_count": 8,
          "metadata": {},
          "output_type": "execute_result"
        },
        {
          "data": {
            "image/png": "[encoded data removed]",
            "text/plain": [
              "<Figure size 640x480 with 4 Axes>"
            ]
          },
          "metadata": {},
          "output_type": "display_data"
        }
      ],
      "source": [
        "fig = plt.figure()\n",
        "ax1 = fig.add_subplot(1, 4, 1)\n",
        "ax2 = fig.add_subplot(1, 4, 2)\n",
        "ax3 = fig.add_subplot(1, 4, 3)\n",
        "ax4 = fig.add_subplot(1, 4, 4)\n",
        "\n",
        "ax1.imshow(train_images[0], cmap='Greys') # 첫 번째 훈련용 데이터\n",
        "ax2.imshow(train_images[1], cmap='Greys') # 두 번째 훈련용 데이터\n",
        "ax3.imshow(train_images[2], cmap='Greys') # 세 번째 훈련용 데이터\n",
        "ax4.imshow(train_images[3], cmap='Greys') # 네 번째 훈련용 데이터"
      ]
    },
    {
      "cell_type": "markdown",
      "metadata": {
        "id": "bwaOrViRQNDu"
      },
      "source": [
        "---\n",
        "### 02 딥러닝 모델을 만들고 학습시키기\n",
        "#### 딥러닝을 위한 모델 만들기와 학습 단계"
      ]
    },
    {
      "cell_type": "code",
      "execution_count": null,
      "metadata": {
        "id": "vJWBb-qLhf2O"
      },
      "outputs": [],
      "source": [
        "# 입력값 전처리 : 0에서 1 사이의 값으로 입력 데이터를 가공함\n",
        "train_images, test_images = train_images / 255, test_images / 255"
      ]
    },
    {
      "cell_type": "code",
      "execution_count": null,
      "metadata": {
        "id": "wtf57BajhgTc"
      },
      "outputs": [],
      "source": [
        "model = keras.Sequential([\n",
        "    keras.layers.Flatten(input_shape=(28, 28)),\n",
        "    keras.layers.Dense(60, activation='relu'),\n",
        "    keras.layers.Dense(10, activation='softmax')\n",
        "])"
      ]
    },
    {
      "cell_type": "code",
      "execution_count": null,
      "metadata": {
        "colab": {
          "base_uri": "https://localhost:8080/"
        },
        "id": "erxQqTO4hihu",
        "outputId": "3a99e785-f8df-4692-9095-1c942bfaeee3"
      },
      "outputs": [
        {
          "name": "stdout",
          "output_type": "stream",
          "text": [
            "Model: \"sequential_2\"\n",
            "_________________________________________________________________\n",
            " Layer (type)                Output Shape              Param #   \n",
            "=================================================================\n",
            " flatten_2 (Flatten)         (None, 784)               0         \n",
            "                                                                 \n",
            " dense_4 (Dense)             (None, 60)                47100     \n",
            "                                                                 \n",
            " dense_5 (Dense)             (None, 10)                610       \n",
            "                                                                 \n",
            "=================================================================\n",
            "Total params: 47710 (186.37 KB)\n",
            "Trainable params: 47710 (186.37 KB)\n",
            "Non-trainable params: 0 (0.00 Byte)\n",
            "_________________________________________________________________\n"
          ]
        }
      ],
      "source": [
        "model.summary()"
      ]
    },
    {
      "cell_type": "markdown",
      "metadata": {
        "id": "1sf4vnf7SUOV"
      },
      "source": [
        "#### 인공신경망을 학습시켜 보자"
      ]
    },
    {
      "cell_type": "code",
      "execution_count": null,
      "metadata": {
        "id": "3AtitubZhlkg"
      },
      "outputs": [],
      "source": [
        "model.compile(optimizer='adam',\\\n",
        "              loss='sparse_categorical_crossentropy',\\\n",
        "              metrics=['accuracy'])"
      ]
    },
    {
      "cell_type": "code",
      "execution_count": null,
      "metadata": {
        "colab": {
          "base_uri": "https://localhost:8080/"
        },
        "id": "oM9ap1rih5ib",
        "outputId": "f4904093-d993-48e9-dbe1-3ff373c50b34"
      },
      "outputs": [
        {
          "name": "stdout",
          "output_type": "stream",
          "text": [
            "Epoch 1/3\n",
            "1875/1875 [==============================] - 5s 2ms/step - loss: 0.3247 - accuracy: 0.9082\n",
            "Epoch 2/3\n",
            "1875/1875 [==============================] - 5s 3ms/step - loss: 0.1611 - accuracy: 0.9530\n",
            "Epoch 3/3\n",
            "1875/1875 [==============================] - 5s 3ms/step - loss: 0.1171 - accuracy: 0.9656\n"
          ]
        },
        {
          "data": {
            "text/plain": [
              "<keras.src.callbacks.History at 0x7a2625c3bb20>"
            ]
          },
          "execution_count": 17,
          "metadata": {},
          "output_type": "execute_result"
        }
      ],
      "source": [
        "model.fit(train_images, train_labels, epochs=3)"
      ]
    },
    {
      "cell_type": "code",
      "execution_count": null,
      "metadata": {
        "colab": {
          "base_uri": "https://localhost:8080/"
        },
        "id": "VR0bkRTWh97R",
        "outputId": "5a8bcdc2-9e66-4f2b-a9c7-7c0671f018ac"
      },
      "outputs": [
        {
          "name": "stdout",
          "output_type": "stream",
          "text": [
            "313/313 - 1s - loss: 0.1090 - accuracy: 0.9662 - 573ms/epoch - 2ms/step\n",
            "\n",
            "테스트 정확도: 0.9661999940872192\n"
          ]
        }
      ],
      "source": [
        "test_loss, test_acc = model.evaluate(test_images,  test_labels, verbose=2)\n",
        "print('\\n테스트 정확도:', test_acc)"
      ]
    },
    {
      "cell_type": "markdown",
      "metadata": {
        "id": "Kv3fINvnx5TA"
      },
      "source": [
        "---\n",
        "#### 5 단계 : 모델의 정확도 알아보기"
      ]
    },
    {
      "cell_type": "code",
      "execution_count": null,
      "metadata": {
        "colab": {
          "base_uri": "https://localhost:8080/"
        },
        "id": "m-_scueIxus4",
        "outputId": "1bde8796-ebfa-4cf8-cd1b-64a293459c5b"
      },
      "outputs": [
        {
          "name": "stdout",
          "output_type": "stream",
          "text": [
            "Epoch 1/3\n",
            "1875/1875 [==============================] - 4s 2ms/step - loss: 0.0913 - accuracy: 0.9730\n",
            "Epoch 2/3\n",
            "1875/1875 [==============================] - 5s 3ms/step - loss: 0.0762 - accuracy: 0.9766\n",
            "Epoch 3/3\n",
            "1875/1875 [==============================] - 4s 2ms/step - loss: 0.0634 - accuracy: 0.9805\n",
            "313/313 - 0s - loss: 0.0942 - accuracy: 0.9725 - 445ms/epoch - 1ms/step\n",
            "\n",
            "테스트 정확도: 0.9725000262260437\n"
          ]
        }
      ],
      "source": [
        "model.fit(train_images, train_labels, epochs=3)\n",
        "test_loss, test_acc = model.evaluate(test_images,  test_labels,\\\n",
        "                                     verbose=2)\n",
        "print('\\n테스트 정확도:', test_acc)"
      ]
    },
    {
      "cell_type": "markdown",
      "metadata": {
        "id": "k_77q-heOJpu"
      },
      "source": [
        "### 03 신경망 학습의 출력값과 정답의 차이를 알아보자"
      ]
    },
    {
      "cell_type": "code",
      "execution_count": null,
      "metadata": {
        "colab": {
          "base_uri": "https://localhost:8080/"
        },
        "id": "51i8aqwdORQs",
        "outputId": "bf9dd40a-9edb-4bae-f94d-588c8c638478"
      },
      "outputs": [
        {
          "name": "stdout",
          "output_type": "stream",
          "text": [
            "신경망의 예측값 : [0.5 4.1 2.5 5.6 1.2]\n",
            "소프트맥스 함수의 출력 : [0.00473882 0.17343248 0.03501541 0.77727047 0.00954281]\n"
          ]
        }
      ],
      "source": [
        "import numpy as np\n",
        "\n",
        "def softmax(a):\n",
        "    exp_of_a = np.exp(a)       # 각각의 지수 함수\n",
        "    sum_exp = np.sum(exp_of_a) # 지수 함수값의 합\n",
        "    y = exp_of_a / sum_exp     # 각각의 확률값을 구함\n",
        "    return y\n",
        "\n",
        "a = np.array([0.5, 4.1, 2.5, 5.6, 1.2])\n",
        "print('신경망의 예측값 :', a)\n",
        "print('소프트맥스 함수의 출력 :', softmax(a))"
      ]
    },
    {
      "cell_type": "code",
      "execution_count": null,
      "metadata": {
        "colab": {
          "base_uri": "https://localhost:8080/"
        },
        "id": "FTyd0g-yWlNS",
        "outputId": "0f12752d-fb59-4012-b287-b26eef497f0d"
      },
      "outputs": [
        {
          "name": "stdout",
          "output_type": "stream",
          "text": [
            "소프트맥스 함수의 출력 : [0.0047 0.1734 0.035  0.7773 0.0095]\n"
          ]
        }
      ],
      "source": [
        "np.set_printoptions(precision=4, suppress=True)\n",
        "print('소프트맥스 함수의 출력 :', softmax(a))"
      ]
    },
    {
      "cell_type": "code",
      "execution_count": null,
      "metadata": {
        "colab": {
          "base_uri": "https://localhost:8080/"
        },
        "id": "7fucXxOwOWiv",
        "outputId": "40b1a6db-b3be-4128-e78f-1e16a0314f10"
      },
      "outputs": [
        {
          "name": "stdout",
          "output_type": "stream",
          "text": [
            "소프트맥스 함수의 최대값 : 0.7773\n"
          ]
        }
      ],
      "source": [
        "print('소프트맥스 함수의 최대값 :', np.max(softmax(a)).round(4))"
      ]
    },
    {
      "cell_type": "code",
      "execution_count": null,
      "metadata": {
        "colab": {
          "base_uri": "https://localhost:8080/"
        },
        "id": "8AHZcoxkObS5",
        "outputId": "f8c2ef4b-a83f-4d39-c2e2-4ee6673047aa"
      },
      "outputs": [
        {
          "name": "stdout",
          "output_type": "stream",
          "text": [
            "소프트맥스 함수 출력의 argmax : 3\n"
          ]
        }
      ],
      "source": [
        "print('소프트맥스 함수 출력의 argmax :', np.argmax(softmax(a)))"
      ]
    },
    {
      "cell_type": "code",
      "execution_count": null,
      "metadata": {
        "colab": {
          "base_uri": "https://localhost:8080/"
        },
        "id": "DfInKJdHPFML",
        "outputId": "a4b7152f-ead2-4e46-e54e-f84cc042d993"
      },
      "outputs": [
        {
          "name": "stdout",
          "output_type": "stream",
          "text": [
            "신경망의 예측값 : [ 1.   8.2  5.  11.2  2.4]\n",
            "소프트맥스 함수의 출력 : [0.     0.0473 0.0019 0.9506 0.0001]\n",
            "소프트맥스 함수의 최대값 : 0.9505663642857384\n"
          ]
        }
      ],
      "source": [
        "# 소프트맥스 함수의 입력값을 두 배로 증가시켜보자\n",
        "a = np.array([0.5, 4.1, 2.5, 5.6, 1.2]) * 2\n",
        "print('신경망의 예측값 :', a)\n",
        "print('소프트맥스 함수의 출력 :', softmax(a))\n",
        "print('소프트맥스 함수의 최대값 :', np.max(softmax(a)))"
      ]
    },
    {
      "cell_type": "markdown",
      "metadata": {
        "id": "FHUVs0iPzE_o"
      },
      "source": [
        "---\n",
        "#### 원-핫 인코딩과 범주형 데이터의 평균 제곱 오차"
      ]
    },
    {
      "cell_type": "code",
      "execution_count": null,
      "metadata": {
        "colab": {
          "base_uri": "https://localhost:8080/"
        },
        "id": "MMmSifuFPlmJ",
        "outputId": "a9818a16-8014-4687-ff17-58d08787e6b1"
      },
      "outputs": [
        {
          "name": "stdout",
          "output_type": "stream",
          "text": [
            "인코딩할 원본 데이터 [0 1 2 3 4]\n",
            "원-핫 인코딩된 데이터 :\n",
            "[[1. 0. 0. 0. 0.]\n",
            " [0. 1. 0. 0. 0.]\n",
            " [0. 0. 1. 0. 0.]\n",
            " [0. 0. 0. 1. 0.]\n",
            " [0. 0. 0. 0. 1.]]\n"
          ]
        }
      ],
      "source": [
        "from keras.utils import to_categorical\n",
        "\n",
        "data = np.array([0, 1, 2, 3, 4])  # 수치 데이터 0에서 4까지의 값\n",
        "print('인코딩할 원본 데이터',data)\n",
        "encoded = to_categorical(data)    # 원-핫 인코딩된 범주형 데이터 생성\n",
        "print('원-핫 인코딩된 데이터 :')\n",
        "print(encoded)"
      ]
    },
    {
      "cell_type": "code",
      "execution_count": null,
      "metadata": {
        "colab": {
          "base_uri": "https://localhost:8080/"
        },
        "id": "2on-2FQgzU8d",
        "outputId": "45def737-11a9-4b36-9502-3306afbe74e7"
      },
      "outputs": [
        {
          "name": "stdout",
          "output_type": "stream",
          "text": [
            "color_dic : {0: 'red', 1: 'green', 2: 'blue'}\n"
          ]
        }
      ],
      "source": [
        "color_data = ['red', 'green', 'blue']\n",
        "# 리스트 축약 코드를 사용하여 딕셔너리 자료형으로 만들자.\n",
        "color_dic = {v: k for v, k in enumerate(color_data)}\n",
        "print('color_dic :', color_dic)"
      ]
    },
    {
      "cell_type": "code",
      "execution_count": null,
      "metadata": {
        "colab": {
          "base_uri": "https://localhost:8080/"
        },
        "id": "NvVScYkwzeBO",
        "outputId": "2db188cd-bf35-4b89-ecd8-2602c147d64e"
      },
      "outputs": [
        {
          "name": "stdout",
          "output_type": "stream",
          "text": [
            "인코딩할 원본 데이터 : [0 1 2]\n",
            "원-핫 인코딩된 데이터 :\n",
            "[[1. 0. 0.]\n",
            " [0. 1. 0.]\n",
            " [0. 0. 1.]]\n"
          ]
        }
      ],
      "source": [
        "import numpy as np\n",
        "from keras.utils import to_categorical\n",
        "\n",
        "data = np.array(list(color_dic.keys()))  # 키값 0, 1, 2를 항목으로 하는 data\n",
        "print('인코딩할 원본 데이터 :', data)\n",
        "encoded = to_categorical(data)           # 원-핫 인코딩된 범주형 데이터 생성\n",
        "print('원-핫 인코딩된 데이터 :')\n",
        "print(encoded)"
      ]
    },
    {
      "cell_type": "code",
      "execution_count": null,
      "metadata": {
        "colab": {
          "base_uri": "https://localhost:8080/"
        },
        "id": "_Qbsr-QDzib-",
        "outputId": "67be9dc0-a589-4e44-c3ec-e2d671d280af"
      },
      "outputs": [
        {
          "name": "stdout",
          "output_type": "stream",
          "text": [
            "red   : [1. 0. 0.]\n",
            "green : [0. 1. 0.]\n",
            "blue  : [0. 0. 1.]\n"
          ]
        }
      ],
      "source": [
        "for i in range(len(color_data)):\n",
        "    print('{:5s} : {}'.format(color_data[i], encoded[i]))"
      ]
    },
    {
      "cell_type": "code",
      "execution_count": null,
      "metadata": {
        "colab": {
          "base_uri": "https://localhost:8080/"
        },
        "id": "KMSIYYmPPs53",
        "outputId": "3d183c78-c8fb-4077-a02e-bb57ecd242b1"
      },
      "outputs": [
        {
          "name": "stdout",
          "output_type": "stream",
          "text": [
            "y_hat과 target과의 오차 : 0.016201599999999997\n"
          ]
        }
      ],
      "source": [
        "import numpy as np\n",
        "\n",
        "# 정답 3이 인코딩된 target과 신경망의 예측값 y_hat이 있다고 가정하자\n",
        "target = np.array([0, 0, 0, 1, 0])\n",
        "y_hat = np.array([0.005, 0.173, 0.035, 0.777, 0.01])\n",
        "\n",
        "def mse(y, t):   # 평균제곱오차\n",
        "    return ((y-t)**2).mean()\n",
        "\n",
        "print('y_hat과 target과의 오차 :', mse(y_hat, target))"
      ]
    },
    {
      "cell_type": "code",
      "execution_count": null,
      "metadata": {
        "colab": {
          "base_uri": "https://localhost:8080/"
        },
        "id": "PFMVh3_TVF-Z",
        "outputId": "5c78fab4-1318-4eba-ad76-c2f96a16b413"
      },
      "outputs": [
        {
          "name": "stdout",
          "output_type": "stream",
          "text": [
            "other_y_hat과 target과의 오차 : 0.26336\n"
          ]
        }
      ],
      "source": [
        "import numpy as np\n",
        "\n",
        "# 정답에서 많이 벗어난 other_y_hat 추정치\n",
        "other_y_hat = np.array([0.1, 0.3, 0.5, 0.02, 0.08])\n",
        "# other_y_hat 추정치와 정답과의 오차를 알아보자\n",
        "print('other_y_hat과 target과의 오차 :', mse( other_y_hat, target ))"
      ]
    },
    {
      "cell_type": "markdown",
      "metadata": {
        "id": "T1pxwOLZ1QCc"
      },
      "source": [
        "---\n",
        "#### 원-핫 인코딩 데이터의 오차를 구하는 교차 엔트로피 오차"
      ]
    },
    {
      "cell_type": "code",
      "execution_count": null,
      "metadata": {
        "colab": {
          "base_uri": "https://localhost:8080/"
        },
        "id": "e7ke_D_XO3Hi",
        "outputId": "f81980a7-0c2a-47b4-bfeb-a5ea8988ca31"
      },
      "outputs": [
        {
          "name": "stdout",
          "output_type": "stream",
          "text": [
            "y_hat1과의 cee : 0.60\n",
            "y_hat2과의 cee : 4.61\n",
            "두 값의 비 : 7.70\n",
            "y_hat1과의 mse : 0.12\n",
            "y_hat2과의 mse : 0.60\n",
            "두 값의 비 : 4.93\n"
          ]
        }
      ],
      "source": [
        "# 교차 엔트로피 오차 함수를 에러 함수로 사용해 보도록 하자\n",
        "def cee(y, t):\n",
        "  delta = 1e-7 # 0이 되지 않도록 작은 마진 값을 준다\n",
        "  return -np.sum(t * np.log(y + delta))\n",
        "\n",
        "t = np.array([0, 0, 1]) # 세 번째 레이블이 정답값\n",
        "y_hat1 = np.array([0.4, 0.05, 0.55])\n",
        "y_hat2 = np.array([0.9, 0.09, 0.01])\n",
        "\n",
        "# y_hat 추정치와 정답과의 CEE 오차를 알아보자\n",
        "print('y_hat1과의 cee : {:.2f}'.format(cee(y_hat1, t)))\n",
        "print('y_hat2과의 cee : {:.2f}'.format(cee(y_hat2, t)))\n",
        "print('두 값의 비 : {:.2f}'.format(cee(y_hat2, t)/cee(y_hat1, t)))\n",
        "\n",
        "# y_hat 추정치와 정답과의 MSE 오차를 알아보자\n",
        "# mse() 함수는 이전에 구현한 것과 동일하다\n",
        "print('y_hat1과의 mse : {:.2f}'.format(mse(y_hat1, t)))\n",
        "print('y_hat2과의 mse : {:.2f}'.format(mse(y_hat2, t)))\n",
        "print('두 값의 비 : {:.2f}'.format(mse(y_hat2, t)/mse(y_hat1, t)))"
      ]
    }
  ],
  "metadata": {
    "colab": {
      "provenance": [],
      "include_colab_link": true
    },
    "kernelspec": {
      "display_name": "Python 3",
      "name": "python3"
    },
    "language_info": {
      "name": "python"
    }
  },
  "nbformat": 4,
  "nbformat_minor": 0
}