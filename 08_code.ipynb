{
  "nbformat": 4,
  "nbformat_minor": 0,
  "metadata": {
    "colab": {
      "provenance": [],
      "include_colab_link": true
    },
    "kernelspec": {
      "name": "python3",
      "display_name": "Python 3"
    },
    "language_info": {
      "name": "python"
    }
  },
  "cells": [
    {
      "cell_type": "markdown",
      "metadata": {
        "id": "view-in-github",
        "colab_type": "text"
      },
      "source": [
        "<a href=\"https://colab.research.google.com/github/gracesjy/mldl_study/blob/main/08_code.ipynb\" target=\"_parent\"><img src=\"https://colab.research.google.com/assets/colab-badge.svg\" alt=\"Open In Colab\"/></a>"
      ]
    },
    {
      "cell_type": "markdown",
      "source": [
        "# **인피니티북스 \"누구나 쉽게 배우는 딥러닝 스타트\"(1판) 교재 소스 코드**\n",
        "\n",
        "\n",
        "## **8장 텐서와 딥러닝 응용**\n",
        "---\n",
        "* 출판사 : 인피니티북스( https://www.infinitybooks.co.kr )\n",
        "* 딥러닝 스타트 저자 : 박동규\n",
        "*  소스코드 저장소 : https://github.com/dongupak/DLstart\n",
        "*  저작권 : 본 주피터 노트북 코드는 자유롭게 배포가능하지만 위의 출판사, 저자 표기와 함께 배포해 주십시오.\n",
        " * https://www.yes24.com/Product/Goods/124152667\n",
        " * 책의 오류는 dongupak@gmail.com 으로 알려주십시오.\n",
        "---"
      ],
      "metadata": {
        "id": "ZRvLi5MXAFHO"
      }
    },
    {
      "cell_type": "markdown",
      "source": [
        "### 01 텐서를 알아보자\n",
        "#### 텐서플로 라이브러리\n"
      ],
      "metadata": {
        "id": "oc0dMg3uMHjT"
      }
    },
    {
      "cell_type": "code",
      "source": [
        "# tensorflow를 tf라는 별칭으로 사용함\n",
        "import tensorflow as tf"
      ],
      "metadata": {
        "id": "rBxw41ZaMGsv"
      },
      "execution_count": null,
      "outputs": []
    },
    {
      "cell_type": "code",
      "source": [
        "# 스칼라 값에 대한 덧셈\n",
        "print(tf.math.add(1, 2))"
      ],
      "metadata": {
        "colab": {
          "base_uri": "https://localhost:8080/"
        },
        "id": "mufdGjLxMPTJ",
        "outputId": "9a5276a5-1bb0-40f3-e6ad-03832199035e"
      },
      "execution_count": null,
      "outputs": [
        {
          "output_type": "stream",
          "name": "stdout",
          "text": [
            "tf.Tensor(3, shape=(), dtype=int32)\n"
          ]
        }
      ]
    },
    {
      "cell_type": "code",
      "source": [
        "# 벡터 값에 대한 덧셈\n",
        "print(tf.math.add([1, 2], [3, 4]))"
      ],
      "metadata": {
        "colab": {
          "base_uri": "https://localhost:8080/"
        },
        "id": "HmeYglRnJPI8",
        "outputId": "ce0a7105-f570-4a6e-ad8f-8df288ff33b0"
      },
      "execution_count": null,
      "outputs": [
        {
          "output_type": "stream",
          "name": "stdout",
          "text": [
            "tf.Tensor([4 6], shape=(2,), dtype=int32)\n"
          ]
        }
      ]
    },
    {
      "cell_type": "code",
      "source": [
        "# 스칼라 상수 3과 4를 곱하여 텐서 객체 형으로 반환\n",
        "tf.math.multiply(3, 4)"
      ],
      "metadata": {
        "colab": {
          "base_uri": "https://localhost:8080/"
        },
        "id": "K1F8H_JiMf9I",
        "outputId": "f7801a2b-de3b-490e-bc77-b32e7906a1b9"
      },
      "execution_count": null,
      "outputs": [
        {
          "output_type": "execute_result",
          "data": {
            "text/plain": [
              "<tf.Tensor: shape=(), dtype=int32, numpy=12>"
            ]
          },
          "metadata": {},
          "execution_count": 4
        }
      ]
    },
    {
      "cell_type": "code",
      "source": [
        "# 벡터 형식의 상수 텐서 객체 정의\n",
        "x = tf.constant(([1, 2, 3]))\n",
        "tf.math.multiply(x, x)    # 텐서 사이의 곱셈"
      ],
      "metadata": {
        "colab": {
          "base_uri": "https://localhost:8080/"
        },
        "id": "3p01aW1LM93u",
        "outputId": "38ae3003-e468-4606-fd24-2281f5ddc517"
      },
      "execution_count": null,
      "outputs": [
        {
          "output_type": "execute_result",
          "data": {
            "text/plain": [
              "<tf.Tensor: shape=(3,), dtype=int32, numpy=array([1, 4, 9], dtype=int32)>"
            ]
          },
          "metadata": {},
          "execution_count": 5
        }
      ]
    },
    {
      "cell_type": "code",
      "source": [
        "tf.math.maximum([1, 2, 3], [4, 5, 6])"
      ],
      "metadata": {
        "colab": {
          "base_uri": "https://localhost:8080/"
        },
        "id": "bvGWEtciArCh",
        "outputId": "ae82c3a7-58c2-4605-d6ad-576430f42e79"
      },
      "execution_count": null,
      "outputs": [
        {
          "output_type": "execute_result",
          "data": {
            "text/plain": [
              "<tf.Tensor: shape=(3,), dtype=int32, numpy=array([4, 5, 6], dtype=int32)>"
            ]
          },
          "metadata": {},
          "execution_count": 6
        }
      ]
    },
    {
      "cell_type": "markdown",
      "source": [
        "---\n",
        "#### 완전 연결층을 만드는 방법"
      ],
      "metadata": {
        "id": "lpIh7m0iRYv7"
      }
    },
    {
      "cell_type": "code",
      "source": [
        "import tensorflow as tf\n",
        "from tensorflow import keras\n",
        "from tensorflow.keras import layers\n",
        "\n",
        "model = keras.Sequential(name=\"my_seq\")\n",
        "model.add(layers.Dense(2, activation=\"relu\", input_shape = (4,),\\\n",
        "          name=\"layer1\"))\n",
        "model.add(layers.Dense(3, activation=\"relu\", name=\"layer2\"))\n",
        "model.add(layers.Dense(4, name=\"layer3\"))\n",
        "print('모델의 층 :', len(model.layers))"
      ],
      "metadata": {
        "colab": {
          "base_uri": "https://localhost:8080/"
        },
        "id": "YNE2N3PNRc6j",
        "outputId": "74023550-8aeb-4e4e-fea0-eaae79934674"
      },
      "execution_count": null,
      "outputs": [
        {
          "output_type": "stream",
          "name": "stdout",
          "text": [
            "모델의 층 : 3\n"
          ]
        }
      ]
    },
    {
      "cell_type": "code",
      "source": [
        "print('모델의 구조 :')\n",
        "model.summary()"
      ],
      "metadata": {
        "colab": {
          "base_uri": "https://localhost:8080/"
        },
        "id": "dWZO86hTRw2m",
        "outputId": "eeb1cab3-37d3-43e3-85ec-4b876a8473c3"
      },
      "execution_count": null,
      "outputs": [
        {
          "output_type": "stream",
          "name": "stdout",
          "text": [
            "모델의 구조 :\n",
            "Model: \"my_seq\"\n",
            "_________________________________________________________________\n",
            " Layer (type)                Output Shape              Param #   \n",
            "=================================================================\n",
            " layer1 (Dense)              (None, 2)                 10        \n",
            "                                                                 \n",
            " layer2 (Dense)              (None, 3)                 9         \n",
            "                                                                 \n",
            " layer3 (Dense)              (None, 4)                 16        \n",
            "                                                                 \n",
            "=================================================================\n",
            "Total params: 35 (140.00 Byte)\n",
            "Trainable params: 35 (140.00 Byte)\n",
            "Non-trainable params: 0 (0.00 Byte)\n",
            "_________________________________________________________________\n"
          ]
        }
      ]
    },
    {
      "cell_type": "code",
      "source": [
        "model.pop()\n",
        "print('모델의 층 :', len(model.layers))"
      ],
      "metadata": {
        "colab": {
          "base_uri": "https://localhost:8080/"
        },
        "id": "5i8hPN8AVVvW",
        "outputId": "eb6fa787-7fef-4086-d7d7-b62639ab5361"
      },
      "execution_count": null,
      "outputs": [
        {
          "output_type": "stream",
          "name": "stdout",
          "text": [
            "모델의 층 : 2\n"
          ]
        }
      ]
    },
    {
      "cell_type": "code",
      "source": [
        "model.summary()"
      ],
      "metadata": {
        "colab": {
          "base_uri": "https://localhost:8080/"
        },
        "id": "GmUDyvGiVXQM",
        "outputId": "4e88a005-1ca1-4ff0-dec7-f121d9656a33"
      },
      "execution_count": null,
      "outputs": [
        {
          "output_type": "stream",
          "name": "stdout",
          "text": [
            "Model: \"my_seq\"\n",
            "_________________________________________________________________\n",
            " Layer (type)                Output Shape              Param #   \n",
            "=================================================================\n",
            " layer1 (Dense)              (None, 2)                 10        \n",
            "                                                                 \n",
            " layer2 (Dense)              (None, 3)                 9         \n",
            "                                                                 \n",
            "=================================================================\n",
            "Total params: 19 (76.00 Byte)\n",
            "Trainable params: 19 (76.00 Byte)\n",
            "Non-trainable params: 0 (0.00 Byte)\n",
            "_________________________________________________________________\n"
          ]
        }
      ]
    },
    {
      "cell_type": "markdown",
      "source": [
        "---\n",
        "#### 입력 형상 지정하기"
      ],
      "metadata": {
        "id": "tjl29_9lhKB5"
      }
    },
    {
      "cell_type": "code",
      "source": [
        "layer = layers.Dense(2)  # 2개의 노드를 가진 완전 연결층을 만든다\n",
        "layer.weights            # 빈 가중치 값"
      ],
      "metadata": {
        "colab": {
          "base_uri": "https://localhost:8080/"
        },
        "id": "sDU0qQ5ohHST",
        "outputId": "9e0dd826-fcae-4d7f-98a1-f7ad02184a06"
      },
      "execution_count": null,
      "outputs": [
        {
          "output_type": "execute_result",
          "data": {
            "text/plain": [
              "[]"
            ]
          },
          "metadata": {},
          "execution_count": 19
        }
      ]
    },
    {
      "cell_type": "code",
      "source": [
        "# 테스트용 입력값을 만들도록 하자. 이 입력의 형상은 (1, 4)이다\n",
        "x = tf.ones((1, 4))\n",
        "y = layer(x)\n",
        "# 가중치의 형상은 (4, 2) 이며 편향값의 형상은 (2,)이다\n",
        "layer.weights"
      ],
      "metadata": {
        "colab": {
          "base_uri": "https://localhost:8080/"
        },
        "id": "kG_5MC_4hGlt",
        "outputId": "ce8c148e-613f-4d53-e4de-9e345f9431b1"
      },
      "execution_count": null,
      "outputs": [
        {
          "output_type": "execute_result",
          "data": {
            "text/plain": [
              "[<tf.Variable 'dense/kernel:0' shape=(4, 2) dtype=float32, numpy=\n",
              " array([[ 0.5332501 , -0.6925497 ],\n",
              "        [-0.7929313 , -0.66449714],\n",
              "        [-0.02370167,  0.11928797],\n",
              "        [ 0.6476743 , -0.0115118 ]], dtype=float32)>,\n",
              " <tf.Variable 'dense/bias:0' shape=(2,) dtype=float32, numpy=array([0., 0.], dtype=float32)>]"
            ]
          },
          "metadata": {},
          "execution_count": 20
        }
      ]
    },
    {
      "cell_type": "markdown",
      "source": [
        "### 02 붓꽃 데이터를 분류하는 딥러닝 모델\n",
        "#### 붓꽃 데이터를 분류하는 모델"
      ],
      "metadata": {
        "id": "ncjv-9LFAPt6"
      }
    },
    {
      "cell_type": "code",
      "source": [
        "import numpy as np\n",
        "import tensorflow as tf\n",
        "from sklearn.datasets import load_iris\n",
        "\n",
        "iris_ds = load_iris()  # 붓꽃 데이터셋 가져오기"
      ],
      "metadata": {
        "id": "SklqOb7lAK5k"
      },
      "execution_count": null,
      "outputs": []
    },
    {
      "cell_type": "code",
      "source": [
        "iris_ds['data'].shape    # 전체 데이터의 형상"
      ],
      "metadata": {
        "colab": {
          "base_uri": "https://localhost:8080/"
        },
        "id": "BupwFSJwAVYY",
        "outputId": "de86f884-710d-44c6-f805-c7797cad54eb"
      },
      "execution_count": null,
      "outputs": [
        {
          "output_type": "execute_result",
          "data": {
            "text/plain": [
              "(150, 4)"
            ]
          },
          "metadata": {},
          "execution_count": 20
        }
      ]
    },
    {
      "cell_type": "code",
      "source": [
        "iris_ds['data'][:4]      # 최초 4개 데이터"
      ],
      "metadata": {
        "colab": {
          "base_uri": "https://localhost:8080/"
        },
        "id": "6FtiWdzoAXJ6",
        "outputId": "40076572-e8f3-416c-ec57-9a927a416a33"
      },
      "execution_count": null,
      "outputs": [
        {
          "output_type": "execute_result",
          "data": {
            "text/plain": [
              "array([[5.1, 3.5, 1.4, 0.2],\n",
              "       [4.9, 3. , 1.4, 0.2],\n",
              "       [4.7, 3.2, 1.3, 0.2],\n",
              "       [4.6, 3.1, 1.5, 0.2]])"
            ]
          },
          "metadata": {},
          "execution_count": 21
        }
      ]
    },
    {
      "cell_type": "code",
      "source": [
        "iris_ds['feature_names']  # 특성의 이름"
      ],
      "metadata": {
        "colab": {
          "base_uri": "https://localhost:8080/"
        },
        "id": "cDlcDIkOAXMh",
        "outputId": "2834c2c1-018a-4912-d6ed-bcc8a8482f2b"
      },
      "execution_count": null,
      "outputs": [
        {
          "output_type": "execute_result",
          "data": {
            "text/plain": [
              "['sepal length (cm)',\n",
              " 'sepal width (cm)',\n",
              " 'petal length (cm)',\n",
              " 'petal width (cm)']"
            ]
          },
          "metadata": {},
          "execution_count": 22
        }
      ]
    },
    {
      "cell_type": "code",
      "source": [
        "iris_ds['target_names']   # 레이블의 이름"
      ],
      "metadata": {
        "colab": {
          "base_uri": "https://localhost:8080/"
        },
        "id": "faqx-EqmAXPE",
        "outputId": "075521a9-67ca-4416-f34f-7cb3548b7531"
      },
      "execution_count": null,
      "outputs": [
        {
          "output_type": "execute_result",
          "data": {
            "text/plain": [
              "array(['setosa', 'versicolor', 'virginica'], dtype='<U10')"
            ]
          },
          "metadata": {},
          "execution_count": 23
        }
      ]
    },
    {
      "cell_type": "code",
      "source": [
        "iris_ds['target'][:4]    # 처음 4개 데이터의 레이블값"
      ],
      "metadata": {
        "colab": {
          "base_uri": "https://localhost:8080/"
        },
        "id": "nCGCHuvOAXRq",
        "outputId": "71a882e7-d35d-4a43-9cd9-633d0a3493d8"
      },
      "execution_count": null,
      "outputs": [
        {
          "output_type": "execute_result",
          "data": {
            "text/plain": [
              "array([0, 0, 0, 0])"
            ]
          },
          "metadata": {},
          "execution_count": 24
        }
      ]
    },
    {
      "cell_type": "code",
      "source": [
        "iris_ds['target']   # 레이블을 모두 출력"
      ],
      "metadata": {
        "colab": {
          "base_uri": "https://localhost:8080/"
        },
        "id": "qOSiW6YZAXUR",
        "outputId": "bfca8c27-b0e5-480a-82d4-ce783a01d037"
      },
      "execution_count": null,
      "outputs": [
        {
          "output_type": "execute_result",
          "data": {
            "text/plain": [
              "array([0, 0, 0, 0, 0, 0, 0, 0, 0, 0, 0, 0, 0, 0, 0, 0, 0, 0, 0, 0, 0, 0,\n",
              "       0, 0, 0, 0, 0, 0, 0, 0, 0, 0, 0, 0, 0, 0, 0, 0, 0, 0, 0, 0, 0, 0,\n",
              "       0, 0, 0, 0, 0, 0, 1, 1, 1, 1, 1, 1, 1, 1, 1, 1, 1, 1, 1, 1, 1, 1,\n",
              "       1, 1, 1, 1, 1, 1, 1, 1, 1, 1, 1, 1, 1, 1, 1, 1, 1, 1, 1, 1, 1, 1,\n",
              "       1, 1, 1, 1, 1, 1, 1, 1, 1, 1, 1, 1, 2, 2, 2, 2, 2, 2, 2, 2, 2, 2,\n",
              "       2, 2, 2, 2, 2, 2, 2, 2, 2, 2, 2, 2, 2, 2, 2, 2, 2, 2, 2, 2, 2, 2,\n",
              "       2, 2, 2, 2, 2, 2, 2, 2, 2, 2, 2, 2, 2, 2, 2, 2, 2, 2])"
            ]
          },
          "metadata": {},
          "execution_count": 25
        }
      ]
    },
    {
      "cell_type": "code",
      "source": [
        "from sklearn.model_selection import train_test_split\n",
        "\n",
        "x_train, x_test, y_train, y_test = train_test_split(\\\n",
        "    iris_ds['data'], iris_ds['target'], random_state=0, test_size=0.20)\n",
        "# 학습 데이터와 테스트 데이터의 형태와 개별 훈련 데이터의 형태를 살펴보자.\n",
        "print('훈련용 데이터의 형태:', x_train.shape)\n",
        "print('훈련용 데이터의 레이블 형태:',y_train.shape)\n",
        "print('테스트용 데이터의 형태:', x_test.shape)\n",
        "print('테스트용 데이터의 레이블 형태:',y_test.shape)\n",
        "print('개별 훈련 데이터의 형태:', x_train[0].shape)"
      ],
      "metadata": {
        "colab": {
          "base_uri": "https://localhost:8080/"
        },
        "id": "Pw4A2hfGAXW3",
        "outputId": "c4563aa5-1224-44ba-91e2-3b858190fa37"
      },
      "execution_count": null,
      "outputs": [
        {
          "output_type": "stream",
          "name": "stdout",
          "text": [
            "훈련용 데이터의 형태: (120, 4)\n",
            "훈련용 데이터의 레이블 형태: (120,)\n",
            "테스트용 데이터의 형태: (30, 4)\n",
            "테스트용 데이터의 레이블 형태: (30,)\n",
            "개별 훈련 데이터의 형태: (4,)\n"
          ]
        }
      ]
    },
    {
      "cell_type": "markdown",
      "source": [
        "#### 붓꽃 데이터를 분류하는 여러 가지 순차 모델"
      ],
      "metadata": {
        "id": "5qFzy4QXbiVx"
      }
    },
    {
      "cell_type": "code",
      "source": [
        "from tensorflow import keras\n",
        "\n",
        "# 첫 번째 순차 모델을 생성하자\n",
        "model1 = keras.models.Sequential( [\n",
        "    keras.layers.Dense(32, activation= 'relu', input_shape = (4,)),\n",
        "    keras.layers.Dense(3, activation= 'softmax'),\n",
        "])\n",
        "\n",
        "# 모델 컴파일을 위한 최적화 방법, 손실 함수, 성능 측정 방법을 지정\n",
        "model1.compile(optimizer='adam',\\\n",
        "             loss='sparse_categorical_crossentropy',\\\n",
        "             metrics=['accuracy'])\n",
        "\n",
        "print('model1 학습중...')\n",
        "model1.fit(x_train, y_train, epochs=10, batch_size=5, verbose=1)"
      ],
      "metadata": {
        "colab": {
          "base_uri": "https://localhost:8080/"
        },
        "id": "gOVP2oEbAgnH",
        "outputId": "cac282c5-4216-4877-c931-78718b280333"
      },
      "execution_count": null,
      "outputs": [
        {
          "output_type": "stream",
          "name": "stdout",
          "text": [
            "model1 학습중...\n",
            "Epoch 1/10\n",
            "24/24 [==============================] - 0s 1ms/step - loss: 1.4235 - accuracy: 0.3250\n",
            "Epoch 2/10\n",
            "24/24 [==============================] - 0s 1ms/step - loss: 1.0738 - accuracy: 0.3417\n",
            "Epoch 3/10\n",
            "24/24 [==============================] - 0s 1ms/step - loss: 0.9876 - accuracy: 0.4417\n",
            "Epoch 4/10\n",
            "24/24 [==============================] - 0s 1ms/step - loss: 0.8953 - accuracy: 0.6833\n",
            "Epoch 5/10\n",
            "24/24 [==============================] - 0s 1ms/step - loss: 0.8302 - accuracy: 0.6917\n",
            "Epoch 6/10\n",
            "24/24 [==============================] - 0s 1ms/step - loss: 0.7643 - accuracy: 0.7083\n",
            "Epoch 7/10\n",
            "24/24 [==============================] - 0s 1ms/step - loss: 0.7092 - accuracy: 0.6917\n",
            "Epoch 8/10\n",
            "24/24 [==============================] - 0s 1ms/step - loss: 0.6682 - accuracy: 0.6917\n",
            "Epoch 9/10\n",
            "24/24 [==============================] - 0s 1ms/step - loss: 0.6285 - accuracy: 0.7167\n",
            "Epoch 10/10\n",
            "24/24 [==============================] - 0s 1ms/step - loss: 0.6025 - accuracy: 0.6917\n"
          ]
        },
        {
          "output_type": "execute_result",
          "data": {
            "text/plain": [
              "<keras.src.callbacks.History at 0x786343a289a0>"
            ]
          },
          "metadata": {},
          "execution_count": 30
        }
      ]
    },
    {
      "cell_type": "code",
      "source": [
        "# 확인용 코드 - 본문에는 없음\n",
        "model1.summary()"
      ],
      "metadata": {
        "colab": {
          "base_uri": "https://localhost:8080/"
        },
        "id": "Dbil-DlZKnih",
        "outputId": "6f176dac-7691-4ef1-dd49-5c34f79067cb"
      },
      "execution_count": null,
      "outputs": [
        {
          "output_type": "stream",
          "name": "stdout",
          "text": [
            "Model: \"sequential_3\"\n",
            "_________________________________________________________________\n",
            " Layer (type)                Output Shape              Param #   \n",
            "=================================================================\n",
            " dense_10 (Dense)            (None, 32)                160       \n",
            "                                                                 \n",
            " dense_11 (Dense)            (None, 3)                 99        \n",
            "                                                                 \n",
            "=================================================================\n",
            "Total params: 259 (1.01 KB)\n",
            "Trainable params: 259 (1.01 KB)\n",
            "Non-trainable params: 0 (0.00 Byte)\n",
            "_________________________________________________________________\n"
          ]
        }
      ]
    },
    {
      "cell_type": "code",
      "source": [
        "print('model1의 테스트 결과 :')\n",
        "eval_loss, eval_acc = model1.evaluate(x_test, y_test)\n",
        "print('model1의 붓꽃 데이터의 분류 정확도 :', eval_acc)"
      ],
      "metadata": {
        "colab": {
          "base_uri": "https://localhost:8080/"
        },
        "id": "BmNe0VePAgps",
        "outputId": "e0be6a8b-e81b-40b5-e898-e50039981a9f"
      },
      "execution_count": null,
      "outputs": [
        {
          "output_type": "stream",
          "name": "stdout",
          "text": [
            "model1의 테스트 결과 :\n",
            "1/1 [==============================] - 0s 107ms/step - loss: 0.6267 - accuracy: 0.5667\n",
            "model1의 붓꽃 데이터의 분류 정확도 : 0.5666666626930237\n"
          ]
        }
      ]
    },
    {
      "cell_type": "code",
      "source": [
        "from tensorflow import keras\n",
        "\n",
        "# 두 번째 순차 모델을 생성하자\n",
        "model2 = keras.models.Sequential( [\n",
        "    keras.layers.Dense(32, activation= 'relu', input_shape = (4,)),\n",
        "    keras.layers.Dense(30, activation= 'relu'), # 새롭게 추가한 층\n",
        "    keras.layers.Dense(3, activation= 'softmax'),\n",
        "])\n",
        "\n",
        "# 모델 컴파일\n",
        "model2.compile(optimizer='adam',\\\n",
        "             loss='sparse_categorical_crossentropy',\\\n",
        "             metrics=['accuracy'])\n",
        "\n",
        "print('model2 학습중...')\n",
        "model2.fit(x_train, y_train, epochs=10, batch_size=5, verbose=1)"
      ],
      "metadata": {
        "colab": {
          "base_uri": "https://localhost:8080/"
        },
        "id": "UkpmIoZIAgsR",
        "outputId": "24e6b6be-b36d-4ff1-cb65-1c694e6a414e"
      },
      "execution_count": null,
      "outputs": [
        {
          "output_type": "stream",
          "name": "stdout",
          "text": [
            "model2 학습중...\n",
            "Epoch 1/10\n",
            "24/24 [==============================] - 1s 1ms/step - loss: 1.8372 - accuracy: 0.3333\n",
            "Epoch 2/10\n",
            "24/24 [==============================] - 0s 1ms/step - loss: 0.6621 - accuracy: 0.7000\n",
            "Epoch 3/10\n",
            "24/24 [==============================] - 0s 1ms/step - loss: 0.5216 - accuracy: 0.7250\n",
            "Epoch 4/10\n",
            "24/24 [==============================] - 0s 1ms/step - loss: 0.4781 - accuracy: 0.8083\n",
            "Epoch 5/10\n",
            "24/24 [==============================] - 0s 1ms/step - loss: 0.4348 - accuracy: 0.7583\n",
            "Epoch 6/10\n",
            "24/24 [==============================] - 0s 1ms/step - loss: 0.3919 - accuracy: 0.9167\n",
            "Epoch 7/10\n",
            "24/24 [==============================] - 0s 1ms/step - loss: 0.3597 - accuracy: 0.9333\n",
            "Epoch 8/10\n",
            "24/24 [==============================] - 0s 1ms/step - loss: 0.3479 - accuracy: 0.9250\n",
            "Epoch 9/10\n",
            "24/24 [==============================] - 0s 2ms/step - loss: 0.3111 - accuracy: 0.9167\n",
            "Epoch 10/10\n",
            "24/24 [==============================] - 0s 1ms/step - loss: 0.3091 - accuracy: 0.9250\n"
          ]
        },
        {
          "output_type": "execute_result",
          "data": {
            "text/plain": [
              "<keras.src.callbacks.History at 0x786343035c00>"
            ]
          },
          "metadata": {},
          "execution_count": 33
        }
      ]
    },
    {
      "cell_type": "code",
      "source": [
        "print('model2의 테스트 결과 :')\n",
        "eval_loss, eval_acc = model2.evaluate(x_test, y_test)\n",
        "print('model2의 붓꽃 데이터의 분류 정확도 :', eval_acc)"
      ],
      "metadata": {
        "colab": {
          "base_uri": "https://localhost:8080/"
        },
        "id": "Otia6uQ0Agu3",
        "outputId": "524cf594-271f-4ed1-a2b0-701b9ada57e8"
      },
      "execution_count": null,
      "outputs": [
        {
          "output_type": "stream",
          "name": "stdout",
          "text": [
            "model2의 테스트 결과 :\n",
            "1/1 [==============================] - 0s 91ms/step - loss: 0.2378 - accuracy: 0.9667\n",
            "model2의 붓꽃 데이터의 분류 정확도 : 0.9666666388511658\n"
          ]
        }
      ]
    },
    {
      "cell_type": "code",
      "source": [
        "from tensorflow import keras\n",
        "\n",
        "# 세 번째 순차 모델을 생성하자\n",
        "model3 = keras.models.Sequential( [\n",
        "    keras.layers.Dense(32, activation= 'relu', input_shape = (4,)),\n",
        "    keras.layers.Dense(30, activation= 'relu'), # 새롭게 추가한 층\n",
        "    keras.layers.Dense(3, activation= 'softmax'),\n",
        "])\n",
        "\n",
        "# 모델 컴파일\n",
        "model3.compile(optimizer='adam',\\\n",
        "             loss='sparse_categorical_crossentropy',\\\n",
        "             metrics=['accuracy'])\n",
        "\n",
        "print('model3 학습중...')\n",
        "hist = model3.fit(x_train, y_train, epochs=30, batch_size=5)"
      ],
      "metadata": {
        "colab": {
          "base_uri": "https://localhost:8080/"
        },
        "id": "ExCkKWBM_wXF",
        "outputId": "3148a2f1-f026-4903-cdda-5d86f82fd107"
      },
      "execution_count": null,
      "outputs": [
        {
          "output_type": "stream",
          "name": "stdout",
          "text": [
            "model3 학습중...\n",
            "Epoch 1/30\n",
            "24/24 [==============================] - 1s 2ms/step - loss: 1.4125 - accuracy: 0.3250\n",
            "Epoch 2/30\n",
            "24/24 [==============================] - 0s 2ms/step - loss: 0.9782 - accuracy: 0.3917\n",
            "Epoch 3/30\n",
            "24/24 [==============================] - 0s 2ms/step - loss: 0.8604 - accuracy: 0.6917\n",
            "Epoch 4/30\n",
            "24/24 [==============================] - 0s 2ms/step - loss: 0.7584 - accuracy: 0.6917\n",
            "Epoch 5/30\n",
            "24/24 [==============================] - 0s 2ms/step - loss: 0.6716 - accuracy: 0.7000\n",
            "Epoch 6/30\n",
            "24/24 [==============================] - 0s 2ms/step - loss: 0.5915 - accuracy: 0.7000\n",
            "Epoch 7/30\n",
            "24/24 [==============================] - 0s 2ms/step - loss: 0.5446 - accuracy: 0.7417\n",
            "Epoch 8/30\n",
            "24/24 [==============================] - 0s 2ms/step - loss: 0.4875 - accuracy: 0.7500\n",
            "Epoch 9/30\n",
            "24/24 [==============================] - 0s 2ms/step - loss: 0.4593 - accuracy: 0.8583\n",
            "Epoch 10/30\n",
            "24/24 [==============================] - 0s 2ms/step - loss: 0.4202 - accuracy: 0.8333\n",
            "Epoch 11/30\n",
            "24/24 [==============================] - 0s 1ms/step - loss: 0.4052 - accuracy: 0.8750\n",
            "Epoch 12/30\n",
            "24/24 [==============================] - 0s 1ms/step - loss: 0.3717 - accuracy: 0.9250\n",
            "Epoch 13/30\n",
            "24/24 [==============================] - 0s 1ms/step - loss: 0.3513 - accuracy: 0.9083\n",
            "Epoch 14/30\n",
            "24/24 [==============================] - 0s 1ms/step - loss: 0.3327 - accuracy: 0.9250\n",
            "Epoch 15/30\n",
            "24/24 [==============================] - 0s 1ms/step - loss: 0.3132 - accuracy: 0.9167\n",
            "Epoch 16/30\n",
            "24/24 [==============================] - 0s 1ms/step - loss: 0.2904 - accuracy: 0.9333\n",
            "Epoch 17/30\n",
            "24/24 [==============================] - 0s 1ms/step - loss: 0.2721 - accuracy: 0.9417\n",
            "Epoch 18/30\n",
            "24/24 [==============================] - 0s 1ms/step - loss: 0.2626 - accuracy: 0.9250\n",
            "Epoch 19/30\n",
            "24/24 [==============================] - 0s 1ms/step - loss: 0.2371 - accuracy: 0.9667\n",
            "Epoch 20/30\n",
            "24/24 [==============================] - 0s 1ms/step - loss: 0.2368 - accuracy: 0.9583\n",
            "Epoch 21/30\n",
            "24/24 [==============================] - 0s 1ms/step - loss: 0.2247 - accuracy: 0.9583\n",
            "Epoch 22/30\n",
            "24/24 [==============================] - 0s 1ms/step - loss: 0.2145 - accuracy: 0.9250\n",
            "Epoch 23/30\n",
            "24/24 [==============================] - 0s 1ms/step - loss: 0.2013 - accuracy: 0.9667\n",
            "Epoch 24/30\n",
            "24/24 [==============================] - 0s 1ms/step - loss: 0.1996 - accuracy: 0.9750\n",
            "Epoch 25/30\n",
            "24/24 [==============================] - 0s 1ms/step - loss: 0.1805 - accuracy: 0.9667\n",
            "Epoch 26/30\n",
            "24/24 [==============================] - 0s 1ms/step - loss: 0.1801 - accuracy: 0.9750\n",
            "Epoch 27/30\n",
            "24/24 [==============================] - 0s 1ms/step - loss: 0.1766 - accuracy: 0.9583\n",
            "Epoch 28/30\n",
            "24/24 [==============================] - 0s 1ms/step - loss: 0.1665 - accuracy: 0.9583\n",
            "Epoch 29/30\n",
            "24/24 [==============================] - 0s 1ms/step - loss: 0.1677 - accuracy: 0.9583\n",
            "Epoch 30/30\n",
            "24/24 [==============================] - 0s 1ms/step - loss: 0.1583 - accuracy: 0.9583\n"
          ]
        }
      ]
    },
    {
      "cell_type": "code",
      "source": [
        "import matplotlib.pyplot as plt\n",
        "\n",
        "plt.plot(hist.history['loss'], 'b-', label='loss value')\n",
        "plt.legend()"
      ],
      "metadata": {
        "colab": {
          "base_uri": "https://localhost:8080/",
          "height": 448
        },
        "id": "X-5G3arxAsc9",
        "outputId": "c9b83c8a-4d40-4ae7-fc6c-c626ad4c3f5c"
      },
      "execution_count": null,
      "outputs": [
        {
          "output_type": "execute_result",
          "data": {
            "text/plain": [
              "<matplotlib.legend.Legend at 0x7863417a7370>"
            ]
          },
          "metadata": {},
          "execution_count": 36
        },
        {
          "output_type": "display_data",
          "data": {
            "text/plain": [
              "<Figure size 640x480 with 1 Axes>"
            ],
            "image/png": "[encoded data removed]"
          },
          "metadata": {}
        }
      ]
    },
    {
      "cell_type": "code",
      "source": [
        "plt.plot(hist.history['accuracy'], 'r-', label='accuracy')\n",
        "plt.legend()"
      ],
      "metadata": {
        "colab": {
          "base_uri": "https://localhost:8080/",
          "height": 449
        },
        "id": "wGkKs1hEAsfg",
        "outputId": "4727b91d-5dec-4860-c553-06b774939c73"
      },
      "execution_count": null,
      "outputs": [
        {
          "output_type": "execute_result",
          "data": {
            "text/plain": [
              "<matplotlib.legend.Legend at 0x786343bc3ac0>"
            ]
          },
          "metadata": {},
          "execution_count": 37
        },
        {
          "output_type": "display_data",
          "data": {
            "text/plain": [
              "<Figure size 640x480 with 1 Axes>"
            ],
            "image/png": "[encoded data removed]"
          },
          "metadata": {}
        }
      ]
    },
    {
      "cell_type": "markdown",
      "source": [
        "---\n",
        "### 03 딥러닝 모델을 저장하고 불러오기\n",
        "#### 붓꽃 데이터를 분류하는 모델"
      ],
      "metadata": {
        "id": "_siTs0DMAyxM"
      }
    },
    {
      "cell_type": "code",
      "source": [
        "model1.save('./iris_model1.h5')\n",
        "model2.save('./iris_model2.h5')"
      ],
      "metadata": {
        "id": "wghgmediAsiE"
      },
      "execution_count": null,
      "outputs": []
    },
    {
      "cell_type": "code",
      "source": [
        "!ls -l"
      ],
      "metadata": {
        "colab": {
          "base_uri": "https://localhost:8080/"
        },
        "id": "0bVDuoDnA14k",
        "outputId": "266519f7-112b-4e87-8cb1-3f89ef05e46a"
      },
      "execution_count": null,
      "outputs": [
        {
          "output_type": "stream",
          "name": "stdout",
          "text": [
            "total 164\n",
            "-rw-r--r-- 1 root root 28248 Feb 15 01:14 iris_model1.h5\n",
            "-rw-r--r-- 1 root root 45936 Feb 15 01:14 iris_model2.h5\n",
            "-rw-r--r-- 1 root root 84592 Feb 15 01:14 iris_model3.h5\n",
            "drwxr-xr-x 1 root root  4096 Feb 13 14:23 sample_data\n"
          ]
        }
      ]
    },
    {
      "cell_type": "code",
      "source": [
        "from google.colab import drive\n",
        "drive.mount('/content/drive')"
      ],
      "metadata": {
        "id": "KNeKPdnbA164",
        "colab": {
          "base_uri": "https://localhost:8080/"
        },
        "outputId": "d7e6fcaf-8b2b-47ca-b747-0fc994b69f55"
      },
      "execution_count": null,
      "outputs": [
        {
          "output_type": "stream",
          "name": "stdout",
          "text": [
            "Mounted at /content/drive\n"
          ]
        }
      ]
    },
    {
      "cell_type": "code",
      "source": [
        "# 구글 드라이브에 iris_model1, 2 파일을 저장하자\n",
        "model1.save('./drive/MyDrive/iris_model1.h5')\n",
        "model2.save('./drive/MyDrive/iris_model2.h5')"
      ],
      "metadata": {
        "id": "vvEOsJVcA19M"
      },
      "execution_count": null,
      "outputs": []
    },
    {
      "cell_type": "code",
      "source": [
        "loaded1 = keras.models.load_model('./drive/MyDrive/iris_model1.h5')"
      ],
      "metadata": {
        "id": "DbgQ1Jj3A1_z"
      },
      "execution_count": null,
      "outputs": []
    },
    {
      "cell_type": "code",
      "source": [
        "loaded1.summary()"
      ],
      "metadata": {
        "id": "Qp25dvTKAslN",
        "colab": {
          "base_uri": "https://localhost:8080/"
        },
        "outputId": "4f004a56-c43e-45d8-afbd-440d6b440d22"
      },
      "execution_count": null,
      "outputs": [
        {
          "output_type": "stream",
          "name": "stdout",
          "text": [
            "Model: \"sequential_3\"\n",
            "_________________________________________________________________\n",
            " Layer (type)                Output Shape              Param #   \n",
            "=================================================================\n",
            " dense_10 (Dense)            (None, 32)                160       \n",
            "                                                                 \n",
            " dense_11 (Dense)            (None, 3)                 99        \n",
            "                                                                 \n",
            "=================================================================\n",
            "Total params: 259 (1.01 KB)\n",
            "Trainable params: 259 (1.01 KB)\n",
            "Non-trainable params: 0 (0.00 Byte)\n",
            "_________________________________________________________________\n"
          ]
        }
      ]
    },
    {
      "cell_type": "code",
      "source": [
        "print('model1의 테스트 결과 :')\n",
        "eval_loss, eval_acc = model1.evaluate(x_test, y_test)\n",
        "print('model1의 붓꽃 데이터의 분류 정확도 :', eval_acc)"
      ],
      "metadata": {
        "colab": {
          "base_uri": "https://localhost:8080/"
        },
        "id": "HA6Z-eGKLOlt",
        "outputId": "ee5d89eb-51cb-45b5-c6ea-4b307c21df3f"
      },
      "execution_count": null,
      "outputs": [
        {
          "output_type": "stream",
          "name": "stdout",
          "text": [
            "model1의 테스트 결과 :\n",
            "1/1 [==============================] - 0s 110ms/step - loss: 0.5737 - accuracy: 0.6667\n",
            "model1의 붓꽃 데이터의 분류 정확도 : 0.6666666865348816\n"
          ]
        }
      ]
    },
    {
      "cell_type": "code",
      "source": [
        "print('loaded1의 테스트 결과 :')\n",
        "eval_loss, eval_acc = loaded1.evaluate(x_test, y_test)\n",
        "print('loaded1의 붓꽃 데이터의 분류 정확도 :', eval_acc)"
      ],
      "metadata": {
        "id": "s77hFWg6Asq8",
        "colab": {
          "base_uri": "https://localhost:8080/"
        },
        "outputId": "d43ea07e-84ec-4e43-bc33-e94b303cd4bc"
      },
      "execution_count": null,
      "outputs": [
        {
          "output_type": "stream",
          "name": "stdout",
          "text": [
            "loaded1의 테스트 결과 :\n",
            "1/1 [==============================] - 0s 234ms/step - loss: 0.5737 - accuracy: 0.6667\n",
            "loaded1의 붓꽃 데이터의 분류 정확도 : 0.6666666865348816\n"
          ]
        }
      ]
    },
    {
      "cell_type": "code",
      "source": [
        "loaded2 = keras.models.load_model('./drive/MyDrive/iris_model2.h5')\n",
        "loaded2.summary()"
      ],
      "metadata": {
        "id": "1BngGoI6Asnz",
        "colab": {
          "base_uri": "https://localhost:8080/"
        },
        "outputId": "6dad5d2b-ee9d-41af-b9ce-225b7bfbca19"
      },
      "execution_count": null,
      "outputs": [
        {
          "output_type": "stream",
          "name": "stdout",
          "text": [
            "Model: \"sequential_1\"\n",
            "_________________________________________________________________\n",
            " Layer (type)                Output Shape              Param #   \n",
            "=================================================================\n",
            " dense_3 (Dense)             (None, 32)                160       \n",
            "                                                                 \n",
            " dense_4 (Dense)             (None, 30)                990       \n",
            "                                                                 \n",
            " dense_5 (Dense)             (None, 3)                 93        \n",
            "                                                                 \n",
            "=================================================================\n",
            "Total params: 1243 (4.86 KB)\n",
            "Trainable params: 1243 (4.86 KB)\n",
            "Non-trainable params: 0 (0.00 Byte)\n",
            "_________________________________________________________________\n"
          ]
        }
      ]
    },
    {
      "cell_type": "markdown",
      "source": [
        "---\n",
        "### 04 회귀문제를 딥러닝을 통해서 풀어보자\n",
        "#### 회귀 문제를 위한 데이터를 만들고 해석하자"
      ],
      "metadata": {
        "id": "XlKt1v67obkf"
      }
    },
    {
      "cell_type": "code",
      "source": [
        "import numpy as np\n",
        "import matplotlib.pyplot as plt\n",
        "\n",
        "n = 100   # 100개의 점을 만들것이다\n",
        "x_data = np.random.normal(0, 1.1, n)\n",
        "y_data = .5 * x_data + 3  # y = .5x + 3 형태의 함수\n",
        "plt.plot(x_data, y_data, 'r')\n",
        "plt.scatter(x_data, y_data, c='b')"
      ],
      "metadata": {
        "id": "VGh7s9MHomrZ",
        "colab": {
          "base_uri": "https://localhost:8080/",
          "height": 448
        },
        "outputId": "fe7cfb13-0bd1-4b3b-f1ed-8f590697c9ac"
      },
      "execution_count": null,
      "outputs": [
        {
          "output_type": "execute_result",
          "data": {
            "text/plain": [
              "<matplotlib.collections.PathCollection at 0x786339f8c670>"
            ]
          },
          "metadata": {},
          "execution_count": 62
        },
        {
          "output_type": "display_data",
          "data": {
            "text/plain": [
              "<Figure size 640x480 with 1 Axes>"
            ],
            "image/png": "[encoded data removed]"
          },
          "metadata": {}
        }
      ]
    },
    {
      "cell_type": "code",
      "source": [
        "import numpy as np\n",
        "import matplotlib.pyplot as plt\n",
        "\n",
        "n = 100   # 100개의 점을 만들것이다\n",
        "x_data = np.random.normal(0, 1.1, n)\n",
        "y_data = .5 * x_data + 3  # y = .5x + 3 형태의 함수\n",
        "y_data += np.random.normal(0, .2, n)\n",
        "plt.scatter(x_data, y_data, c='b', label='Data')\n",
        "plt.legend()"
      ],
      "metadata": {
        "id": "xX-m76LkrUtj",
        "colab": {
          "base_uri": "https://localhost:8080/",
          "height": 448
        },
        "outputId": "8b6d38b0-ba1e-4343-8095-0f68d783de90"
      },
      "execution_count": null,
      "outputs": [
        {
          "output_type": "execute_result",
          "data": {
            "text/plain": [
              "<matplotlib.legend.Legend at 0x786339ff6e90>"
            ]
          },
          "metadata": {},
          "execution_count": 63
        },
        {
          "output_type": "display_data",
          "data": {
            "text/plain": [
              "<Figure size 640x480 with 1 Axes>"
            ],
            "image/png": "[encoded data removed]"
          },
          "metadata": {}
        }
      ]
    },
    {
      "cell_type": "markdown",
      "source": [
        "---\n",
        "#### 회귀 문제를 풀기 위한 순차 계층 모델"
      ],
      "metadata": {
        "id": "DOy8KynaRC4K"
      }
    },
    {
      "cell_type": "code",
      "source": [
        "import numpy as np\n",
        "import matplotlib.pyplot as plt\n",
        "\n",
        "n = 100   # 100개의 점을 만들것이다\n",
        "x_data = np.random.normal(0, 1.1, n)\n",
        "y_data = .5 * x_data + 3  # y = .5x + 3 형태의 함수\n",
        "y_data += np.random.normal(0, .2, n)\n",
        "plt.scatter(x_data, y_data, c='b', label='Data')\n",
        "plt.legend()"
      ],
      "metadata": {
        "colab": {
          "base_uri": "https://localhost:8080/",
          "height": 453
        },
        "id": "p0rfD11_SKG6",
        "outputId": "b96ed5cd-3e61-44b3-c247-b254489f6b72"
      },
      "execution_count": null,
      "outputs": [
        {
          "output_type": "execute_result",
          "data": {
            "text/plain": [
              "<matplotlib.legend.Legend at 0x786339e7fd90>"
            ]
          },
          "metadata": {},
          "execution_count": 65
        },
        {
          "output_type": "display_data",
          "data": {
            "text/plain": [
              "<Figure size 640x480 with 1 Axes>"
            ],
            "image/png": "[encoded data removed]"
          },
          "metadata": {}
        }
      ]
    },
    {
      "cell_type": "code",
      "source": [
        "import tensorflow as tf\n",
        "\n",
        "# keras의 다차원 계층 모델인 Sequential를 레이어를 만든다.\n",
        "model = tf.keras.models.Sequential()\n",
        "# 입력이 1차원이고 출력이 1차원 임을 뜻함 - Dense는 레이어의 종류\n",
        "model.add(tf.keras.layers.Dense(10, input_dim=1, activation='linear'))\n",
        "model.add(tf.keras.layers.Dense(10))\n",
        "model.add(tf.keras.layers.Dense(1))\n",
        "\n",
        "model.summary() # 모델 구조를 확인"
      ],
      "metadata": {
        "id": "ZMs1G7MBo-l-",
        "colab": {
          "base_uri": "https://localhost:8080/"
        },
        "outputId": "d0f1bb05-6728-445d-c1f0-3258c16f9e7e"
      },
      "execution_count": null,
      "outputs": [
        {
          "output_type": "stream",
          "name": "stdout",
          "text": [
            "Model: \"sequential_8\"\n",
            "_________________________________________________________________\n",
            " Layer (type)                Output Shape              Param #   \n",
            "=================================================================\n",
            " dense_24 (Dense)            (None, 10)                20        \n",
            "                                                                 \n",
            " dense_25 (Dense)            (None, 10)                110       \n",
            "                                                                 \n",
            " dense_26 (Dense)            (None, 1)                 11        \n",
            "                                                                 \n",
            "=================================================================\n",
            "Total params: 141 (564.00 Byte)\n",
            "Trainable params: 141 (564.00 Byte)\n",
            "Non-trainable params: 0 (0.00 Byte)\n",
            "_________________________________________________________________\n"
          ]
        }
      ]
    },
    {
      "cell_type": "code",
      "source": [
        "# 옵티마이저 - 확률적 경사 하강법\n",
        "sgd = tf.keras.optimizers.SGD(learning_rate=0.01)\n",
        "\n",
        "# 비용/손실 함수를 mean_squared_error 방식을 사용한다, mse 라고 써도 인식한다.\n",
        "model.compile(loss='mean_squared_error', optimizer=sgd)\n",
        "hist = model.fit(x_data, y_data, batch_size=10, epochs=10, verbose=1)"
      ],
      "metadata": {
        "id": "9yP7KUAMuiNX",
        "colab": {
          "base_uri": "https://localhost:8080/"
        },
        "outputId": "7a25f15b-f81a-4a3c-89f5-496cb2447459"
      },
      "execution_count": null,
      "outputs": [
        {
          "output_type": "stream",
          "name": "stdout",
          "text": [
            "Epoch 1/10\n",
            "10/10 [==============================] - 2s 10ms/step - loss: 4.9644\n",
            "Epoch 2/10\n",
            "10/10 [==============================] - 0s 9ms/step - loss: 0.2703\n",
            "Epoch 3/10\n",
            "10/10 [==============================] - 0s 9ms/step - loss: 0.0386\n",
            "Epoch 4/10\n",
            "10/10 [==============================] - 0s 6ms/step - loss: 0.0346\n",
            "Epoch 5/10\n",
            "10/10 [==============================] - 0s 10ms/step - loss: 0.0362\n",
            "Epoch 6/10\n",
            "10/10 [==============================] - 0s 9ms/step - loss: 0.0356\n",
            "Epoch 7/10\n",
            "10/10 [==============================] - 0s 10ms/step - loss: 0.0345\n",
            "Epoch 8/10\n",
            "10/10 [==============================] - 0s 15ms/step - loss: 0.0353\n",
            "Epoch 9/10\n",
            "10/10 [==============================] - 0s 15ms/step - loss: 0.0364\n",
            "Epoch 10/10\n",
            "10/10 [==============================] - 0s 10ms/step - loss: 0.0344\n"
          ]
        }
      ]
    },
    {
      "cell_type": "code",
      "source": [
        "# 훈련 과정 시각화 : 손실값 그래프\n",
        "plt.plot(hist.history['loss'])\n",
        "plt.xlabel('Epoch')\n",
        "plt.ylabel('Loss')"
      ],
      "metadata": {
        "id": "ZNmQixRDuyW-",
        "colab": {
          "base_uri": "https://localhost:8080/",
          "height": 466
        },
        "outputId": "21db2211-5a89-4ca3-809f-9f42f160ecee"
      },
      "execution_count": null,
      "outputs": [
        {
          "output_type": "execute_result",
          "data": {
            "text/plain": [
              "Text(0, 0.5, 'Loss')"
            ]
          },
          "metadata": {},
          "execution_count": 55
        },
        {
          "output_type": "display_data",
          "data": {
            "text/plain": [
              "<Figure size 640x480 with 1 Axes>"
            ],
            "image/png": "[encoded data removed]"
          },
          "metadata": {}
        }
      ]
    },
    {
      "cell_type": "code",
      "source": [
        "# 테스트 데이터를 만들고 이 데이터를 모델의 입력으로 넣어보자\n",
        "x_test = np.arange(min(x_data), max(x_data), 0.01)\n",
        "y_test = model.predict(x_test)\n",
        "\n",
        "plt.plot(x_test, y_test, 'r-') # 빨간색 실선\n",
        "plt.plot(x_data, y_data, 'bo')"
      ],
      "metadata": {
        "id": "umWjm9cpvBBu",
        "colab": {
          "base_uri": "https://localhost:8080/",
          "height": 464
        },
        "outputId": "71e8d823-7220-4d55-ee6d-5a672882345b"
      },
      "execution_count": null,
      "outputs": [
        {
          "output_type": "stream",
          "name": "stdout",
          "text": [
            "17/17 [==============================] - 0s 8ms/step\n"
          ]
        },
        {
          "output_type": "execute_result",
          "data": {
            "text/plain": [
              "[<matplotlib.lines.Line2D at 0x7e4d5b62bd60>]"
            ]
          },
          "metadata": {},
          "execution_count": 56
        },
        {
          "output_type": "display_data",
          "data": {
            "text/plain": [
              "<Figure size 640x480 with 1 Axes>"
            ],
            "image/png": "[encoded data removed]"
          },
          "metadata": {}
        }
      ]
    },
    {
      "cell_type": "code",
      "source": [
        "# 모델에 6개의 데이터를 넣고 결과를 확인하는 테스트\n",
        "for x in range(-3, 3):\n",
        "    # 입력 x에 대한 예측 값 출력\n",
        "    # 예측 값은 다차원 배열 형태이므로 이 형태에서 스칼라 값을 구함\n",
        "    pred = model.predict(np.array([x]))[0][0]\n",
        "    print(f'입력 : {x}, 모델의 출력 : {pred:.2f}')\n",
        "    print(f'입력 : {x}, .5 * x + 3.의 출력 : {.5*x+3.}')"
      ],
      "metadata": {
        "id": "uC-tQI4mwKLl",
        "colab": {
          "base_uri": "https://localhost:8080/"
        },
        "outputId": "4cd21564-5b5b-4244-bf99-8fab139d1d1a"
      },
      "execution_count": null,
      "outputs": [
        {
          "output_type": "stream",
          "name": "stdout",
          "text": [
            "1/1 [==============================] - 0s 176ms/step\n",
            "입력 : -3, 모델의 출력 : 1.51\n",
            "입력 : -3, .5 * x + 3.의 출력 : 1.5\n",
            "1/1 [==============================] - 0s 112ms/step\n",
            "입력 : -2, 모델의 출력 : 2.00\n",
            "입력 : -2, .5 * x + 3.의 출력 : 2.0\n",
            "1/1 [==============================] - 0s 97ms/step\n",
            "입력 : -1, 모델의 출력 : 2.50\n",
            "입력 : -1, .5 * x + 3.의 출력 : 2.5\n",
            "1/1 [==============================] - 0s 56ms/step\n",
            "입력 : 0, 모델의 출력 : 2.99\n",
            "입력 : 0, .5 * x + 3.의 출력 : 3.0\n",
            "1/1 [==============================] - 0s 126ms/step\n",
            "입력 : 1, 모델의 출력 : 3.49\n",
            "입력 : 1, .5 * x + 3.의 출력 : 3.5\n",
            "1/1 [==============================] - 0s 57ms/step\n",
            "입력 : 2, 모델의 출력 : 3.99\n",
            "입력 : 2, .5 * x + 3.의 출력 : 4.0\n"
          ]
        }
      ]
    },
    {
      "cell_type": "code",
      "source": [
        "# 입력값 3에 대한 모델의 예측값은 다차원 배열임\n",
        "pred = model.predict(np.array([3]))\n",
        "print(f'pred = {pred}')"
      ],
      "metadata": {
        "colab": {
          "base_uri": "https://localhost:8080/"
        },
        "id": "tupw0oziTV2T",
        "outputId": "c273bf89-9b96-4509-de07-abe98d1b6453"
      },
      "execution_count": null,
      "outputs": [
        {
          "output_type": "stream",
          "name": "stdout",
          "text": [
            "1/1 [==============================] - 0s 53ms/step\n",
            "pred = [[4.481589]]\n"
          ]
        }
      ]
    },
    {
      "cell_type": "code",
      "source": [
        "# 인덱싱을 통해서 스칼라 값을 추출하는 방법\n",
        "pred = model.predict(np.array([3]))[0][0]\n",
        "print(f'pred = {pred:.2f}')"
      ],
      "metadata": {
        "colab": {
          "base_uri": "https://localhost:8080/"
        },
        "id": "l7DBgV7RTYVI",
        "outputId": "6c7539f4-29e5-4eb4-eb5b-5e6e436966da"
      },
      "execution_count": null,
      "outputs": [
        {
          "output_type": "stream",
          "name": "stdout",
          "text": [
            "1/1 [==============================] - 0s 80ms/step\n",
            "pred = 4.48\n"
          ]
        }
      ]
    }
  ]
}