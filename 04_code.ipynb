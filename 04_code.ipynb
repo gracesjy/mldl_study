{
  "nbformat": 4,
  "nbformat_minor": 0,
  "metadata": {
    "colab": {
      "provenance": [],
      "include_colab_link": true
    },
    "kernelspec": {
      "name": "python3",
      "display_name": "Python 3"
    },
    "language_info": {
      "name": "python"
    }
  },
  "cells": [
    {
      "cell_type": "markdown",
      "metadata": {
        "id": "view-in-github",
        "colab_type": "text"
      },
      "source": [
        "<a href=\"https://colab.research.google.com/github/gracesjy/mldl_study/blob/main/04_code.ipynb\" target=\"_parent\"><img src=\"https://colab.research.google.com/assets/colab-badge.svg\" alt=\"Open In Colab\"/></a>"
      ]
    },
    {
      "cell_type": "markdown",
      "source": [
        "# **인피니티북스 \"누구나 쉽게 배우는 딥러닝 스타트\"(1판) 교재 소스 코드**\n",
        "\n",
        "## **4장 선형회귀와 경사하강법**\n",
        "---\n",
        "* 출판사 : 인피니티북스( https://www.infinitybooks.co.kr )\n",
        "* 저자 : 박동규\n",
        "* 소스코드 저장소 : https://github.com/dongupak/DLstart\n",
        "* 저작권 : 본 주피터 노트북 코드는 자유롭게 배포가능하지만 위의 출판사, 저자 표기와 함께 배포해 주십시오.\n",
        " * https://www.yes24.com/Product/Goods/124152667\n",
        " * 책의 오류는 dongupak@gmail.com 으로 알려주십시오.\n",
        "---"
      ],
      "metadata": {
        "id": "C1VD_O0csRDS"
      }
    },
    {
      "cell_type": "markdown",
      "source": [
        "### 02 오차와 오차의 측정\n",
        "#### 평균 절대값 오차와 평균 제곱 오차"
      ],
      "metadata": {
        "id": "bzcMkjMHsg72"
      }
    },
    {
      "cell_type": "code",
      "source": [
        "import numpy as np\n",
        "\n",
        "# 넘파이를 이용하여 구현한 평균 절대 오차\n",
        "y = np.array([1, 2, 3, 4, 5])                  # 실제 y값\n",
        "y_hat = np.array([1.2, 2.4, 2.5, 4.6, 5.4])    # 추정한 y값\n",
        "diff = np.abs(y - y_hat)                       # y_hat과 y 차이의 절대값\n",
        "e_mae = diff.sum() / len(diff)                 # 오차의 합/데이터의 수\n",
        "print('평균 절대 오차 =', e_mae)"
      ],
      "metadata": {
        "colab": {
          "base_uri": "https://localhost:8080/"
        },
        "id": "5rzc-M3xX3l3",
        "outputId": "3f91f6a9-d451-4cf2-f8ff-bb5c778ef491"
      },
      "execution_count": null,
      "outputs": [
        {
          "output_type": "stream",
          "name": "stdout",
          "text": [
            "평균 절대 오차 = 0.41999999999999993\n"
          ]
        }
      ]
    },
    {
      "cell_type": "code",
      "source": [
        "print('평균 절대 오차 =', np.average(diff))"
      ],
      "metadata": {
        "colab": {
          "base_uri": "https://localhost:8080/"
        },
        "id": "ixpbes5AK31q",
        "outputId": "972a06ce-3e47-4e52-f566-735ac7c45ad1"
      },
      "execution_count": null,
      "outputs": [
        {
          "output_type": "stream",
          "name": "stdout",
          "text": [
            "평균 절대 오차 = 0.41999999999999993\n"
          ]
        }
      ]
    },
    {
      "cell_type": "code",
      "source": [
        "from sklearn.metrics import mean_absolute_error\n",
        "\n",
        "# sklearn에서 제공하는 함수를 사용해보자. 위의 결과와 동일하다.\n",
        "print('평균 절대 오차 =', mean_absolute_error(y, y_hat))"
      ],
      "metadata": {
        "id": "xAlSJZHpYFLn",
        "colab": {
          "base_uri": "https://localhost:8080/"
        },
        "outputId": "7f845688-8404-49cd-8ca6-ed8e576b4982"
      },
      "execution_count": null,
      "outputs": [
        {
          "output_type": "stream",
          "name": "stdout",
          "text": [
            "평균 절대 오차 = 0.41999999999999993\n"
          ]
        }
      ]
    },
    {
      "cell_type": "markdown",
      "source": [
        "#### 평균 제곱 오차"
      ],
      "metadata": {
        "id": "Mirmal9EeM7l"
      }
    },
    {
      "cell_type": "code",
      "execution_count": null,
      "metadata": {
        "colab": {
          "base_uri": "https://localhost:8080/"
        },
        "id": "ihb8QKUAXsJN",
        "outputId": "9c9b2a60-1ea7-4fa3-9388-7f19f430cac3"
      },
      "outputs": [
        {
          "output_type": "stream",
          "name": "stdout",
          "text": [
            "평균 제곱 오차 = 0.19399999999999995\n"
          ]
        }
      ],
      "source": [
        "import numpy as np\n",
        "\n",
        "# 넘파이를 이용하여 구현한 평균 제곱 오차\n",
        "y = np.array([1, 2, 3, 4, 5])                 # 실제 y값\n",
        "y_hat = np.array([1.2, 2.4, 2.5, 4.6, 5.4])   # 추정한 y값\n",
        "diff = (y - y_hat) ** 2     # y_hat과 y의 차이값의 제곱\n",
        "e_mse = np.average(diff)\n",
        "print('평균 제곱 오차 =', e_mse)"
      ]
    },
    {
      "cell_type": "code",
      "source": [
        "from sklearn.metrics import mean_squared_error\n",
        "\n",
        "# sklearn에서 제공하는 함수를 사용해보자. 위의 결과와 동일하다.\n",
        "print('평균 제곱 오차 =', mean_squared_error(y, y_hat))"
      ],
      "metadata": {
        "colab": {
          "base_uri": "https://localhost:8080/"
        },
        "id": "YBK8qabpX0x4",
        "outputId": "4a834bf4-df6b-4005-c1ae-aa16099f05d6"
      },
      "execution_count": null,
      "outputs": [
        {
          "output_type": "stream",
          "name": "stdout",
          "text": [
            "평균 제곱 오차 = 0.19399999999999995\n"
          ]
        }
      ]
    },
    {
      "cell_type": "code",
      "source": [
        "import numpy as np\n",
        "\n",
        "# 넘파이를 이용하여 구현한 평균 절대 오차\n",
        "y = np.array([2, 4, 6, 8, 10])  # 실제 y값\n",
        "y_hat = np.array([2.1, 4.3, 5.5, 7.9, 10.1])  # 추정한 y값\n",
        "diff = np.abs(y_hat - y)     # y_hat과 y 차이의 절대값\n",
        "e_mae = np.average(diff)\n",
        "print('모델 A의 평균 절대 오차 =', e_mae)\n",
        "\n",
        "diff = (y - y_hat) ** 2     # y_hat과 y의 차이값의 제곱\n",
        "e_mse = np.average(diff)\n",
        "print('모델 A의 평균 제곱 오차 =', e_mse)"
      ],
      "metadata": {
        "colab": {
          "base_uri": "https://localhost:8080/"
        },
        "id": "SfmjCPFystHi",
        "outputId": "95c1158a-766c-4039-a803-71c2fee174ad"
      },
      "execution_count": null,
      "outputs": [
        {
          "output_type": "stream",
          "name": "stdout",
          "text": [
            "모델 A의 평균 절대 오차 = 0.21999999999999983\n",
            "모델 A의 평균 제곱 오차 = 0.07399999999999997\n"
          ]
        }
      ]
    },
    {
      "cell_type": "code",
      "source": [
        "from sklearn.metrics import mean_squared_error\n",
        "from sklearn.metrics import mean_absolute_error\n",
        "\n",
        "print('모델 A의 평균 제곱 오차 =', mean_absolute_error(y, y_hat))\n",
        "print('모델 A의 평균 절대 오차 =', mean_squared_error(y, y_hat))"
      ],
      "metadata": {
        "colab": {
          "base_uri": "https://localhost:8080/"
        },
        "id": "y9z5ir7HQ_BR",
        "outputId": "394ce157-7035-42bd-a273-ee675f013335"
      },
      "execution_count": null,
      "outputs": [
        {
          "output_type": "stream",
          "name": "stdout",
          "text": [
            "모델 A의 평균 제곱 오차 = 0.21999999999999983\n",
            "모델 A의 평균 절대 오차 = 0.07399999999999997\n"
          ]
        }
      ]
    },
    {
      "cell_type": "markdown",
      "source": [
        "---\n",
        "### 04 사이킷런을 이용한 선형 회귀\n",
        "#### 간단한 데이터로 선형 회귀를 수행해 보자"
      ],
      "metadata": {
        "id": "Um7WDSadYUrP"
      }
    },
    {
      "cell_type": "code",
      "source": [
        "import numpy as np\n",
        "from sklearn import linear_model  # scikit-learn 모듈을 가져온다\n",
        "\n",
        "# 선형회귀 모델을 생성한다\n",
        "regr = linear_model.LinearRegression()"
      ],
      "metadata": {
        "id": "QsW4MfcXSRV4"
      },
      "execution_count": null,
      "outputs": []
    },
    {
      "cell_type": "code",
      "source": [
        "X = [[163], [179], [166], [169], [171]]\n",
        "y = [54, 63, 57, 56, 58]\n",
        "regr.fit(X, y)"
      ],
      "metadata": {
        "colab": {
          "base_uri": "https://localhost:8080/",
          "height": 75
        },
        "id": "wc90SzWOYdDA",
        "outputId": "4a23b850-767a-4c31-a4ab-7c303ed75e5b"
      },
      "execution_count": null,
      "outputs": [
        {
          "output_type": "execute_result",
          "data": {
            "text/plain": [
              "LinearRegression()"
            ],
            "text/html": [
              "<style>#sk-container-id-5 {color: black;background-color: white;}#sk-container-id-5 pre{padding: 0;}#sk-container-id-5 div.sk-toggleable {background-color: white;}#sk-container-id-5 label.sk-toggleable__label {cursor: pointer;display: block;width: 100%;margin-bottom: 0;padding: 0.3em;box-sizing: border-box;text-align: center;}#sk-container-id-5 label.sk-toggleable__label-arrow:before {content: \"▸\";float: left;margin-right: 0.25em;color: #696969;}#sk-container-id-5 label.sk-toggleable__label-arrow:hover:before {color: black;}#sk-container-id-5 div.sk-estimator:hover label.sk-toggleable__label-arrow:before {color: black;}#sk-container-id-5 div.sk-toggleable__content {max-height: 0;max-width: 0;overflow: hidden;text-align: left;background-color: #f0f8ff;}#sk-container-id-5 div.sk-toggleable__content pre {margin: 0.2em;color: black;border-radius: 0.25em;background-color: #f0f8ff;}#sk-container-id-5 input.sk-toggleable__control:checked~div.sk-toggleable__content {max-height: 200px;max-width: 100%;overflow: auto;}#sk-container-id-5 input.sk-toggleable__control:checked~label.sk-toggleable__label-arrow:before {content: \"▾\";}#sk-container-id-5 div.sk-estimator input.sk-toggleable__control:checked~label.sk-toggleable__label {background-color: #d4ebff;}#sk-container-id-5 div.sk-label input.sk-toggleable__control:checked~label.sk-toggleable__label {background-color: #d4ebff;}#sk-container-id-5 input.sk-hidden--visually {border: 0;clip: rect(1px 1px 1px 1px);clip: rect(1px, 1px, 1px, 1px);height: 1px;margin: -1px;overflow: hidden;padding: 0;position: absolute;width: 1px;}#sk-container-id-5 div.sk-estimator {font-family: monospace;background-color: #f0f8ff;border: 1px dotted black;border-radius: 0.25em;box-sizing: border-box;margin-bottom: 0.5em;}#sk-container-id-5 div.sk-estimator:hover {background-color: #d4ebff;}#sk-container-id-5 div.sk-parallel-item::after {content: \"\";width: 100%;border-bottom: 1px solid gray;flex-grow: 1;}#sk-container-id-5 div.sk-label:hover label.sk-toggleable__label {background-color: #d4ebff;}#sk-container-id-5 div.sk-serial::before {content: \"\";position: absolute;border-left: 1px solid gray;box-sizing: border-box;top: 0;bottom: 0;left: 50%;z-index: 0;}#sk-container-id-5 div.sk-serial {display: flex;flex-direction: column;align-items: center;background-color: white;padding-right: 0.2em;padding-left: 0.2em;position: relative;}#sk-container-id-5 div.sk-item {position: relative;z-index: 1;}#sk-container-id-5 div.sk-parallel {display: flex;align-items: stretch;justify-content: center;background-color: white;position: relative;}#sk-container-id-5 div.sk-item::before, #sk-container-id-5 div.sk-parallel-item::before {content: \"\";position: absolute;border-left: 1px solid gray;box-sizing: border-box;top: 0;bottom: 0;left: 50%;z-index: -1;}#sk-container-id-5 div.sk-parallel-item {display: flex;flex-direction: column;z-index: 1;position: relative;background-color: white;}#sk-container-id-5 div.sk-parallel-item:first-child::after {align-self: flex-end;width: 50%;}#sk-container-id-5 div.sk-parallel-item:last-child::after {align-self: flex-start;width: 50%;}#sk-container-id-5 div.sk-parallel-item:only-child::after {width: 0;}#sk-container-id-5 div.sk-dashed-wrapped {border: 1px dashed gray;margin: 0 0.4em 0.5em 0.4em;box-sizing: border-box;padding-bottom: 0.4em;background-color: white;}#sk-container-id-5 div.sk-label label {font-family: monospace;font-weight: bold;display: inline-block;line-height: 1.2em;}#sk-container-id-5 div.sk-label-container {text-align: center;}#sk-container-id-5 div.sk-container {/* jupyter's `normalize.less` sets `[hidden] { display: none; }` but bootstrap.min.css set `[hidden] { display: none !important; }` so we also need the `!important` here to be able to override the default hidden behavior on the sphinx rendered scikit-learn.org. See: https://github.com/scikit-learn/scikit-learn/issues/21755 */display: inline-block !important;position: relative;}#sk-container-id-5 div.sk-text-repr-fallback {display: none;}</style><div id=\"sk-container-id-5\" class=\"sk-top-container\"><div class=\"sk-text-repr-fallback\"><pre>LinearRegression()</pre><b>In a Jupyter environment, please rerun this cell to show the HTML representation or trust the notebook. <br />On GitHub, the HTML representation is unable to render, please try loading this page with nbviewer.org.</b></div><div class=\"sk-container\" hidden><div class=\"sk-item\"><div class=\"sk-estimator sk-toggleable\"><input class=\"sk-toggleable__control sk-hidden--visually\" id=\"sk-estimator-id-5\" type=\"checkbox\" checked><label for=\"sk-estimator-id-5\" class=\"sk-toggleable__label sk-toggleable__label-arrow\">LinearRegression</label><div class=\"sk-toggleable__content\"><pre>LinearRegression()</pre></div></div></div></div></div>"
            ]
          },
          "metadata": {},
          "execution_count": 100
        }
      ]
    },
    {
      "cell_type": "code",
      "source": [
        "coef = regr.coef_            # 직선의 기울기\n",
        "intercept = regr.intercept_  # 직선의 절편\n",
        "score = regr.score(X, y)     # 학습된 직선이 데이터를 얼마나 잘 따르나\n",
        "\n",
        "print(\"y = {}* X + {:.2f}\".format(coef.round(2), intercept))\n",
        "print(\"데이터와 선형 회귀 직선의 관계점수: {:.1%}\".format(score))"
      ],
      "metadata": {
        "colab": {
          "base_uri": "https://localhost:8080/"
        },
        "id": "xmJGsTF5YfR9",
        "outputId": "862d43f7-0ace-4275-f9c4-a493f421342f"
      },
      "execution_count": null,
      "outputs": [
        {
          "output_type": "stream",
          "name": "stdout",
          "text": [
            "y = [0.53]* X + -32.50\n",
            "데이터와 선형 회귀 직선의 관계점수: 91.9%\n"
          ]
        }
      ]
    },
    {
      "cell_type": "markdown",
      "source": [
        "#### 데이터를 시각화하고 차원을 증가시키자\n",
        "\n",
        "\n",
        "\n"
      ],
      "metadata": {
        "id": "7lyCp7P0gRs_"
      }
    },
    {
      "cell_type": "code",
      "source": [
        "import matplotlib.pyplot as plt\n",
        "\n",
        "# 학습 데이터와 y값을 산포도로 그린다.\n",
        "plt.scatter(X, y, color='blue', marker='D')\n",
        "# 학습 데이터를 입력으로 하여 예측값을 계산한다.\n",
        "y_pred = regr.predict(X)\n",
        "# 계산된 기울기와 y 절편을 가지는 점선을 그려보자\n",
        "plt.plot(X, y_pred, 'r:')"
      ],
      "metadata": {
        "colab": {
          "base_uri": "https://localhost:8080/",
          "height": 448
        },
        "id": "nbjwYbMYYiuw",
        "outputId": "21687365-0ba8-4a6b-8a8d-fff12a9f31fd"
      },
      "execution_count": null,
      "outputs": [
        {
          "output_type": "execute_result",
          "data": {
            "text/plain": [
              "[<matplotlib.lines.Line2D at 0x7af6162cbc70>]"
            ]
          },
          "metadata": {},
          "execution_count": 102
        },
        {
          "output_type": "display_data",
          "data": {
            "text/plain": [
              "<Figure size 640x480 with 1 Axes>"
            ],
            "image/png": "[encoded data removed]"
          },
          "metadata": {}
        }
      ]
    },
    {
      "cell_type": "code",
      "source": [
        "unseen = [[167]]\n",
        "result = regr.predict(unseen)\n",
        "print('동민이의 키가 {}cm 이므로 몸무게는 {}kg으로 추정됨'.format(\\\n",
        "                      unseen, result.round(1)))"
      ],
      "metadata": {
        "colab": {
          "base_uri": "https://localhost:8080/"
        },
        "id": "GJfVa4PYYrHX",
        "outputId": "1156cbb2-272b-4942-ab27-4ea57a965ddb"
      },
      "execution_count": null,
      "outputs": [
        {
          "output_type": "stream",
          "name": "stdout",
          "text": [
            "동민이의 키가 [[167]]cm 이므로 몸무게는 [56.2]kg으로 추정됨\n"
          ]
        }
      ]
    },
    {
      "cell_type": "code",
      "source": [
        "regr = linear_model.LinearRegression()\n",
        "\n",
        "X = [[168, 0], [166, 0], [173, 0], [165, 0], [177, 0], [163, 0], \\\n",
        "     [178, 0], [172, 0], [163, 1], [162, 1], [171, 1], [162, 1], \\\n",
        "     [164, 1], [162, 1], [158, 1], [173, 1], ]    # 2차원 입력 데이터\n",
        "y = [65, 61, 68, 63, 68, 61, 76, 67, 55, 51, 59, 53, 61, 56, 44, 57]\n",
        "regr.fit(X, y)         # 학습시키기\n",
        "\n",
        "print('계수 :', regr.coef_ )\n",
        "print('절편 :', regr.intercept_)\n",
        "print('점수 :', regr.score(X, y))\n",
        "print('키 167cm 남학생인 동민이의 추정 몸무게 :', regr.predict([[167, 0]]))\n",
        "print('키 167cm 여학생인 은지의 추정 몸무게 :', regr.predict([[167, 1]]))"
      ],
      "metadata": {
        "colab": {
          "base_uri": "https://localhost:8080/"
        },
        "id": "bc_02AxCYulJ",
        "outputId": "26befa11-eab9-4709-a3da-a87209e95f4b"
      },
      "execution_count": null,
      "outputs": [
        {
          "output_type": "stream",
          "name": "stdout",
          "text": [
            "계수 : [ 0.75 -7.23]\n",
            "절편 : -61.22778389430634\n",
            "점수 : 0.8425933302504423\n",
            "키 167cm 남학생인 동민이의 추정 몸무게 : [63.69]\n",
            "키 167cm 여학생인 은지의 추정 몸무게 : [56.46]\n"
          ]
        }
      ]
    },
    {
      "cell_type": "markdown",
      "source": [
        "#### 오차 곡면을 알아보자"
      ],
      "metadata": {
        "id": "dBWn3NE4r_hS"
      }
    },
    {
      "cell_type": "code",
      "source": [
        "X = np.array([1, 4.5, 9, 10, 13])\n",
        "y = np.array([0, 0.2, 2.5, 5.4, 7.3])\n",
        "\n",
        "w, b = 0, 0   # w, b의 초기값을 0으로 두자\n",
        "learning_rate, epoch = 0.005, 1000 # 학습률과 학습 횟수(에폭)\n",
        "n = len(X)    # 입력 데이터 수\n",
        "\n",
        "for i in range(epoch):    # 학습 루프\n",
        "    y_pred = w*X + b      # 현재 w, b를 이용한 작업 T\n",
        "    error = y_pred - y    # 성능척도 P\n",
        "    w = w - learning_rate * (error * X).sum() # 경험 E로 개선\n",
        "    b = b - learning_rate * error.sum()\n",
        "\n",
        "print('w =', w.round(2), ', b =', b.round(2))"
      ],
      "metadata": {
        "colab": {
          "base_uri": "https://localhost:8080/"
        },
        "id": "PJXF5L0mY0lB",
        "outputId": "da330c23-ec69-4335-ce93-1d198c8fe87c"
      },
      "execution_count": null,
      "outputs": [
        {
          "output_type": "stream",
          "name": "stdout",
          "text": [
            "w = 0.63 , b = -1.65\n"
          ]
        }
      ]
    },
    {
      "cell_type": "markdown",
      "source": [
        "#### 경사 하강법과 학습률"
      ],
      "metadata": {
        "id": "sLOPOBlvsIck"
      }
    },
    {
      "cell_type": "code",
      "source": [
        "from sklearn import linear_model\n",
        "import numpy as np\n",
        "\n",
        "X = np.array([1, 4.5, 9, 10, 13])\n",
        "y = np.array([0, 0.2, 2.5, 5.4, 7.3])\n",
        "regr = linear_model.LinearRegression() # 절편값 b는 0으로 둔다\n",
        "X = X[:, np.newaxis]\n",
        "regr.fit(X, y)         # 학습\n",
        "\n",
        "print('w =', regr.coef_.round(2), \\\n",
        "     ', b =', regr.intercept_.round(2))"
      ],
      "metadata": {
        "colab": {
          "base_uri": "https://localhost:8080/"
        },
        "id": "XM31NvDUaBNv",
        "outputId": "f64c5907-4141-426c-b922-649a422060b7"
      },
      "execution_count": null,
      "outputs": [
        {
          "output_type": "stream",
          "name": "stdout",
          "text": [
            "w = [0.63] , b = -1.65\n"
          ]
        }
      ]
    },
    {
      "cell_type": "code",
      "source": [
        "import matplotlib.pyplot as plt\n",
        "import numpy as np\n",
        "\n",
        "X = np.array([1, 4.5, 9, 10, 13])\n",
        "y = np.array([0, 0.2, 2.5, 5.4, 7.3])\n",
        "plt.scatter(X, y, color='blue', marker='D')\n",
        "\n",
        "# 계산으로 구한 w, b를 이용하여 선형 회귀 직선을 그리자\n",
        "y_pred = 0.63 * X - 1.65\n",
        "plt.plot(X, y_pred, 'r:')"
      ],
      "metadata": {
        "colab": {
          "base_uri": "https://localhost:8080/",
          "height": 448
        },
        "id": "_hXsMpWSaFRm",
        "outputId": "4f703f57-83b6-48b0-a8e5-b06799076209"
      },
      "execution_count": null,
      "outputs": [
        {
          "output_type": "execute_result",
          "data": {
            "text/plain": [
              "[<matplotlib.lines.Line2D at 0x7af616f32b30>]"
            ]
          },
          "metadata": {},
          "execution_count": 57
        },
        {
          "output_type": "display_data",
          "data": {
            "text/plain": [
              "<Figure size 640x480 with 1 Axes>"
            ],
            "image/png": "[encoded data removed]"
          },
          "metadata": {}
        }
      ]
    },
    {
      "cell_type": "code",
      "source": [
        "# 학습률이 너무 작은 경우\n",
        "X = np.array([1, 4.5, 9, 10, 13])\n",
        "y = np.array([0, 0.2, 2.5, 5.4, 7.3])\n",
        "\n",
        "w, b = 0, 0   # w, b의 초기값을 0으로 두자\n",
        "learning_rate, epoch = 0.00001, 1000 # 학습률과 학습횟수(에폭)\n",
        "n = len(X)    # 입력 데이터 수\n",
        "\n",
        "for i in range(epoch):    # 학습 루프\n",
        "    y_pred = w*X + b      # 현재 w, b를 이용한 작업 T\n",
        "    error = y_pred - y    # 성능척도 P\n",
        "    w = w - learning_rate * (error * X).sum() # 경험 E로 개선\n",
        "    b = b - learning_rate * error.sum()\n",
        "\n",
        "print('w =', w.round(2), ', b =', b.round(2))"
      ],
      "metadata": {
        "colab": {
          "base_uri": "https://localhost:8080/"
        },
        "id": "QbwfgZVhsbXA",
        "outputId": "5b427bf7-f3c3-4360-c45c-f1dee519e657"
      },
      "execution_count": null,
      "outputs": [
        {
          "output_type": "stream",
          "name": "stdout",
          "text": [
            "w = 0.45 , b = 0.03\n"
          ]
        }
      ]
    },
    {
      "cell_type": "code",
      "source": [
        "# 학습률이 너무 큰 경우\n",
        "X = np.array([1, 4.5, 9, 10, 13])\n",
        "y = np.array([0, 0.2, 2.5, 5.4, 7.3])\n",
        "\n",
        "w, b = 0, 0   # w, b의 초기값을 0으로 두자\n",
        "learning_rate, epoch = 1.0, 1000 # 학습률과 학습횟수(에폭)\n",
        "n = len(X)    # 입력 데이터 수\n",
        "\n",
        "for i in range(epoch):    # 학습 루프\n",
        "    y_pred = w*X + b      # 현재 w, b를 이용한 작업 T\n",
        "    error = y_pred - y    # 성능척도 P\n",
        "    w = w - learning_rate * (error * X).sum() # 경험 E로 개선\n",
        "    b = b - learning_rate * error.sum()\n",
        "\n",
        "print('w =', w.round(2), ', b =', b.round(2))"
      ],
      "metadata": {
        "colab": {
          "base_uri": "https://localhost:8080/"
        },
        "id": "fArKmh1utfH-",
        "outputId": "6fb84b8a-d6e4-4fe8-b8a3-341750347b5f"
      },
      "execution_count": null,
      "outputs": [
        {
          "output_type": "stream",
          "name": "stdout",
          "text": [
            "w = nan , b = nan\n"
          ]
        },
        {
          "output_type": "stream",
          "name": "stderr",
          "text": [
            "/usr/local/lib/python3.10/dist-packages/numpy/core/_methods.py:49: RuntimeWarning: overflow encountered in reduce\n",
            "  return umr_sum(a, axis, dtype, out, keepdims, initial, where)\n",
            "<ipython-input-59-314e307df5c3>:12: RuntimeWarning: invalid value encountered in scalar subtract\n",
            "  w = w - learning_rate * (error * X).sum() # 경험 E로 개선\n"
          ]
        }
      ]
    },
    {
      "cell_type": "markdown",
      "source": [
        "#### 정규화와 표준화"
      ],
      "metadata": {
        "id": "W56AqxXni_wB"
      }
    },
    {
      "cell_type": "code",
      "source": [
        "import matplotlib.pyplot as plt\n",
        "from sklearn.preprocessing import StandardScaler\n",
        "\n",
        "yr = [15, 30, 23, 5, 9, 43, 33, 29, 3, 56]\n",
        "n_rooms = [2, 4, 3, 4, 4, 3, 3, 1, 1, 2]\n",
        "\n",
        "plt.scatter(yr, n_rooms, c='red')\n",
        "plt.xlim(0, 50)\n",
        "plt.ylim(0, 50)\n",
        "plt.xlabel('year')\n",
        "plt.ylabel('num of rooms')"
      ],
      "metadata": {
        "colab": {
          "base_uri": "https://localhost:8080/",
          "height": 473
        },
        "id": "M84zonhSwLF-",
        "outputId": "6f691748-6365-4a00-8c46-43ac1ce2a49e"
      },
      "execution_count": null,
      "outputs": [
        {
          "output_type": "execute_result",
          "data": {
            "text/plain": [
              "Text(0, 0.5, 'num of rooms')"
            ]
          },
          "metadata": {},
          "execution_count": 60
        },
        {
          "output_type": "display_data",
          "data": {
            "text/plain": [
              "<Figure size 640x480 with 1 Axes>"
            ],
            "image/png": "[encoded data removed]"
          },
          "metadata": {}
        }
      ]
    },
    {
      "cell_type": "code",
      "source": [
        "import numpy as np\n",
        "\n",
        "yr = np.array([15, 30, 23, 5, 9, 43, 33, 29, 3, 56])\n",
        "n_rooms = np.array([2, 4, 3, 4, 4, 3, 3, 1, 1, 2])\n",
        "\n",
        "print(f'정규화 이전의 yr: {yr}')\n",
        "sz = np.max(yr) - np.min(yr)\n",
        "np.set_printoptions(precision=2)\n",
        "print(f'정규화 이후의 yr: {((yr - np.min(yr))/sz)}')\n",
        "\n",
        "print(f'정규화 이전의 n_rooms: {n_rooms}')\n",
        "sz = np.max(n_rooms) - np.min(n_rooms)\n",
        "print(f'정규화 이후의 n_rooms: {((n_rooms - np.min(n_rooms))/sz)}')"
      ],
      "metadata": {
        "colab": {
          "base_uri": "https://localhost:8080/"
        },
        "id": "W6ZEaqFisMfR",
        "outputId": "c83dc352-b5c9-4a98-dc0f-2edb1baf038d"
      },
      "execution_count": null,
      "outputs": [
        {
          "output_type": "stream",
          "name": "stdout",
          "text": [
            "정규화 이전의 yr: [15 30 23  5  9 43 33 29  3 56]\n",
            "정규화 이후의 yr: [0.23 0.51 0.38 0.04 0.11 0.75 0.57 0.49 0.   1.  ]\n",
            "정규화 이전의 n_rooms: [2 4 3 4 4 3 3 1 1 2]\n",
            "정규화 이후의 n_rooms: [0.33 1.   0.67 1.   1.   0.67 0.67 0.   0.   0.33]\n"
          ]
        }
      ]
    },
    {
      "cell_type": "code",
      "source": [
        "import numpy as np\n",
        "import matplotlib.pyplot as plt\n",
        "from sklearn.preprocessing import MinMaxScaler\n",
        "\n",
        "yr = np.array([15, 30, 23, 5, 9, 43, 33, 29, 3, 56])\n",
        "n_rooms = np.array([2, 4, 3, 4, 4, 3, 3, 1, 1, 2])\n",
        "\n",
        "min_max_scaler = MinMaxScaler()\n",
        "yr_norm = min_max_scaler.fit_transform(yr[:, np.newaxis])\n",
        "n_rooms_norm = min_max_scaler.fit_transform(n_rooms[:, np.newaxis])\n",
        "\n",
        "plt.scatter(yr_norm, n_rooms_norm, c='red')\n",
        "plt.xlim(-0.1, 1.1)\n",
        "plt.ylim(-0.1, 1.1)\n",
        "plt.xlabel('year')\n",
        "plt.ylabel('num of rooms')"
      ],
      "metadata": {
        "id": "dOnSiazuaJ1H",
        "colab": {
          "base_uri": "https://localhost:8080/",
          "height": 467
        },
        "outputId": "ee85dcf3-258b-40af-b76c-9f0e3238764b"
      },
      "execution_count": null,
      "outputs": [
        {
          "output_type": "execute_result",
          "data": {
            "text/plain": [
              "Text(0, 0.5, 'num of rooms')"
            ]
          },
          "metadata": {},
          "execution_count": 62
        },
        {
          "output_type": "display_data",
          "data": {
            "text/plain": [
              "<Figure size 640x480 with 1 Axes>"
            ],
            "image/png": "[encoded data removed]"
          },
          "metadata": {}
        }
      ]
    },
    {
      "cell_type": "code",
      "source": [
        "import numpy as np\n",
        "\n",
        "yr = np.array([15, 30, 23, 5, 9, 43, 33, 29, 3, 56])\n",
        "n_rooms = np.array([2, 4, 3, 4, 4, 3, 3, 1, 1, 2])\n",
        "\n",
        "print(f'정규화 이전의 yr: {yr}')\n",
        "sz = np.max(yr) - np.min(yr)\n",
        "np.set_printoptions(precision=2) # 출력의 정밀도 설정\n",
        "print(f'정규화 이후의 yr: {((yr - np.min(yr))/sz)}')\n",
        "\n",
        "print(f'정규화 이전의 n_rooms: {n_rooms}')\n",
        "sz = np.max(n_rooms) - np.min(n_rooms)\n",
        "print(f'정규화 이후의 n_rooms: {((n_rooms - np.min(n_rooms))/sz)}')"
      ],
      "metadata": {
        "colab": {
          "base_uri": "https://localhost:8080/"
        },
        "id": "OhkLJloNF-yN",
        "outputId": "c2b51a94-b040-4236-f728-a227878683a2"
      },
      "execution_count": null,
      "outputs": [
        {
          "output_type": "stream",
          "name": "stdout",
          "text": [
            "정규화 이전의 yr: [15 30 23  5  9 43 33 29  3 56]\n",
            "정규화 이후의 yr: [0.23 0.51 0.38 0.04 0.11 0.75 0.57 0.49 0.   1.  ]\n",
            "정규화 이전의 n_rooms: [2 4 3 4 4 3 3 1 1 2]\n",
            "정규화 이후의 n_rooms: [0.33 1.   0.67 1.   1.   0.67 0.67 0.   0.   0.33]\n"
          ]
        }
      ]
    },
    {
      "cell_type": "code",
      "source": [
        "from sklearn.preprocessing import StandardScaler\n",
        "\n",
        "scaler = StandardScaler()\n",
        "# 표준화 데이터를 생성함\n",
        "yr_scaled_d = scaler.fit_transform(yr[:, np.newaxis])\n",
        "print(f'표준화 이전의 yr: {yr}')\n",
        "np.set_printoptions(precision=2)\n",
        "print(f'표준화 이후의 yr: {yr_scaled_d}')"
      ],
      "metadata": {
        "colab": {
          "base_uri": "https://localhost:8080/"
        },
        "id": "Ic8QL_RIvqp9",
        "outputId": "ddb2ad21-b43b-4554-b378-db3ea48604a8"
      },
      "execution_count": null,
      "outputs": [
        {
          "output_type": "stream",
          "name": "stdout",
          "text": [
            "표준화 이전의 yr: [15 30 23  5  9 43 33 29  3 56]\n",
            "표준화 이후의 yr: [[-0.59]\n",
            " [ 0.33]\n",
            " [-0.1 ]\n",
            " [-1.21]\n",
            " [-0.96]\n",
            " [ 1.13]\n",
            " [ 0.52]\n",
            " [ 0.27]\n",
            " [-1.33]\n",
            " [ 1.94]]\n"
          ]
        }
      ]
    },
    {
      "cell_type": "code",
      "source": [
        "print(f'표준화 이후의 yr: {yr_scaled_d.flatten()}')"
      ],
      "metadata": {
        "colab": {
          "base_uri": "https://localhost:8080/"
        },
        "id": "2dwv9D74wZMN",
        "outputId": "86ab96bb-0084-4f31-f96c-5f78818890e0"
      },
      "execution_count": null,
      "outputs": [
        {
          "output_type": "stream",
          "name": "stdout",
          "text": [
            "표준화 이후의 yr: [-0.59  0.33 -0.1  -1.21 -0.96  1.13  0.52  0.27 -1.33  1.94]\n"
          ]
        }
      ]
    }
  ]
}