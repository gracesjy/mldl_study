{
  "nbformat": 4,
  "nbformat_minor": 0,
  "metadata": {
    "colab": {
      "provenance": [],
      "include_colab_link": true
    },
    "kernelspec": {
      "name": "python3",
      "display_name": "Python 3"
    },
    "language_info": {
      "name": "python"
    }
  },
  "cells": [
    {
      "cell_type": "markdown",
      "metadata": {
        "id": "view-in-github",
        "colab_type": "text"
      },
      "source": [
        "<a href=\"https://colab.research.google.com/github/gracesjy/mldl_study/blob/main/06_code.ipynb\" target=\"_parent\"><img src=\"https://colab.research.google.com/assets/colab-badge.svg\" alt=\"Open In Colab\"/></a>"
      ]
    },
    {
      "cell_type": "markdown",
      "source": [
        "# **인피니티북스 \"누구나 쉽게 배우는 딥러닝 스타트\"(1판) 교재 소스 코드**\n",
        "\n",
        "## **6장 오차 역전파**\n",
        "---\n",
        "* 출판사 : 인피니티북스( https://www.infinitybooks.co.kr )\n",
        "* 저자 : 박동규\n",
        "* 소스코드 저장소 : https://github.com/dongupak/DLstart\n",
        "* 저작권 : 본 주피터 노트북 코드는 자유롭게 배포가능하지만 위의 출판사, 저자 표기와 함께 배포해 주십시오.\n",
        " * https://www.yes24.com/Product/Goods/124152667\n",
        " * 책의 오류는 dongupak@gmail.com 으로 알려주십시오.\n",
        "---"
      ],
      "metadata": {
        "id": "ST1JQvndN1TW"
      }
    },
    {
      "cell_type": "markdown",
      "source": [
        "### 02 역전파 알고리즘에 대한 직관적 이해\n",
        "#### 계산 그래프의 순방향 계산"
      ],
      "metadata": {
        "id": "O9U-2eodztdR"
      }
    },
    {
      "cell_type": "code",
      "source": [
        "# x, y, z 입력값 지정하기\n",
        "x, y, z = 100, 200, 0.5\n",
        "print('x =', x, 'y =', y, 'z =', z)\n",
        "\n",
        "# 순방향 패스를 계산하자\n",
        "q = x + y     # q는 300\n",
        "f = q * z     # f는 150\n",
        "print('순방향 패스의 결과 : q =', q, 'f =', f)"
      ],
      "metadata": {
        "colab": {
          "base_uri": "https://localhost:8080/"
        },
        "id": "b2zVe2mfzr0H",
        "outputId": "15793cee-51ba-4aee-8e0d-d5dc7cd6c784"
      },
      "execution_count": null,
      "outputs": [
        {
          "output_type": "stream",
          "name": "stdout",
          "text": [
            "x = 100 y = 200 z = 0.5\n",
            "순방향 패스의 결과 : q = 300 f = 150.0\n"
          ]
        }
      ]
    },
    {
      "cell_type": "markdown",
      "source": [
        "#### 계산 그래프의 역방향 계산"
      ],
      "metadata": {
        "id": "uJfvH1h-N1Le"
      }
    },
    {
      "cell_type": "code",
      "source": [
        "# 역방향 패스를 역순으로 수행하자\n",
        "# 최초 역전파는 f = q * z부터 시작함\n",
        "dfdz = q       # df/dz = q, z의 기울기는 300\n",
        "dfdq = z       # df/dq = z, q의 기울기는 0.5\n",
        "dqdx = 1.0\n",
        "dqdy = 1.0\n",
        "# q = x + y를 역전파 시켜보자\n",
        "dfdx = dfdq * dqdx  # 연쇄법칙에 의한 값\n",
        "dfdy = dfdq * dqdy\n",
        "\n",
        "print('df/dx = ', dfdx)\n",
        "print('df/dy = ', dfdy)\n",
        "print('df/dz = ', dfdz)"
      ],
      "metadata": {
        "colab": {
          "base_uri": "https://localhost:8080/"
        },
        "id": "LsAo6XbGzGB5",
        "outputId": "15c5f831-7449-44c5-9bc3-9948bcb992ba"
      },
      "execution_count": null,
      "outputs": [
        {
          "output_type": "stream",
          "name": "stdout",
          "text": [
            "df/dx =  0.5\n",
            "df/dy =  0.5\n",
            "df/dz =  300\n"
          ]
        }
      ]
    },
    {
      "cell_type": "markdown",
      "source": [
        "### 04 시그모이드 계층의 역전파\n",
        "#### 시그모이드 함수의 미분과 계산 그래프"
      ],
      "metadata": {
        "id": "fmy54YTBYJSy"
      }
    },
    {
      "cell_type": "code",
      "source": [
        "import math\n",
        "\n",
        "n0 = 1.0\n",
        "print('n0 =', n0)\n",
        "n1 = n0 * -1.0\n",
        "print('n1 =', n1)\n",
        "n2 = math.e ** (n1)  # e**(-1)\n",
        "print('n2 =', n2)\n",
        "n3 = n2 + 1\n",
        "print('n3 =', n3)\n",
        "n4 = 1/n3\n",
        "print('n4 =', n4)"
      ],
      "metadata": {
        "colab": {
          "base_uri": "https://localhost:8080/"
        },
        "id": "-wSDNFoiYQpk",
        "outputId": "a1edd5dc-4df3-441c-92dd-0948b35f6d9d"
      },
      "execution_count": null,
      "outputs": [
        {
          "output_type": "stream",
          "name": "stdout",
          "text": [
            "n0 = 1.0\n",
            "n1 = -1.0\n",
            "n2 = 0.36787944117144233\n",
            "n3 = 1.3678794411714423\n",
            "n4 = 0.7310585786300049\n"
          ]
        }
      ]
    },
    {
      "cell_type": "markdown",
      "source": [
        "### 05 ReLU 활성화 함수\n",
        "#### 활성화 함수의 중요성"
      ],
      "metadata": {
        "id": "fb7r6mrYDph1"
      }
    },
    {
      "cell_type": "code",
      "source": [
        "import numpy as np\n",
        "import matplotlib.pyplot as plt\n",
        "\n",
        "def sigmoid(x):\n",
        "    return 1 / (1 +np.exp(-x))\n",
        "\n",
        "print('sigmoid(-2) :', sigmoid(-2))\n",
        "print('sigmoid(-1) :', sigmoid(-1))\n",
        "print('sigmoid( 0) :', sigmoid(0))\n",
        "print('sigmoid( 1) :', sigmoid(1))\n",
        "print('sigmoid( 2) :', sigmoid(2))"
      ],
      "metadata": {
        "colab": {
          "base_uri": "https://localhost:8080/"
        },
        "id": "ebPZjS1frEWC",
        "outputId": "1632067b-2507-4b8d-fd1c-a0b17e97a176"
      },
      "execution_count": null,
      "outputs": [
        {
          "output_type": "stream",
          "name": "stdout",
          "text": [
            "sigmoid(-2) : 0.11920292202211755\n",
            "sigmoid(-1) : 0.2689414213699951\n",
            "sigmoid( 0) : 0.5\n",
            "sigmoid( 1) : 0.7310585786300049\n",
            "sigmoid( 2) : 0.8807970779778823\n"
          ]
        }
      ]
    },
    {
      "cell_type": "code",
      "source": [
        "inputs = np.arange(-6.0, 6.0, 0.1)   # 입력값의 범위\n",
        "outputs = sigmoid(inputs)\n",
        "\n",
        "plt.figure(figsize=(5, 3))\n",
        "plt.plot(inputs, outputs)\n",
        "plt.ylim(-0.1, 1.1)\n",
        "plt.title(\"sigmoid\",fontsize=12)\n",
        "plt.show()"
      ],
      "metadata": {
        "colab": {
          "base_uri": "https://localhost:8080/",
          "height": 314
        },
        "id": "iWEilv9prYIL",
        "outputId": "65eddd57-1aeb-4a34-85bf-b03884f47f89"
      },
      "execution_count": null,
      "outputs": [
        {
          "output_type": "display_data",
          "data": {
            "text/plain": [
              "<Figure size 500x300 with 1 Axes>"
            ],
            "image/png": "[encoded data removed]"
          },
          "metadata": {}
        }
      ]
    },
    {
      "cell_type": "markdown",
      "source": [
        "#### ReLU 함수를 그려보자"
      ],
      "metadata": {
        "id": "te3PWz0DPAoF"
      }
    },
    {
      "cell_type": "code",
      "source": [
        "import numpy as np\n",
        "import matplotlib.pyplot as plt\n",
        "\n",
        "def ReLU(x):\n",
        "    return np.maximum(0, x)\n",
        "\n",
        "print('ReLU(-2) :', ReLU(-2))\n",
        "print('ReLU(-1) :', ReLU(-1))\n",
        "print('ReLU( 0) :', ReLU(0))\n",
        "print('ReLU( 1) :', ReLU(1))\n",
        "print('ReLU( 2) :', ReLU(2))"
      ],
      "metadata": {
        "colab": {
          "base_uri": "https://localhost:8080/"
        },
        "id": "tWhRdkIuDrhi",
        "outputId": "8215fedb-5b34-45d8-a03e-8232b75a2d8e"
      },
      "execution_count": null,
      "outputs": [
        {
          "output_type": "stream",
          "name": "stdout",
          "text": [
            "ReLU(-2) : 0\n",
            "ReLU(-1) : 0\n",
            "ReLU( 0) : 0\n",
            "ReLU( 1) : 1\n",
            "ReLU( 2) : 2\n"
          ]
        }
      ]
    },
    {
      "cell_type": "code",
      "source": [
        "inputs = np.arange(-6, 6, .1)\n",
        "outputs = ReLU(inputs)\n",
        "\n",
        "plt.figure(figsize=(5, 3))\n",
        "plt.plot(inputs, outputs, label='ReLU')\n",
        "plt.hlines(0, -6, 6)\n",
        "plt.vlines(0, 0, 6)\n",
        "plt.title(\"ReLU\",fontsize=12)\n",
        "plt.show()"
      ],
      "metadata": {
        "colab": {
          "base_uri": "https://localhost:8080/",
          "height": 314
        },
        "id": "FjG9m8B2D6Z3",
        "outputId": "c37a08d2-eea2-4b9a-e0f2-4839de8a8d63"
      },
      "execution_count": null,
      "outputs": [
        {
          "output_type": "display_data",
          "data": {
            "text/plain": [
              "<Figure size 500x300 with 1 Axes>"
            ],
            "image/png": "[encoded data removed]"
          },
          "metadata": {}
        }
      ]
    }
  ]
}