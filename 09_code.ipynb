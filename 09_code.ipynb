{
  "nbformat": 4,
  "nbformat_minor": 0,
  "metadata": {
    "colab": {
      "provenance": [],
      "gpuType": "T4",
      "include_colab_link": true
    },
    "kernelspec": {
      "name": "python3",
      "display_name": "Python 3"
    },
    "language_info": {
      "name": "python"
    },
    "accelerator": "GPU"
  },
  "cells": [
    {
      "cell_type": "markdown",
      "metadata": {
        "id": "view-in-github",
        "colab_type": "text"
      },
      "source": [
        "<a href=\"https://colab.research.google.com/github/gracesjy/mldl_study/blob/main/09_code.ipynb\" target=\"_parent\"><img src=\"https://colab.research.google.com/assets/colab-badge.svg\" alt=\"Open In Colab\"/></a>"
      ]
    },
    {
      "cell_type": "markdown",
      "source": [
        "# **인피니티북스 \"누구나 쉽게 배우는 딥러닝 스타트\"(1판) 교재 소스 코드**\n",
        "\n",
        "\n",
        "## **9장 딥러닝을 깊이 알아보자**\n",
        "---\n",
        "* 출판사 : 인피니티북스( https://www.infinitybooks.co.kr )\n",
        "* 딥러닝 스타트 저자 : 박동규\n",
        "*  소스코드 저장소 : https://github.com/dongupak/DLstart\n",
        "*  저작권 : 본 주피터 노트북 코드는 자유롭게 배포가능하지만 위의 출판사, 저자 표기와 함께 배포해 주십시오.\n",
        " * https://www.yes24.com/Product/Goods/124152667\n",
        " * 책의 오류는 dongupak@gmail.com 으로 알려주십시오.\n",
        "---"
      ],
      "metadata": {
        "id": "ST1JQvndN1TW"
      }
    },
    {
      "cell_type": "markdown",
      "source": [
        "### 02 딥러닝 모델의 실력을 알아보기\n",
        "#### 모델의 정확도가 가지는 문제점"
      ],
      "metadata": {
        "id": "HfB6nx6KuoEO"
      }
    },
    {
      "cell_type": "code",
      "source": [
        "# 입력값 x에 관계없이 0을 반환하는 대충 만든 분류기\n",
        "def classifier_A(x):\n",
        "    return 0  # setosa 레이블 0만을 반환함"
      ],
      "metadata": {
        "id": "mRez2gFglwpZ"
      },
      "execution_count": null,
      "outputs": []
    },
    {
      "cell_type": "code",
      "source": [
        "import numpy as np\n",
        "from sklearn.datasets import load_iris\n",
        "\n",
        "iris_ds = load_iris()  # 붓꽃 데이터셋 가져오기\n",
        "# 49개의 0(setosa), 1개의 1(versicolor)을 가지는 데이터\n",
        "biased_iris_ds = iris_ds['data'][1:51]\n",
        "biased_iris_target = iris_ds['target'][1:51]\n",
        "\n",
        "print(biased_iris_ds[:5])"
      ],
      "metadata": {
        "id": "0VrdTYX_usSc",
        "colab": {
          "base_uri": "https://localhost:8080/"
        },
        "outputId": "957c60c3-9b9f-4b50-c47d-725680472432"
      },
      "execution_count": null,
      "outputs": [
        {
          "output_type": "stream",
          "name": "stdout",
          "text": [
            "[[4.9 3.  1.4 0.2]\n",
            " [4.7 3.2 1.3 0.2]\n",
            " [4.6 3.1 1.5 0.2]\n",
            " [5.  3.6 1.4 0.2]\n",
            " [5.4 3.9 1.7 0.4]]\n"
          ]
        }
      ]
    },
    {
      "cell_type": "code",
      "source": [
        "# 49개의 0(setosa), 1개의 1(versicolor)을 가지는 데이터\n",
        "print(biased_iris_target)"
      ],
      "metadata": {
        "id": "uB_ICYQ-yq5d",
        "colab": {
          "base_uri": "https://localhost:8080/"
        },
        "outputId": "a9f0ef62-822a-44e2-d110-a59d243ac924"
      },
      "execution_count": null,
      "outputs": [
        {
          "output_type": "stream",
          "name": "stdout",
          "text": [
            "[0 0 0 0 0 0 0 0 0 0 0 0 0 0 0 0 0 0 0 0 0 0 0 0 0 0 0 0 0 0 0 0 0 0 0 0 0\n",
            " 0 0 0 0 0 0 0 0 0 0 0 0 1]\n"
          ]
        }
      ]
    },
    {
      "cell_type": "code",
      "source": [
        "result = []\n",
        "for x in biased_iris_ds:\n",
        "    result.append(classifier_A(x))\n",
        "\n",
        "print('분류 결과:')\n",
        "print(np.array(result))"
      ],
      "metadata": {
        "colab": {
          "base_uri": "https://localhost:8080/"
        },
        "id": "W0MjH8Pp8EeM",
        "outputId": "ff55a028-6be5-4304-9fe7-f56ff0ec6720"
      },
      "execution_count": null,
      "outputs": [
        {
          "output_type": "stream",
          "name": "stdout",
          "text": [
            "분류 결과:\n",
            "[0 0 0 0 0 0 0 0 0 0 0 0 0 0 0 0 0 0 0 0 0 0 0 0 0 0 0 0 0 0 0 0 0 0 0 0 0\n",
            " 0 0 0 0 0 0 0 0 0 0 0 0 0]\n"
          ]
        }
      ]
    },
    {
      "cell_type": "code",
      "source": [
        "from sklearn.metrics import accuracy_score\n",
        "\n",
        "print('classifier_A(x)의 분류 성능 :')\n",
        "accuracy_score(biased_iris_target, result)"
      ],
      "metadata": {
        "colab": {
          "base_uri": "https://localhost:8080/"
        },
        "id": "mEpiw3-98HuR",
        "outputId": "6306977b-a5ad-4c81-a1f7-86d358992f02"
      },
      "execution_count": null,
      "outputs": [
        {
          "output_type": "stream",
          "name": "stdout",
          "text": [
            "classifier_A(x)의 분류 성능 :\n"
          ]
        },
        {
          "output_type": "execute_result",
          "data": {
            "text/plain": [
              "0.98"
            ]
          },
          "metadata": {},
          "execution_count": 6
        }
      ]
    },
    {
      "cell_type": "markdown",
      "source": [
        "#### 데이터의 편향과 데이터 증강"
      ],
      "metadata": {
        "id": "JVWQifAtmOKX"
      }
    },
    {
      "cell_type": "code",
      "source": [
        "import numpy as np\n",
        "from sklearn.datasets import load_iris\n",
        "\n",
        "iris_ds = load_iris()  # 붓꽃 데이터셋 가져오기\n",
        "# 50개의 0(setosa), 50개의 1(versicolor)을 가지는 데이터\n",
        "balanced_iris_ds = iris_ds['data'][:100]\n",
        "balanced_iris_target = iris_ds['target'][:100]\n",
        "\n",
        "result = []\n",
        "for x in balanced_iris_ds:\n",
        "    result.append(classifier_A(x))\n",
        "\n",
        "print('엉터리 분리기의 분류 결과:')\n",
        "print(np.array(result))"
      ],
      "metadata": {
        "colab": {
          "base_uri": "https://localhost:8080/"
        },
        "id": "ZuzEiKgvJG_P",
        "outputId": "f26a0773-7f9b-476d-ad74-0af36ddb4b14"
      },
      "execution_count": null,
      "outputs": [
        {
          "output_type": "stream",
          "name": "stdout",
          "text": [
            "엉터리 분리기의 분류 결과:\n",
            "[0 0 0 0 0 0 0 0 0 0 0 0 0 0 0 0 0 0 0 0 0 0 0 0 0 0 0 0 0 0 0 0 0 0 0 0 0\n",
            " 0 0 0 0 0 0 0 0 0 0 0 0 0 0 0 0 0 0 0 0 0 0 0 0 0 0 0 0 0 0 0 0 0 0 0 0 0\n",
            " 0 0 0 0 0 0 0 0 0 0 0 0 0 0 0 0 0 0 0 0 0 0 0 0 0 0]\n"
          ]
        }
      ]
    },
    {
      "cell_type": "code",
      "source": [
        "from sklearn.metrics import accuracy_score\n",
        "\n",
        "print('엉터리 분류기 classifier_A(x)의 분류 성능 :')\n",
        "accuracy_score(balanced_iris_target, result)"
      ],
      "metadata": {
        "colab": {
          "base_uri": "https://localhost:8080/"
        },
        "id": "gyEz68GmJZro",
        "outputId": "02914317-3a53-49db-b018-417ac669627f"
      },
      "execution_count": null,
      "outputs": [
        {
          "output_type": "stream",
          "name": "stdout",
          "text": [
            "엉터리 분류기 classifier_A(x)의 분류 성능 :\n"
          ]
        },
        {
          "output_type": "execute_result",
          "data": {
            "text/plain": [
              "0.5"
            ]
          },
          "metadata": {},
          "execution_count": 8
        }
      ]
    },
    {
      "cell_type": "markdown",
      "source": [
        "---\n",
        "#### 사이킷런의 성능지표 함수들"
      ],
      "metadata": {
        "id": "srnl65pVNaS2"
      }
    },
    {
      "cell_type": "code",
      "source": [
        "target = np.array([0] * 10 + [1] * 10)\n",
        "target  # 10개의 0(Negative), 10개의 1(Positive)를 가짐"
      ],
      "metadata": {
        "colab": {
          "base_uri": "https://localhost:8080/"
        },
        "id": "Vmc3o9VkNiVj",
        "outputId": "0abc0dc6-fcf0-416a-c3ad-93a7098c8ad7"
      },
      "execution_count": null,
      "outputs": [
        {
          "output_type": "execute_result",
          "data": {
            "text/plain": [
              "array([0, 0, 0, 0, 0, 0, 0, 0, 0, 0, 1, 1, 1, 1, 1, 1, 1, 1, 1, 1])"
            ]
          },
          "metadata": {},
          "execution_count": 7
        }
      ]
    },
    {
      "cell_type": "code",
      "source": [
        "pred = np.array([0,0,0,0,0,1,1,1,0,0,1,1,1,1,1,1,0,0,1,1])"
      ],
      "metadata": {
        "id": "oM_8isx4NoWZ"
      },
      "execution_count": null,
      "outputs": []
    },
    {
      "cell_type": "code",
      "source": [
        "from sklearn.metrics import confusion_matrix\n",
        "confusion_matrix(target, pred)   # 혼동행렬 만들기"
      ],
      "metadata": {
        "colab": {
          "base_uri": "https://localhost:8080/"
        },
        "id": "EmVOJv1cNpNJ",
        "outputId": "40cf56ce-289c-4ab2-9e0b-deabd113c10f"
      },
      "execution_count": null,
      "outputs": [
        {
          "output_type": "execute_result",
          "data": {
            "text/plain": [
              "array([[7, 3],\n",
              "       [2, 8]])"
            ]
          },
          "metadata": {},
          "execution_count": 10
        }
      ]
    },
    {
      "cell_type": "code",
      "source": [
        "from sklearn.metrics import precision_score, recall_score\n",
        "\n",
        "print('정밀도 :', precision_score(target, pred))\n",
        "print('재현율 :', recall_score(target, pred))\n",
        "\n",
        "from sklearn.metrics import accuracy_score, f1_score\n",
        "\n",
        "print('정확도 :', accuracy_score(target, pred))\n",
        "print('F1점수 :', f1_score(target, pred))"
      ],
      "metadata": {
        "colab": {
          "base_uri": "https://localhost:8080/"
        },
        "id": "16e28lyxNtAy",
        "outputId": "a1ad2885-8603-4b6e-bcdc-e6eb4410b3ab"
      },
      "execution_count": null,
      "outputs": [
        {
          "output_type": "stream",
          "name": "stdout",
          "text": [
            "정밀도 : 0.7272727272727273\n",
            "재현율 : 0.8\n",
            "정확도 : 0.75\n",
            "F1점수 : 0.761904761904762\n"
          ]
        }
      ]
    },
    {
      "cell_type": "markdown",
      "source": [
        "---\n",
        "### 03 다양한 스케일러를 알아보자"
      ],
      "metadata": {
        "id": "Umu5yLEDgY0u"
      }
    },
    {
      "cell_type": "code",
      "source": [
        "import numpy as np\n",
        "import matplotlib.pyplot as plt\n",
        "\n",
        "# 0에서 1000 범위의 난수 생성\n",
        "game_level = np.random.rand(100) * 1000\n",
        "# 0에서 100 범위의 난수 생성\n",
        "game_time = np.random.rand(100) * 100\n",
        "\n",
        "# 게임사 A의 게임 이용자 분석: 산포도 그래프\n",
        "plt.title(\"Game player data\")\n",
        "plt.xlabel('Time spent')\n",
        "plt.ylabel('Game level')\n",
        "plt.scatter(game_time, game_level)"
      ],
      "metadata": {
        "colab": {
          "base_uri": "https://localhost:8080/",
          "height": 490
        },
        "id": "4afwEpSwgX2O",
        "outputId": "77e30555-7773-4ecf-b329-1048c0a0359f"
      },
      "execution_count": null,
      "outputs": [
        {
          "output_type": "execute_result",
          "data": {
            "text/plain": [
              "<matplotlib.collections.PathCollection at 0x7b988d3ca8f0>"
            ]
          },
          "metadata": {},
          "execution_count": 24
        },
        {
          "output_type": "display_data",
          "data": {
            "text/plain": [
              "<Figure size 640x480 with 1 Axes>"
            ],
            "image/png": "[encoded data removed]"
          },
          "metadata": {}
        }
      ]
    },
    {
      "cell_type": "code",
      "source": [
        "# 동일한 축적으로 데이터를 시각화하자\n",
        "plt.xlim(0, 1000); plt.ylim(0, 1000)\n",
        "plt.scatter(game_time, game_level)"
      ],
      "metadata": {
        "colab": {
          "base_uri": "https://localhost:8080/",
          "height": 453
        },
        "id": "p7yX3b-7hnVy",
        "outputId": "72df82a5-6e5f-4abf-fe2d-78313d89e2b1"
      },
      "execution_count": null,
      "outputs": [
        {
          "output_type": "execute_result",
          "data": {
            "text/plain": [
              "<matplotlib.collections.PathCollection at 0x7b988d3e34f0>"
            ]
          },
          "metadata": {},
          "execution_count": 25
        },
        {
          "output_type": "display_data",
          "data": {
            "text/plain": [
              "<Figure size 640x480 with 1 Axes>"
            ],
            "image/png": "[encoded data removed]"
          },
          "metadata": {}
        }
      ]
    },
    {
      "cell_type": "code",
      "source": [
        "# game_time, game_level 리스트를 하나로 묶어서 2d 배열을 생성\n",
        "gamer_data = np.array(list(zip(game_time, game_level)))\n",
        "print(gamer_data[:5])"
      ],
      "metadata": {
        "colab": {
          "base_uri": "https://localhost:8080/"
        },
        "id": "BRM_1XkzjPjA",
        "outputId": "548b0582-d181-4ed4-b5d3-1212619b840b"
      },
      "execution_count": null,
      "outputs": [
        {
          "output_type": "stream",
          "name": "stdout",
          "text": [
            "[[ 35.64645943 475.22305186]\n",
            " [ 73.30217626 307.67412338]\n",
            " [ 24.5713591  535.21891496]\n",
            " [ 51.8985015  546.29885696]\n",
            " [ 31.63144018 724.19421389]]\n"
          ]
        }
      ]
    },
    {
      "cell_type": "code",
      "source": [
        "from sklearn.preprocessing import MinMaxScaler\n",
        "\n",
        "scaler = MinMaxScaler()    # min-max 스케일러 객체 생성\n",
        "scaler.fit(gamer_data)     # gamer_data를 피팅\n",
        "n_data = scaler.transform(gamer_data)  # gamer_data를 0에서 1 사이 값으로\n",
        "n_data[:, 0].mean(), n_data[:, 1].mean()"
      ],
      "metadata": {
        "colab": {
          "base_uri": "https://localhost:8080/"
        },
        "id": "S7coTrf6hyTx",
        "outputId": "65908524-0eee-43f9-c656-2d77a1b84a56"
      },
      "execution_count": null,
      "outputs": [
        {
          "output_type": "execute_result",
          "data": {
            "text/plain": [
              "(0.48181705233359196, 0.5311067100702669)"
            ]
          },
          "metadata": {},
          "execution_count": 27
        }
      ]
    },
    {
      "cell_type": "code",
      "source": [
        "n_data[:, 0].min(), n_data[:, 0].max() # 첫 번째 열의 최소값, 최대값최대값"
      ],
      "metadata": {
        "colab": {
          "base_uri": "https://localhost:8080/"
        },
        "id": "Je-XCrY5lr2y",
        "outputId": "d8d27115-94bc-4202-f081-d9a0506a5f56"
      },
      "execution_count": null,
      "outputs": [
        {
          "output_type": "execute_result",
          "data": {
            "text/plain": [
              "(0.0, 1.0)"
            ]
          },
          "metadata": {},
          "execution_count": 28
        }
      ]
    },
    {
      "cell_type": "code",
      "source": [
        "n_data[:, 1].min(), n_data[:, 1].max() # 두 번째 열의 최소값, 최대값"
      ],
      "metadata": {
        "colab": {
          "base_uri": "https://localhost:8080/"
        },
        "id": "ijvRSvUmlxM_",
        "outputId": "ee6866e2-7844-4b91-890c-ef3111f10c28"
      },
      "execution_count": null,
      "outputs": [
        {
          "output_type": "execute_result",
          "data": {
            "text/plain": [
              "(0.0, 1.0000000000000002)"
            ]
          },
          "metadata": {},
          "execution_count": 29
        }
      ]
    },
    {
      "cell_type": "code",
      "source": [
        "import numpy as np\n",
        "\n",
        "a = np.array([10, 8, 10, 8, 8, 4])\n",
        "print('합계 :', a.sum())\n",
        "print('평균 :', a.mean())\n",
        "print('분산 :', a.var())\n",
        "print('표준편차 :', a.std())"
      ],
      "metadata": {
        "colab": {
          "base_uri": "https://localhost:8080/"
        },
        "id": "oalxaFXcl0pU",
        "outputId": "79855a88-781c-4c12-f60b-bc70310e209b"
      },
      "execution_count": null,
      "outputs": [
        {
          "output_type": "stream",
          "name": "stdout",
          "text": [
            "합계 : 48\n",
            "평균 : 8.0\n",
            "분산 : 4.0\n",
            "표준편차 : 2.0\n"
          ]
        }
      ]
    },
    {
      "cell_type": "code",
      "source": [
        "from sklearn.preprocessing import StandardScaler\n",
        "\n",
        "standardScaler = StandardScaler()\n",
        "standardScaler.fit(gamer_data)\n",
        "gamer_data_scaled = standardScaler.transform(gamer_data)\n",
        "\n",
        "gamer_data_scaled[:, 0].std(), gamer_data_scaled[:, 1].std()"
      ],
      "metadata": {
        "colab": {
          "base_uri": "https://localhost:8080/",
          "height": 220
        },
        "id": "727N-Zp-l643",
        "outputId": "20b0bf15-f71b-4fc4-d2ce-e6f588f0c40e"
      },
      "execution_count": null,
      "outputs": [
        {
          "output_type": "error",
          "ename": "NameError",
          "evalue": "name 'gamer_data' is not defined",
          "traceback": [
            "\u001b[0;31m---------------------------------------------------------------------------\u001b[0m",
            "\u001b[0;31mNameError\u001b[0m                                 Traceback (most recent call last)",
            "\u001b[0;32m<ipython-input-21-8db8a2177a9e>\u001b[0m in \u001b[0;36m<cell line: 4>\u001b[0;34m()\u001b[0m\n\u001b[1;32m      2\u001b[0m \u001b[0;34m\u001b[0m\u001b[0m\n\u001b[1;32m      3\u001b[0m \u001b[0mstandardScaler\u001b[0m \u001b[0;34m=\u001b[0m \u001b[0mStandardScaler\u001b[0m\u001b[0;34m(\u001b[0m\u001b[0;34m)\u001b[0m\u001b[0;34m\u001b[0m\u001b[0;34m\u001b[0m\u001b[0m\n\u001b[0;32m----> 4\u001b[0;31m \u001b[0mstandardScaler\u001b[0m\u001b[0;34m.\u001b[0m\u001b[0mfit\u001b[0m\u001b[0;34m(\u001b[0m\u001b[0mgamer_data\u001b[0m\u001b[0;34m)\u001b[0m\u001b[0;34m\u001b[0m\u001b[0;34m\u001b[0m\u001b[0m\n\u001b[0m\u001b[1;32m      5\u001b[0m \u001b[0mgamer_data_scaled\u001b[0m \u001b[0;34m=\u001b[0m \u001b[0mstandardScaler\u001b[0m\u001b[0;34m.\u001b[0m\u001b[0mtransform\u001b[0m\u001b[0;34m(\u001b[0m\u001b[0mgamer_data\u001b[0m\u001b[0;34m)\u001b[0m\u001b[0;34m\u001b[0m\u001b[0;34m\u001b[0m\u001b[0m\n\u001b[1;32m      6\u001b[0m \u001b[0;34m\u001b[0m\u001b[0m\n",
            "\u001b[0;31mNameError\u001b[0m: name 'gamer_data' is not defined"
          ]
        }
      ]
    },
    {
      "cell_type": "code",
      "source": [
        "gamer_data_scaled[:, 0].mean(), gamer_data_scaled[:, 1].mean()"
      ],
      "metadata": {
        "colab": {
          "base_uri": "https://localhost:8080/"
        },
        "id": "9M5LPMCEl9OU",
        "outputId": "04465bd3-8023-4f32-d846-dea06878fe59"
      },
      "execution_count": null,
      "outputs": [
        {
          "output_type": "execute_result",
          "data": {
            "text/plain": [
              "(-1.3100631690576846e-16, -1.1390888232654106e-15)"
            ]
          },
          "metadata": {},
          "execution_count": 41
        }
      ]
    },
    {
      "cell_type": "markdown",
      "source": [
        "---\n",
        "### 04 학습 데이터에만 최적화된 신경망 개선하기 : 드롭아웃\n",
        "#### 드롭아웃으로 과대적합을 예방"
      ],
      "metadata": {
        "id": "D8FfPCVEvfFC"
      }
    },
    {
      "cell_type": "code",
      "source": [
        "import numpy as np\n",
        "import tensorflow as tf\n",
        "\n",
        "data = np.arange(1, 11).reshape(2, 5).astype(np.float32)\n",
        "print(data)"
      ],
      "metadata": {
        "colab": {
          "base_uri": "https://localhost:8080/"
        },
        "id": "fxr3u_exmkdt",
        "outputId": "3e077415-d344-41a7-f738-a1b8117924e7"
      },
      "execution_count": null,
      "outputs": [
        {
          "output_type": "stream",
          "name": "stdout",
          "text": [
            "[[ 1.  2.  3.  4.  5.]\n",
            " [ 6.  7.  8.  9. 10.]]\n"
          ]
        }
      ]
    },
    {
      "cell_type": "code",
      "source": [
        "layer = tf.keras.layers.Dropout(.3, input_shape = (2, ))\n",
        "outputs = layer(data, training=True)\n",
        "print(outputs)"
      ],
      "metadata": {
        "colab": {
          "base_uri": "https://localhost:8080/"
        },
        "id": "6vUzh_WJmn8E",
        "outputId": "0e420f44-cca1-40a4-c8f5-03718ebc4b1a"
      },
      "execution_count": null,
      "outputs": [
        {
          "output_type": "stream",
          "name": "stdout",
          "text": [
            "tf.Tensor(\n",
            "[[ 0.         2.857143   0.         0.         7.1428576]\n",
            " [ 0.         0.         0.         0.        14.285715 ]], shape=(2, 5), dtype=float32)\n"
          ]
        }
      ]
    },
    {
      "cell_type": "code",
      "source": [
        "# 1에서 10까지의 연속된 수를 만들고 이를 (2, 5) 형태로 고치기\n",
        "data = np.arange(1, 11).reshape(2, 5).astype(np.float32)\n",
        "print(data)\n",
        "print('data의 합 :', np.sum(data))"
      ],
      "metadata": {
        "id": "o6DcxOBr8Tdl",
        "colab": {
          "base_uri": "https://localhost:8080/"
        },
        "outputId": "027a526d-54e5-421c-f8d6-4ba4cef4a1a5"
      },
      "execution_count": null,
      "outputs": [
        {
          "output_type": "stream",
          "name": "stdout",
          "text": [
            "[[ 1.  2.  3.  4.  5.]\n",
            " [ 6.  7.  8.  9. 10.]]\n",
            "data의 합 : 55.0\n"
          ]
        }
      ]
    },
    {
      "cell_type": "code",
      "source": [
        "# 입력 데이터의 30%를 드롭아웃 시키고 결과를 출력하자.\n",
        "layer = tf.keras.layers.Dropout(.3, input_shape = (2, ))\n",
        "outputs = layer(data, training=True)\n",
        "print(outputs)\n",
        "print('출력의 합 :', np.sum(outputs))"
      ],
      "metadata": {
        "colab": {
          "base_uri": "https://localhost:8080/"
        },
        "id": "TrIEYD5ivjr6",
        "outputId": "8cb2df9b-2a89-4216-d940-2798a1f166a7"
      },
      "execution_count": null,
      "outputs": [
        {
          "output_type": "stream",
          "name": "stdout",
          "text": [
            "tf.Tensor(\n",
            "[[ 1.4285715  2.857143   0.         5.714286   0.       ]\n",
            " [ 8.571428  10.        11.428572  12.857143  14.285715 ]], shape=(2, 5), dtype=float32)\n",
            "출력의 합 : 67.14286\n"
          ]
        }
      ]
    },
    {
      "cell_type": "code",
      "source": [
        "# 입력 데이터의 50%를 드롭아웃 시키고 결과를 출력하자.\n",
        "layer = tf.keras.layers.Dropout(.5, input_shape = (2, ))\n",
        "outputs = layer(data, training=True)\n",
        "print(outputs)\n",
        "print('출력의 합 :', np.sum(outputs))"
      ],
      "metadata": {
        "colab": {
          "base_uri": "https://localhost:8080/"
        },
        "id": "rKCtLrBavpff",
        "outputId": "d1995a5d-c687-4e0d-c5c8-d672f510fc3d"
      },
      "execution_count": null,
      "outputs": [
        {
          "output_type": "stream",
          "name": "stdout",
          "text": [
            "tf.Tensor(\n",
            "[[ 0.  4.  0.  0. 10.]\n",
            " [ 0. 14.  0. 18.  0.]], shape=(2, 5), dtype=float32)\n",
            "출력의 합 : 46.0\n"
          ]
        }
      ]
    },
    {
      "cell_type": "code",
      "source": [
        "import numpy as np\n",
        "import tensorflow as tf\n",
        "from tensorflow import keras\n",
        "\n",
        "#드롭아웃 계층을 가진 신경망 모델 만들기\n",
        "model = keras.models.Sequential([\n",
        "       keras.layers.Flatten(input_shape = (28, 28)),\n",
        "       keras.layers.Dropout(0.2),\n",
        "       keras.layers.Dense(64, activation = 'relu'),\n",
        "       keras.layers.Dropout(0.2),\n",
        "       keras.layers.Dense(64, activation = 'relu'),\n",
        "       keras.layers.Dropout(0.2),\n",
        "       keras.layers.Dense(10, activation = 'softmax')\n",
        "])"
      ],
      "metadata": {
        "id": "CZStRHWNFjed"
      },
      "execution_count": null,
      "outputs": []
    },
    {
      "cell_type": "markdown",
      "source": [
        "---\n",
        "### 05 패션 MNIST 데이터\n",
        "#### 패션 MNIST 이미지 데이터 분류"
      ],
      "metadata": {
        "id": "BoznAJbrHcZm"
      }
    },
    {
      "cell_type": "code",
      "source": [
        "# tensorflow와 tf.keras를 임포트한다\n",
        "import tensorflow as tf\n",
        "from tensorflow import keras\n",
        "import numpy as np\n",
        "import matplotlib.pyplot as plt"
      ],
      "metadata": {
        "id": "yEa0bSllvxeP"
      },
      "execution_count": null,
      "outputs": []
    },
    {
      "cell_type": "code",
      "source": [
        "# 패션 MNIST 데이터는 keras에서 제공함. 이를 학습용, 테스트 데이터로 구분.\n",
        "fashion_mnist = keras.datasets.fashion_mnist\n",
        "(train_images, train_labels), (test_images, test_labels) = \\\n",
        "    fashion_mnist.load_data()"
      ],
      "metadata": {
        "colab": {
          "base_uri": "https://localhost:8080/"
        },
        "id": "0p2jOQywHk8M",
        "outputId": "3435a820-bc49-4af0-c978-21eb530ba9b8"
      },
      "execution_count": null,
      "outputs": [
        {
          "output_type": "stream",
          "name": "stdout",
          "text": [
            "Downloading data from https://storage.googleapis.com/tensorflow/tf-keras-datasets/train-labels-idx1-ubyte.gz\n",
            "29515/29515 [==============================] - 0s 0us/step\n",
            "Downloading data from https://storage.googleapis.com/tensorflow/tf-keras-datasets/train-images-idx3-ubyte.gz\n",
            "26421880/26421880 [==============================] - 0s 0us/step\n",
            "Downloading data from https://storage.googleapis.com/tensorflow/tf-keras-datasets/t10k-labels-idx1-ubyte.gz\n",
            "5148/5148 [==============================] - 0s 0us/step\n",
            "Downloading data from https://storage.googleapis.com/tensorflow/tf-keras-datasets/t10k-images-idx3-ubyte.gz\n",
            "4422102/4422102 [==============================] - 0s 0us/step\n"
          ]
        }
      ]
    },
    {
      "cell_type": "code",
      "source": [
        "print(train_images.shape)  # 학습 이미지의 형태와 레이블을 출력한다\n",
        "print(train_labels)\n",
        "print(test_images.shape)"
      ],
      "metadata": {
        "colab": {
          "base_uri": "https://localhost:8080/"
        },
        "id": "mg4NV7EaHoBB",
        "outputId": "639fd1fb-79a3-4b7f-98d4-5adb40c51caa"
      },
      "execution_count": null,
      "outputs": [
        {
          "output_type": "stream",
          "name": "stdout",
          "text": [
            "(60000, 28, 28)\n",
            "[9 0 0 ... 3 0 5]\n",
            "(10000, 28, 28)\n"
          ]
        }
      ]
    },
    {
      "cell_type": "code",
      "source": [
        "fig = plt.figure()\n",
        "ax1 = fig.add_subplot(1, 4, 1)\n",
        "ax2 = fig.add_subplot(1, 4, 2)\n",
        "ax3 = fig.add_subplot(1, 4, 3)\n",
        "ax4 = fig.add_subplot(1, 4, 4)\n",
        "\n",
        "ax1.imshow(train_images[0], cmap='Greys') # 첫 번째 훈련용 데이터\n",
        "ax2.imshow(train_images[1], cmap='Greys') # 두 번째 훈련용 데이터\n",
        "ax3.imshow(train_images[2], cmap='Greys') # 세 번째 훈련용 데이터\n",
        "ax4.imshow(train_images[3], cmap='Greys') # 네 번째 훈련용 데이터"
      ],
      "metadata": {
        "colab": {
          "base_uri": "https://localhost:8080/",
          "height": 190
        },
        "id": "Ir_ZwrpDHqm8",
        "outputId": "0b4afce8-b54a-48ac-a349-a848a4740c28"
      },
      "execution_count": null,
      "outputs": [
        {
          "output_type": "execute_result",
          "data": {
            "text/plain": [
              "<matplotlib.image.AxesImage at 0x7d4e63303b20>"
            ]
          },
          "metadata": {},
          "execution_count": 32
        },
        {
          "output_type": "display_data",
          "data": {
            "text/plain": [
              "<Figure size 640x480 with 4 Axes>"
            ],
            "image/png": "[encoded data removed]"
          },
          "metadata": {}
        }
      ]
    },
    {
      "cell_type": "code",
      "source": [
        "print(train_labels[:4])"
      ],
      "metadata": {
        "colab": {
          "base_uri": "https://localhost:8080/"
        },
        "id": "FakqemaiHuNo",
        "outputId": "4615ac00-35da-419d-d4b4-acaf4c6f1b5d"
      },
      "execution_count": null,
      "outputs": [
        {
          "output_type": "stream",
          "name": "stdout",
          "text": [
            "[9 0 0 3]\n"
          ]
        }
      ]
    },
    {
      "cell_type": "code",
      "source": [
        "mnist_lbl = ['T-shirt', 'Trouser', 'Pullover', 'Dress', 'Coat',\\\n",
        "            'Sandal', 'Shirt', 'Sneaker', 'Bag', 'Ankle_boot']\n",
        "\n",
        "labels = train_labels[:4]\n",
        "for i in labels:\n",
        "    print('{} : {}'.format(i, mnist_lbl[i]))"
      ],
      "metadata": {
        "colab": {
          "base_uri": "https://localhost:8080/"
        },
        "id": "WZKvbRQoHxOe",
        "outputId": "9148d8c8-fc71-4379-9e18-3e3a0a49436a"
      },
      "execution_count": null,
      "outputs": [
        {
          "output_type": "stream",
          "name": "stdout",
          "text": [
            "9 : Ankle_boot\n",
            "0 : T-shirt\n",
            "0 : T-shirt\n",
            "3 : Dress\n"
          ]
        }
      ]
    },
    {
      "cell_type": "code",
      "source": [
        "fig = plt.figure()\n",
        "ax1 = fig.add_subplot(1, 4, 1)\n",
        "ax2 = fig.add_subplot(1, 4, 2)\n",
        "ax3 = fig.add_subplot(1, 4, 3)\n",
        "ax4 = fig.add_subplot(1, 4, 4)\n",
        "\n",
        "ax1.imshow(train_images[0], cmap='Greys') # 첫 번째 훈련용 데이터\n",
        "ax2.imshow(train_images[1], cmap='Greys') # 두 번째 훈련용 데이터\n",
        "ax3.imshow(train_images[2], cmap='Greys') # 세 번째 훈련용 데이터\n",
        "ax4.imshow(train_images[3], cmap='Greys') # 네 번째 훈련용 데이터\n",
        "\n",
        "ax1.text(0, 0, mnist_lbl[train_labels[0]], bbox={'facecolor': 'white'})\n",
        "ax2.text(0, 0, mnist_lbl[train_labels[1]], bbox={'facecolor': 'white'})\n",
        "ax3.text(0, 0, mnist_lbl[train_labels[2]], bbox={'facecolor': 'white'})\n",
        "ax4.text(0, 0, mnist_lbl[train_labels[3]], bbox={'facecolor': 'white'})"
      ],
      "metadata": {
        "colab": {
          "base_uri": "https://localhost:8080/",
          "height": 195
        },
        "id": "2XFW6K4DH1Ye",
        "outputId": "51a1cf60-e7db-4583-9414-f4a6a31a9a78"
      },
      "execution_count": null,
      "outputs": [
        {
          "output_type": "execute_result",
          "data": {
            "text/plain": [
              "Text(0, 0, 'Dress')"
            ]
          },
          "metadata": {},
          "execution_count": 35
        },
        {
          "output_type": "display_data",
          "data": {
            "text/plain": [
              "<Figure size 640x480 with 4 Axes>"
            ],
            "image/png": "[encoded data removed]"
          },
          "metadata": {}
        }
      ]
    },
    {
      "cell_type": "markdown",
      "source": [
        "---"
      ],
      "metadata": {
        "id": "blVsdzdAH26b"
      }
    },
    {
      "cell_type": "markdown",
      "source": [
        "##### 단계 8"
      ],
      "metadata": {
        "id": "90jxEGpXGnN5"
      }
    },
    {
      "cell_type": "code",
      "source": [
        "# 0-255 구간의 픽셀값을 실수로 정규화한다\n",
        "train_images, test_images = train_images / 255, test_images / 255\n",
        "\n",
        "model = keras.models.Sequential( [\n",
        "   keras.layers.Flatten(input_shape=(28, 28)),\n",
        "   keras.layers.Dropout(0.2),  # 20%의 드롭아웃 설정\n",
        "   keras.layers.Dense(128, activation= 'relu'),\n",
        "   keras.layers.Dense(32, activation= 'relu'),\n",
        "   keras.layers.Dense(10, activation= 'softmax'),\n",
        "])"
      ],
      "metadata": {
        "id": "OJXfNnyMH4ER"
      },
      "execution_count": null,
      "outputs": []
    },
    {
      "cell_type": "markdown",
      "source": [
        "##### 단계 9"
      ],
      "metadata": {
        "id": "Aaxac5IcGuTi"
      }
    },
    {
      "cell_type": "code",
      "source": [
        "model.compile(optimizer='adam',\n",
        "             loss='sparse_categorical_crossentropy',\n",
        "             metrics=['accuracy'])\n",
        "history = model.fit(train_images, train_labels, batch_size=64,\n",
        "                    epochs=10, validation_split=0.25)"
      ],
      "metadata": {
        "colab": {
          "base_uri": "https://localhost:8080/"
        },
        "id": "ZRoeeEscIGlj",
        "outputId": "03143438-4554-4b3a-a7f8-8d952a2d7fee"
      },
      "execution_count": null,
      "outputs": [
        {
          "output_type": "stream",
          "name": "stdout",
          "text": [
            "Epoch 1/10\n",
            "704/704 [==============================] - 4s 4ms/step - loss: 0.5852 - accuracy: 0.7949 - val_loss: 0.4259 - val_accuracy: 0.8471\n",
            "Epoch 2/10\n",
            "704/704 [==============================] - 3s 4ms/step - loss: 0.4385 - accuracy: 0.8427 - val_loss: 0.4132 - val_accuracy: 0.8506\n",
            "Epoch 3/10\n",
            "704/704 [==============================] - 3s 4ms/step - loss: 0.3986 - accuracy: 0.8536 - val_loss: 0.3783 - val_accuracy: 0.8620\n",
            "Epoch 4/10\n",
            "704/704 [==============================] - 3s 4ms/step - loss: 0.3756 - accuracy: 0.8618 - val_loss: 0.3517 - val_accuracy: 0.8717\n",
            "Epoch 5/10\n",
            "704/704 [==============================] - 2s 3ms/step - loss: 0.3550 - accuracy: 0.8686 - val_loss: 0.3491 - val_accuracy: 0.8751\n",
            "Epoch 6/10\n",
            "704/704 [==============================] - 2s 3ms/step - loss: 0.3424 - accuracy: 0.8723 - val_loss: 0.3434 - val_accuracy: 0.8737\n",
            "Epoch 7/10\n",
            "704/704 [==============================] - 2s 3ms/step - loss: 0.3294 - accuracy: 0.8771 - val_loss: 0.3394 - val_accuracy: 0.8728\n",
            "Epoch 8/10\n",
            "704/704 [==============================] - 3s 4ms/step - loss: 0.3188 - accuracy: 0.8816 - val_loss: 0.3179 - val_accuracy: 0.8820\n",
            "Epoch 9/10\n",
            "704/704 [==============================] - 3s 4ms/step - loss: 0.3122 - accuracy: 0.8820 - val_loss: 0.3196 - val_accuracy: 0.8831\n",
            "Epoch 10/10\n",
            "704/704 [==============================] - 3s 4ms/step - loss: 0.3021 - accuracy: 0.8865 - val_loss: 0.3384 - val_accuracy: 0.8765\n"
          ]
        }
      ]
    },
    {
      "cell_type": "code",
      "source": [
        "plt.plot(history.history['loss'], 'b-')\n",
        "plt.plot(history.history['val_loss'], 'r--')"
      ],
      "metadata": {
        "colab": {
          "base_uri": "https://localhost:8080/",
          "height": 447
        },
        "id": "MgeqXJsKIKFw",
        "outputId": "521155e0-df69-4d95-e264-6e5e25e7c995"
      },
      "execution_count": null,
      "outputs": [
        {
          "output_type": "execute_result",
          "data": {
            "text/plain": [
              "[<matplotlib.lines.Line2D at 0x7ff6de8be800>]"
            ]
          },
          "metadata": {},
          "execution_count": 10
        },
        {
          "output_type": "display_data",
          "data": {
            "text/plain": [
              "<Figure size 640x480 with 1 Axes>"
            ],
            "image/png": "[encoded data removed]"
          },
          "metadata": {}
        }
      ]
    },
    {
      "cell_type": "code",
      "source": [
        "plt.plot(history.history['accuracy'], 'b-')\n",
        "plt.plot(history.history['val_accuracy'], 'r--')"
      ],
      "metadata": {
        "colab": {
          "base_uri": "https://localhost:8080/",
          "height": 447
        },
        "id": "axU_Uu1AIZul",
        "outputId": "a40016ed-661a-49e6-b9f9-35766de5c5b4"
      },
      "execution_count": null,
      "outputs": [
        {
          "output_type": "execute_result",
          "data": {
            "text/plain": [
              "[<matplotlib.lines.Line2D at 0x7ff6dfb7e0e0>]"
            ]
          },
          "metadata": {},
          "execution_count": 11
        },
        {
          "output_type": "display_data",
          "data": {
            "text/plain": [
              "<Figure size 640x480 with 1 Axes>"
            ],
            "image/png": "[encoded data removed]"
          },
          "metadata": {}
        }
      ]
    },
    {
      "cell_type": "code",
      "source": [
        "test_loss, test_acc = model.evaluate(test_images,  test_labels, \\\n",
        "                                     verbose=2)\n",
        "print('테스트 정확도:', test_acc)"
      ],
      "metadata": {
        "colab": {
          "base_uri": "https://localhost:8080/"
        },
        "id": "MTV3KoCnIdtp",
        "outputId": "07d7f7c2-01d7-400b-ac4e-d13c87faf3ec"
      },
      "execution_count": null,
      "outputs": [
        {
          "output_type": "stream",
          "name": "stdout",
          "text": [
            "313/313 - 1s - loss: 0.3626 - accuracy: 0.8679 - 950ms/epoch - 3ms/step\n",
            "테스트 정확도: 0.867900013923645\n"
          ]
        }
      ]
    },
    {
      "cell_type": "code",
      "source": [
        "np.random.seed(42)  # 시드값이 일정하면 항상 같은 난수가 생성됨\n",
        "randIdx = np.random.randint(0, 1000)\n",
        "print('random 인덱스 :', randIdx)\n",
        "plt.imshow(test_images[randIdx], cmap='Greys')"
      ],
      "metadata": {
        "colab": {
          "base_uri": "https://localhost:8080/",
          "height": 464
        },
        "id": "6LXKC_5IIi6l",
        "outputId": "569c88e4-8f22-4a5a-8d54-62a724783020"
      },
      "execution_count": null,
      "outputs": [
        {
          "output_type": "stream",
          "name": "stdout",
          "text": [
            "random 인덱스 : 102\n"
          ]
        },
        {
          "output_type": "execute_result",
          "data": {
            "text/plain": [
              "<matplotlib.image.AxesImage at 0x7ff6de82e1a0>"
            ]
          },
          "metadata": {},
          "execution_count": 35
        },
        {
          "output_type": "display_data",
          "data": {
            "text/plain": [
              "<Figure size 640x480 with 1 Axes>"
            ],
            "image/png": "[encoded data removed]"
          },
          "metadata": {}
        }
      ]
    },
    {
      "cell_type": "code",
      "source": [
        "print('테스트용 이미지의 형태:', test_images[randIdx].shape)\n",
        "new_image = test_images[randIdx][np.newaxis, :, :]\n",
        "print('테스트용 이미지를 모델에 입력하기 위한 형태:', test_images[randIdx].shape)\n",
        "print(new_image.shape)\n",
        "\n",
        "yhat = model.predict(new_image)\n",
        "print(yhat.round(3))    # 소수점 아래 세 자리 정확도로 살펴보자"
      ],
      "metadata": {
        "colab": {
          "base_uri": "https://localhost:8080/"
        },
        "id": "QJnL8b14I8mw",
        "outputId": "f1ef04e8-c217-4ef7-d20a-fe90521fe7b1"
      },
      "execution_count": null,
      "outputs": [
        {
          "output_type": "stream",
          "name": "stdout",
          "text": [
            "테스트용 이미지의 형태: (28, 28)\n",
            "테스트용 이미지를 모델에 입력하기 위한 형태: (28, 28)\n",
            "(1, 28, 28)\n",
            "1/1 [==============================] - 0s 27ms/step\n",
            "[[0.    0.    0.    0.    0.    0.003 0.    0.995 0.    0.002]]\n"
          ]
        }
      ]
    },
    {
      "cell_type": "code",
      "source": [
        "yhat = np.argmax( model.predict(\\\n",
        "                                test_images[randIdx][np.newaxis, :, :]) )\n",
        "print('이미지에 대한 모델의 출력:', yhat)"
      ],
      "metadata": {
        "colab": {
          "base_uri": "https://localhost:8080/"
        },
        "id": "PUnH-93RKhxo",
        "outputId": "95ff8f49-ee63-48d1-96d2-3af90732505b"
      },
      "execution_count": null,
      "outputs": [
        {
          "output_type": "stream",
          "name": "stdout",
          "text": [
            "1/1 [==============================] - 0s 23ms/step\n",
            "이미지에 대한 모델의 출력: 7\n"
          ]
        }
      ]
    },
    {
      "cell_type": "code",
      "source": [
        "print('이미지에 대한 모델의 출력:', mnist_lbl[yhat])"
      ],
      "metadata": {
        "colab": {
          "base_uri": "https://localhost:8080/"
        },
        "id": "sabWmQrmK7nn",
        "outputId": "441f3e8b-a3bb-4c67-ede5-ea91a2ce7371"
      },
      "execution_count": null,
      "outputs": [
        {
          "output_type": "stream",
          "name": "stdout",
          "text": [
            "이미지에 대한 모델의 출력: Sneaker\n"
          ]
        }
      ]
    },
    {
      "cell_type": "code",
      "source": [
        "def plot_4images(images, labels):\n",
        "  fig = plt.figure()\n",
        "  ax1 = fig.add_subplot(1, 4, 1)\n",
        "  ax2 = fig.add_subplot(1, 4, 2)\n",
        "  ax3 = fig.add_subplot(1, 4, 3)\n",
        "  ax4 = fig.add_subplot(1, 4, 4)\n",
        "\n",
        "  ax1.imshow(images[0], cmap='Greys') # 첫 번째 훈련용 데이터\n",
        "  ax2.imshow(images[1], cmap='Greys') # 두 번째 훈련용 데이터\n",
        "  ax3.imshow(images[2], cmap='Greys') # 세 번째 훈련용 데이터\n",
        "  ax4.imshow(images[3], cmap='Greys') # 네 번째 훈련용 데이터\n",
        "\n",
        "  ax1.text(0, 0, mnist_lbl[labels[0]], bbox={'facecolor': 'white'})\n",
        "  ax2.text(0, 0, mnist_lbl[labels[1]], bbox={'facecolor': 'white'})\n",
        "  ax3.text(0, 0, mnist_lbl[labels[2]], bbox={'facecolor': 'white'})\n",
        "  ax4.text(0, 0, mnist_lbl[labels[3]], bbox={'facecolor': 'white'})"
      ],
      "metadata": {
        "id": "-J8FIajbL0DB"
      },
      "execution_count": null,
      "outputs": []
    },
    {
      "cell_type": "code",
      "source": [
        "images = test_images[:4]\n",
        "predictions = np.argmax(model.predict(images), axis=1)\n",
        "print(predictions)\n",
        "plot_4images(images, predictions)"
      ],
      "metadata": {
        "colab": {
          "base_uri": "https://localhost:8080/",
          "height": 211
        },
        "id": "SxQza2IDM5df",
        "outputId": "5973a39c-a564-49e4-ea05-ac7011d35c21"
      },
      "execution_count": null,
      "outputs": [
        {
          "output_type": "stream",
          "name": "stdout",
          "text": [
            "1/1 [==============================] - 0s 118ms/step\n",
            "[9 2 1 1]\n"
          ]
        },
        {
          "output_type": "display_data",
          "data": {
            "text/plain": [
              "<Figure size 640x480 with 4 Axes>"
            ],
            "image/png": "[encoded data removed]"
          },
          "metadata": {}
        }
      ]
    }
  ]
}