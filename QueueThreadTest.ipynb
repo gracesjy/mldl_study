{
 "cells": [
  {
   "cell_type": "code",
   "execution_count": 1,
   "id": "9e144faf-92a4-42fd-996d-e60715be285c",
   "metadata": {},
   "outputs": [],
   "source": [
    "#from ctypes import *\n",
    "import random\n",
    "import os\n",
    "import cv2\n",
    "import time\n",
    "import argparse\n",
    "from threading import Thread, enumerate\n",
    "from queue import Queue\n",
    "import numpy as np\n",
    "import pandas as pd"
   ]
  },
  {
   "cell_type": "code",
   "execution_count": 2,
   "id": "69fce1db-bc0e-41ed-8e22-42d47b6212ef",
   "metadata": {},
   "outputs": [],
   "source": [
    "def thread_capture(capture_queue):\n",
    "    while True:\n",
    "        student_card = pd.DataFrame({'ID':[20190103, 20190222, 20190531],\n",
    "                             'name':['Kim', 'Lee', 'Jeong'],\n",
    "                             'class':['H', 'W', 'S']})\n",
    "        capture_queue.put(student_card)\n",
    "        time.sleep(1)"
   ]
  },
  {
   "cell_type": "code",
   "execution_count": 3,
   "id": "bf7ceea3-f4fc-42c2-b25c-658c5734b86d",
   "metadata": {},
   "outputs": [],
   "source": [
    "def thread_run(capture_queue, run_queue):\n",
    "    while True:\n",
    "        student_card = capture_queue.get()\n",
    "        run_queue.put(student_card)\n",
    "        time.sleep(1)\n",
    "        "
   ]
  },
  {
   "cell_type": "code",
   "execution_count": 4,
   "id": "64088ea7-2e77-4c17-8c05-10165df1e17b",
   "metadata": {},
   "outputs": [
    {
     "name": "stdout",
     "output_type": "stream",
     "text": [
      "         ID   name class\n",
      "0  20190103    Kim     H\n",
      "1  20190222    Lee     W\n",
      "2  20190531  Jeong     S\n",
      "         ID   name class\n",
      "0  20190103    Kim     H\n",
      "1  20190222    Lee     W\n",
      "2  20190531  Jeong     S\n",
      "         ID   name class\n",
      "0  20190103    Kim     H\n",
      "1  20190222    Lee     W\n",
      "2  20190531  Jeong     S\n",
      "         ID   name class\n",
      "0  20190103    Kim     H\n",
      "1  20190222    Lee     W\n",
      "2  20190531  Jeong     S\n",
      "         ID   name class\n",
      "0  20190103    Kim     H\n",
      "1  20190222    Lee     W\n",
      "2  20190531  Jeong     S\n",
      "         ID   name class\n",
      "0  20190103    Kim     H\n",
      "1  20190222    Lee     W\n",
      "2  20190531  Jeong     S\n",
      "         ID   name class\n",
      "0  20190103    Kim     H\n",
      "1  20190222    Lee     W\n",
      "2  20190531  Jeong     S\n",
      "         ID   name class\n",
      "0  20190103    Kim     H\n",
      "1  20190222    Lee     W\n",
      "2  20190531  Jeong     S\n",
      "         ID   name class\n",
      "0  20190103    Kim     H\n",
      "1  20190222    Lee     W\n",
      "2  20190531  Jeong     S\n",
      "         ID   name class\n",
      "0  20190103    Kim     H\n",
      "1  20190222    Lee     W\n",
      "2  20190531  Jeong     S\n",
      "         ID   name class\n",
      "0  20190103    Kim     H\n",
      "1  20190222    Lee     W\n",
      "2  20190531  Jeong     S\n",
      "         ID   name class\n",
      "0  20190103    Kim     H\n",
      "1  20190222    Lee     W\n",
      "2  20190531  Jeong     S\n",
      "         ID   name class\n",
      "0  20190103    Kim     H\n",
      "1  20190222    Lee     W\n",
      "2  20190531  Jeong     S\n",
      "         ID   name class\n",
      "0  20190103    Kim     H\n",
      "1  20190222    Lee     W\n",
      "2  20190531  Jeong     S\n"
     ]
    },
    {
     "ename": "KeyboardInterrupt",
     "evalue": "",
     "output_type": "error",
     "traceback": [
      "\u001b[1;31m---------------------------------------------------------------------------\u001b[0m",
      "\u001b[1;31mKeyboardInterrupt\u001b[0m                         Traceback (most recent call last)",
      "Cell \u001b[1;32mIn[4], line 8\u001b[0m\n\u001b[0;32m      5\u001b[0m Thread(target\u001b[38;5;241m=\u001b[39mthread_run, daemon\u001b[38;5;241m=\u001b[39m\u001b[38;5;28;01mTrue\u001b[39;00m, args\u001b[38;5;241m=\u001b[39m(capture_queue, run_queue))\u001b[38;5;241m.\u001b[39mstart()\n\u001b[0;32m      7\u001b[0m \u001b[38;5;28;01mwhile\u001b[39;00m \u001b[38;5;28;01mTrue\u001b[39;00m:\n\u001b[1;32m----> 8\u001b[0m     result \u001b[38;5;241m=\u001b[39m \u001b[43mrun_queue\u001b[49m\u001b[38;5;241;43m.\u001b[39;49m\u001b[43mget\u001b[49m\u001b[43m(\u001b[49m\u001b[43m)\u001b[49m\n\u001b[0;32m      9\u001b[0m     \u001b[38;5;28mprint\u001b[39m(\u001b[38;5;28mstr\u001b[39m(result\u001b[38;5;241m.\u001b[39mhead()))\n",
      "File \u001b[1;32m~\\.conda\\envs\\tf39\\lib\\queue.py:171\u001b[0m, in \u001b[0;36mQueue.get\u001b[1;34m(self, block, timeout)\u001b[0m\n\u001b[0;32m    169\u001b[0m \u001b[38;5;28;01melif\u001b[39;00m timeout \u001b[38;5;129;01mis\u001b[39;00m \u001b[38;5;28;01mNone\u001b[39;00m:\n\u001b[0;32m    170\u001b[0m     \u001b[38;5;28;01mwhile\u001b[39;00m \u001b[38;5;129;01mnot\u001b[39;00m \u001b[38;5;28mself\u001b[39m\u001b[38;5;241m.\u001b[39m_qsize():\n\u001b[1;32m--> 171\u001b[0m         \u001b[38;5;28;43mself\u001b[39;49m\u001b[38;5;241;43m.\u001b[39;49m\u001b[43mnot_empty\u001b[49m\u001b[38;5;241;43m.\u001b[39;49m\u001b[43mwait\u001b[49m\u001b[43m(\u001b[49m\u001b[43m)\u001b[49m\n\u001b[0;32m    172\u001b[0m \u001b[38;5;28;01melif\u001b[39;00m timeout \u001b[38;5;241m<\u001b[39m \u001b[38;5;241m0\u001b[39m:\n\u001b[0;32m    173\u001b[0m     \u001b[38;5;28;01mraise\u001b[39;00m \u001b[38;5;167;01mValueError\u001b[39;00m(\u001b[38;5;124m\"\u001b[39m\u001b[38;5;124m'\u001b[39m\u001b[38;5;124mtimeout\u001b[39m\u001b[38;5;124m'\u001b[39m\u001b[38;5;124m must be a non-negative number\u001b[39m\u001b[38;5;124m\"\u001b[39m)\n",
      "File \u001b[1;32m~\\.conda\\envs\\tf39\\lib\\threading.py:312\u001b[0m, in \u001b[0;36mCondition.wait\u001b[1;34m(self, timeout)\u001b[0m\n\u001b[0;32m    310\u001b[0m \u001b[38;5;28;01mtry\u001b[39;00m:    \u001b[38;5;66;03m# restore state no matter what (e.g., KeyboardInterrupt)\u001b[39;00m\n\u001b[0;32m    311\u001b[0m     \u001b[38;5;28;01mif\u001b[39;00m timeout \u001b[38;5;129;01mis\u001b[39;00m \u001b[38;5;28;01mNone\u001b[39;00m:\n\u001b[1;32m--> 312\u001b[0m         \u001b[43mwaiter\u001b[49m\u001b[38;5;241;43m.\u001b[39;49m\u001b[43macquire\u001b[49m\u001b[43m(\u001b[49m\u001b[43m)\u001b[49m\n\u001b[0;32m    313\u001b[0m         gotit \u001b[38;5;241m=\u001b[39m \u001b[38;5;28;01mTrue\u001b[39;00m\n\u001b[0;32m    314\u001b[0m     \u001b[38;5;28;01melse\u001b[39;00m:\n",
      "\u001b[1;31mKeyboardInterrupt\u001b[0m: "
     ]
    }
   ],
   "source": [
    "capture_queue = Queue()\n",
    "run_queue = Queue()\n",
    "\n",
    "Thread(target=thread_capture, daemon=True, args=(capture_queue,)).start()\n",
    "Thread(target=thread_run, daemon=True, args=(capture_queue, run_queue)).start()\n",
    "\n",
    "while True:\n",
    "    result = run_queue.get()\n",
    "    print(str(result.head()))\n",
    "\n",
    "\n"
   ]
  }
 ],
 "metadata": {
  "kernelspec": {
   "display_name": "Python 3 (ipykernel)",
   "language": "python",
   "name": "python3"
  },
  "language_info": {
   "codemirror_mode": {
    "name": "ipython",
    "version": 3
   },
   "file_extension": ".py",
   "mimetype": "text/x-python",
   "name": "python",
   "nbconvert_exporter": "python",
   "pygments_lexer": "ipython3",
   "version": "3.9.19"
  }
 },
 "nbformat": 4,
 "nbformat_minor": 5
}
