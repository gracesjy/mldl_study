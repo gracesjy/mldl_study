{
  "nbformat": 4,
  "nbformat_minor": 0,
  "metadata": {
    "colab": {
      "provenance": [],
      "include_colab_link": true
    },
    "kernelspec": {
      "name": "python3",
      "display_name": "Python 3"
    },
    "language_info": {
      "name": "python"
    }
  },
  "cells": [
    {
      "cell_type": "markdown",
      "metadata": {
        "id": "view-in-github",
        "colab_type": "text"
      },
      "source": [
        "<a href=\"https://colab.research.google.com/github/gracesjy/mldl_study/blob/main/05_code.ipynb\" target=\"_parent\"><img src=\"https://colab.research.google.com/assets/colab-badge.svg\" alt=\"Open In Colab\"/></a>"
      ]
    },
    {
      "cell_type": "markdown",
      "source": [
        "# **인피니티북스 \"누구나 쉽게 배우는 딥러닝 스타트\"(1판) 교재 소스 코드**\n",
        "\n",
        "## *5장 신경세포와 퍼셉트론*\n",
        "---\n",
        "* 출판사 : 인피니티북스( https://www.infinitybooks.co.kr )\n",
        "* 저자 : 박동규\n",
        "* 소스코드 저장소 : https://github.com/dongupak/DLstart\n",
        "* 저작권 : 본 주피터 노트북 코드는 자유롭게 배포가능하지만 위의 출판사, 저자 표기와 함께 배포해 주십시오.\n",
        " * https://www.yes24.com/Product/Goods/124152667\n",
        " * 책의 오류는 dongupak@gmail.com 으로 알려주십시오.\n",
        "---"
      ],
      "metadata": {
        "id": "BK6mMn1MDLFK"
      }
    },
    {
      "cell_type": "markdown",
      "source": [
        "### 02 퍼셉트론의 표현방법\n",
        "#### 행렬을 이용한 퍼셉트론 표현 방법\n"
      ],
      "metadata": {
        "id": "5NE6Bq5qpxtg"
      }
    },
    {
      "cell_type": "code",
      "source": [
        "import numpy as np\n",
        "\n",
        "X = np.array([1, 0])     # 입력 벡터 X\n",
        "W = np.array([0.5, 0.5]) # 가중치 벡터 W\n",
        "X * W                    # X와 W의 각 성분끼리 곱함: [1*.5, 0*.5]"
      ],
      "metadata": {
        "colab": {
          "base_uri": "https://localhost:8080/"
        },
        "id": "RqA-q25hDhYi",
        "outputId": "75325515-0338-4e12-a610-3e0b511ab6b7"
      },
      "execution_count": null,
      "outputs": [
        {
          "output_type": "execute_result",
          "data": {
            "text/plain": [
              "array([0.5, 0. ])"
            ]
          },
          "metadata": {},
          "execution_count": 1
        }
      ]
    },
    {
      "cell_type": "code",
      "source": [
        "np.sum( X * W )  # 넘파이 sum 함수를 사용하여 성분의 합 구하기"
      ],
      "metadata": {
        "colab": {
          "base_uri": "https://localhost:8080/"
        },
        "id": "CHPrFG2HDm8o",
        "outputId": "10cd3b5a-2f46-4c2a-fba0-402af10ca003"
      },
      "execution_count": null,
      "outputs": [
        {
          "output_type": "execute_result",
          "data": {
            "text/plain": [
              "0.5"
            ]
          },
          "metadata": {},
          "execution_count": 2
        }
      ]
    },
    {
      "cell_type": "code",
      "source": [
        "np.dot(X, W)     # 넘파이 dot 함수를 사용하여 합 구하기(위와 동일한 결과)"
      ],
      "metadata": {
        "colab": {
          "base_uri": "https://localhost:8080/"
        },
        "id": "rmSOQjGKDyxl",
        "outputId": "dde68f81-0c6a-4ffe-d425-0178b16543d1"
      },
      "execution_count": null,
      "outputs": [
        {
          "output_type": "execute_result",
          "data": {
            "text/plain": [
              "0.5"
            ]
          },
          "metadata": {},
          "execution_count": 3
        }
      ]
    },
    {
      "cell_type": "markdown",
      "source": [
        "---\n",
        "#### 퍼셉트론 프로그램 만들기"
      ],
      "metadata": {
        "id": "-kTLEtZcqNjS"
      }
    },
    {
      "cell_type": "code",
      "source": [
        "import numpy as np\n",
        "\n",
        "# 가중치와 임계값을 이용한 AND 회로의 구현\n",
        "def AND_gate(X):\n",
        "    W = np.array([.5, .5]) # 가중치 값으로 [.5, .5]\n",
        "    threshold = .8         # 임계값\n",
        "    sigma = np.sum(X * W)\n",
        "    if sigma >= threshold: # 반환값 0, 1을 결정\n",
        "        return 1\n",
        "    else :\n",
        "        return 0\n",
        "\n",
        "print('AND 논리 연산')\n",
        "inputs = np.array([[0, 0], [0, 1], [1, 0], [1, 1]])\n",
        "for t in inputs:\n",
        "    print(t, ':', AND_gate(t))"
      ],
      "metadata": {
        "colab": {
          "base_uri": "https://localhost:8080/"
        },
        "id": "UFuxtzPXow0j",
        "outputId": "a3569906-7911-4f4d-9e85-24711e2e2893"
      },
      "execution_count": null,
      "outputs": [
        {
          "output_type": "stream",
          "name": "stdout",
          "text": [
            "AND 논리 연산\n",
            "[0 0] : 0\n",
            "[0 1] : 0\n",
            "[1 0] : 0\n",
            "[1 1] : 1\n"
          ]
        }
      ]
    },
    {
      "cell_type": "markdown",
      "source": [
        "#### OR 논리 연산을 퍼셉트론으로 구현하자\n"
      ],
      "metadata": {
        "id": "wcBfNikIqhQ1"
      }
    },
    {
      "cell_type": "code",
      "source": [
        "import numpy as np\n",
        "\n",
        "# 가중치와 임계값을 이용한 OR 회로의 구현\n",
        "def OR(X):\n",
        "    W = np.array([.5, .5]) # 가중치 값으로 [.5, .5]\n",
        "    threshold = .3         # 임계값을 .3으로 수정\n",
        "    sigma = np.sum(X * W)\n",
        "    if sigma >= threshold: # 반환값 0, 1을 결정\n",
        "        return 1\n",
        "    else :\n",
        "        return 0\n",
        "\n",
        "print('OR 논리 연산')\n",
        "inputs = np.array([[0, 0], [0, 1], [1, 0], [1, 1]])\n",
        "for t in inputs:\n",
        "    print(t, ':', OR(t))"
      ],
      "metadata": {
        "colab": {
          "base_uri": "https://localhost:8080/"
        },
        "id": "tBgYcEjVrrP_",
        "outputId": "76d09788-b21c-4dde-a0f2-55121533b54e"
      },
      "execution_count": null,
      "outputs": [
        {
          "output_type": "stream",
          "name": "stdout",
          "text": [
            "OR 논리 연산\n",
            "[0 0] : 0\n",
            "[0 1] : 1\n",
            "[1 0] : 1\n",
            "[1 1] : 1\n"
          ]
        }
      ]
    },
    {
      "cell_type": "markdown",
      "source": [
        "---\n",
        "#### 편향값을 추가하자"
      ],
      "metadata": {
        "id": "ddUwLFEcqxji"
      }
    },
    {
      "cell_type": "code",
      "source": [
        "import numpy as np\n",
        "\n",
        "# 가중치와 임계값을 이용한 범용 논리 회로의 구현\n",
        "def gate(X, threshold):    # threshold를 매개변수로 받는 함수\n",
        "    W = np.array([.5, .5]) # 가중치 값으로 [.5, .5]\n",
        "    sigma = np.sum(X * W)\n",
        "    if sigma >= threshold: # 반환값 0, 1을 결정\n",
        "        return 1\n",
        "    else :\n",
        "        return 0\n",
        "\n",
        "inputs = np.array([[0, 0], [0, 1], [1, 0], [1, 1]])\n",
        "print('AND 논리 연산')\n",
        "for t in inputs:\n",
        "    print(t, ':', gate(t, .8)) # 임계값을 인자값 .8로 넘겨줌\n",
        "\n",
        "print('OR 논리 연산')\n",
        "for t in inputs:\n",
        "    print(t, ':', gate(t, .3)) # 임계값을 인자값 .3으로 넘겨줌"
      ],
      "metadata": {
        "colab": {
          "base_uri": "https://localhost:8080/"
        },
        "id": "hdk2P0ib2vmg",
        "outputId": "1b0f0192-c437-4987-e7bb-b60d191b2209"
      },
      "execution_count": null,
      "outputs": [
        {
          "output_type": "stream",
          "name": "stdout",
          "text": [
            "AND 논리 연산\n",
            "[0 0] : 0\n",
            "[0 1] : 0\n",
            "[1 0] : 0\n",
            "[1 1] : 1\n",
            "OR 논리 연산\n",
            "[0 0] : 0\n",
            "[0 1] : 1\n",
            "[1 0] : 1\n",
            "[1 1] : 1\n"
          ]
        }
      ]
    },
    {
      "cell_type": "markdown",
      "source": [
        "#### 편향값을 추가하여 활성화 함수를 간단하게 만들자\n"
      ],
      "metadata": {
        "id": "SDERHSURrDqF"
      }
    },
    {
      "cell_type": "code",
      "source": [
        "inputs = np.array([[0, 0], [0, 1], [1, 0], [1, 1]])\n",
        "\n",
        "for t in inputs:\n",
        "    x = np.array([t[0], t[1], 1]) # 노드 1을 추가한 다차원배열\n",
        "    print('x =', x)"
      ],
      "metadata": {
        "colab": {
          "base_uri": "https://localhost:8080/"
        },
        "id": "2Jgz4wZ-Kns5",
        "outputId": "bc076766-612c-4800-c8b0-d11511ddf11d"
      },
      "execution_count": null,
      "outputs": [
        {
          "output_type": "stream",
          "name": "stdout",
          "text": [
            "x = [0 0 1]\n",
            "x = [0 1 1]\n",
            "x = [1 0 1]\n",
            "x = [1 1 1]\n"
          ]
        }
      ]
    },
    {
      "cell_type": "code",
      "source": [
        "import numpy as np\n",
        "\n",
        "def activation(s): # s가 0 이상이면 1을 반환, 그렇지 않으면 0을 반환\n",
        "    return 1 if s >= 0 else 0\n",
        "\n",
        "print(activation(-.3))    # s가 0 이하의 값\n",
        "print(activation(.3))     # s가 0 이상의 값"
      ],
      "metadata": {
        "id": "i46tpdQWNxPZ",
        "colab": {
          "base_uri": "https://localhost:8080/"
        },
        "outputId": "6ea86ed2-5d75-4d66-da27-9b4e9685331e"
      },
      "execution_count": null,
      "outputs": [
        {
          "output_type": "stream",
          "name": "stdout",
          "text": [
            "0\n",
            "1\n"
          ]
        }
      ]
    },
    {
      "cell_type": "code",
      "source": [
        "## 가중치 값에 따라 다른 값을 반환하는 범용 논리 회로\n",
        "def perceptron(X, W):\n",
        "    sigma = np.sum(X * W)\n",
        "    return activation(sigma)     # 활성화 함수에 sigma 값을 넘겨주자\n",
        "\n",
        "def AND(x):\n",
        "    X = np.array([x[0], x[1], 1]) # x에 노드 1를 추가\n",
        "    W = np.array([.5, .5, -.8])   # 가중치 값 설정하기\n",
        "    return perceptron(X, W)\n",
        "\n",
        "inputs = np.array([[0, 0], [0, 1], [1, 0], [1, 1]])\n",
        "print('AND 논리 연산')\n",
        "for t in inputs:\n",
        "    print(t, ':', AND(t))   # 입력값을 넘겨줌"
      ],
      "metadata": {
        "colab": {
          "base_uri": "https://localhost:8080/"
        },
        "id": "kWjKl3pZuOaG",
        "outputId": "fdfd84b0-26ea-4765-a792-24ec3196b427"
      },
      "execution_count": null,
      "outputs": [
        {
          "output_type": "stream",
          "name": "stdout",
          "text": [
            "AND 논리 연산\n",
            "[0 0] : 0\n",
            "[0 1] : 0\n",
            "[1 0] : 0\n",
            "[1 1] : 1\n"
          ]
        }
      ]
    },
    {
      "cell_type": "code",
      "source": [
        "def OR(x):\n",
        "    X = np.array([x[0], x[1], 1]) # X에 1 노드를 추가\n",
        "    W = np.array([.5, .5, -.3])   # 가중치 값 설정하기\n",
        "    return perceptron(X, W)\n",
        "\n",
        "def NAND(x):\n",
        "    X = np.array([x[0], x[1], 1]) # X에 1 노드를 추가\n",
        "    W = np.array([.5, .5, -.8])   # 가중치 값 설정하기\n",
        "    return perceptron(X, -W)      # 가중치 W의 부호를 음수로 고침\n",
        "\n",
        "inputs = np.array([[0, 0], [0, 1], [1, 0], [1, 1]])\n",
        "print('OR 논리 연산')\n",
        "for t in inputs:\n",
        "    print(t, ':', OR(t))   # 입력값과 가중치를 넘겨줌\n",
        "\n",
        "print('NAND 논리 연산')\n",
        "for t in inputs:\n",
        "    print(t, ':', NAND(t))   # 입력값과 가중치를 넘겨줌"
      ],
      "metadata": {
        "colab": {
          "base_uri": "https://localhost:8080/"
        },
        "id": "xVZ4TvTYJNRA",
        "outputId": "5faeab56-bcf1-4912-bbb8-82fdacb43e30"
      },
      "execution_count": null,
      "outputs": [
        {
          "output_type": "stream",
          "name": "stdout",
          "text": [
            "OR 논리 연산\n",
            "[0 0] : 0\n",
            "[0 1] : 1\n",
            "[1 0] : 1\n",
            "[1 1] : 1\n",
            "NAND 논리 연산\n",
            "[0 0] : 1\n",
            "[0 1] : 1\n",
            "[1 0] : 1\n",
            "[1 1] : 0\n"
          ]
        }
      ]
    },
    {
      "cell_type": "markdown",
      "source": [
        "---\n",
        "### 03 XOR 문제와 다층 퍼셉트론\n",
        "#### 은닉 노드를 가진 다층 퍼셉트론의 등장\n",
        "\n",
        "\n"
      ],
      "metadata": {
        "id": "PWm63ySPrgDh"
      }
    },
    {
      "cell_type": "code",
      "source": [
        "import numpy as np\n",
        "\n",
        "def activation(s):\n",
        "    return 1 if s >= 0 else 0\n",
        "\n",
        "# 가중치 값에 따라 다른 값을 반환하는 범용 논리 회로\n",
        "def perceptron(X, W):\n",
        "    sigma = np.sum(X * W)\n",
        "    return activation(sigma)     # 활성화 함수에 sigma 값을 넘겨주자\n",
        "\n",
        "def AND(x):\n",
        "    X = np.array([x[0], x[1], 1]) # x에 노드 1를 추가\n",
        "    W = np.array([.5, .5, -.8])   # 가중치 값 설정하기\n",
        "    return perceptron(X, W)\n",
        "\n",
        "def OR(x):\n",
        "    X = np.array([x[0], x[1], 1]) # X에 1 노드를 추가\n",
        "    W = np.array([.5, .5, -.3])   # 가중치 값 설정하기\n",
        "    return perceptron(X, W)\n",
        "\n",
        "def NAND(x):\n",
        "    X = np.array([x[0], x[1], 1]) # X에 1 노드를 추가\n",
        "    W = np.array([.5, .5, -.8])   # 가중치 값 설정하기\n",
        "    return perceptron(X, -W)      # 가중치 W의 부호를 음수로\n",
        "\n",
        "def XOR(x):          # XOR 게이트\n",
        "    return AND([OR(x), NAND(x)])\n",
        "\n",
        "print('--- 다층 퍼셉트론으로 구현한 XOR 논리 회로 ---')\n",
        "inputs = np.array([[0, 0], [0, 1], [1, 0], [1, 1]])\n",
        "for x in inputs:\n",
        "    y = XOR(x)\n",
        "    print(x, ':', y)"
      ],
      "metadata": {
        "id": "fyWV-44kRsq2",
        "colab": {
          "base_uri": "https://localhost:8080/"
        },
        "outputId": "e9cdb4e1-44ae-471b-a9d3-a1840c5dd6cd"
      },
      "execution_count": null,
      "outputs": [
        {
          "output_type": "stream",
          "name": "stdout",
          "text": [
            "--- 다층 퍼셉트론으로 구현한 XOR 논리 회로 ---\n",
            "[0 0] : 0\n",
            "[0 1] : 1\n",
            "[1 0] : 1\n",
            "[1 1] : 0\n"
          ]
        }
      ]
    },
    {
      "cell_type": "markdown",
      "source": [
        "### 04 퍼셉트론 학습시키기"
      ],
      "metadata": {
        "id": "2Qk_UDvDugaN"
      }
    },
    {
      "cell_type": "markdown",
      "source": [
        "#### 퍼셉트론의 학습을 위한 행렬 표현 방법"
      ],
      "metadata": {
        "id": "AliNm8pjNfro"
      }
    },
    {
      "cell_type": "code",
      "source": [
        "X = np.array([1, 2])    # 넘파이 ndarray 객체 X 생성\n",
        "W = np.array([[1, 2, 3], [4, 5, 6]]) # 2x3 크기의 ndarray 객체 W 생성\n",
        "A = np.dot(X, W)\n",
        "print('A =', A)"
      ],
      "metadata": {
        "colab": {
          "base_uri": "https://localhost:8080/"
        },
        "id": "REbo3_4dD0zT",
        "outputId": "e8cdfd8f-130c-4ea0-f3f2-9ee498145114"
      },
      "execution_count": null,
      "outputs": [
        {
          "output_type": "stream",
          "name": "stdout",
          "text": [
            "A = [ 9 12 15]\n"
          ]
        }
      ]
    }
  ]
}