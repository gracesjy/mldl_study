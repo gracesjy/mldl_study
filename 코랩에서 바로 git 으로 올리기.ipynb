{
  "nbformat": 4,
  "nbformat_minor": 0,
  "metadata": {
    "colab": {
      "provenance": [],
      "authorship_tag": "ABX9TyOA+m98+L6d8ugbxdg4Szum",
      "include_colab_link": true
    },
    "kernelspec": {
      "name": "python3",
      "display_name": "Python 3"
    },
    "language_info": {
      "name": "python"
    }
  },
  "cells": [
    {
      "cell_type": "markdown",
      "metadata": {
        "id": "view-in-github",
        "colab_type": "text"
      },
      "source": [
        "<a href=\"https://colab.research.google.com/github/gracesjy/mldl_study/blob/main/%EC%BD%94%EB%9E%A9%EC%97%90%EC%84%9C%20%EB%B0%94%EB%A1%9C%20git%20%EC%9C%BC%EB%A1%9C%20%EC%98%AC%EB%A6%AC%EA%B8%B0.ipynb\" target=\"_parent\"><img src=\"https://colab.research.google.com/assets/colab-badge.svg\" alt=\"Open In Colab\"/></a>"
      ]
    },
    {
      "cell_type": "code",
      "execution_count": 1,
      "metadata": {
        "id": "VCkexHpJ9SjW"
      },
      "outputs": [],
      "source": [
        "import pandas as pd"
      ]
    },
    {
      "cell_type": "code",
      "source": [],
      "metadata": {
        "id": "EQNom43C9WEN"
      },
      "execution_count": null,
      "outputs": []
    },
    {
      "cell_type": "markdown",
      "source": [
        "이것은 무엇인고 ... 이것을 바로 github 로 올릴 수가 있을까 ?"
      ],
      "metadata": {
        "id": "KvDNA16e9WqL"
      }
    }
  ]
}