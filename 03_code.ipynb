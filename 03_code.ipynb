{
  "nbformat": 4,
  "nbformat_minor": 0,
  "metadata": {
    "colab": {
      "provenance": [],
      "include_colab_link": true
    },
    "kernelspec": {
      "name": "python3",
      "display_name": "Python 3"
    },
    "language_info": {
      "name": "python"
    }
  },
  "cells": [
    {
      "cell_type": "markdown",
      "metadata": {
        "id": "view-in-github",
        "colab_type": "text"
      },
      "source": [
        "<a href=\"https://colab.research.google.com/github/gracesjy/mldl_study/blob/main/03_code.ipynb\" target=\"_parent\"><img src=\"https://colab.research.google.com/assets/colab-badge.svg\" alt=\"Open In Colab\"/></a>"
      ]
    },
    {
      "cell_type": "markdown",
      "source": [
        "# **인피니티북스 \"누구나 쉽게 배우는 딥러닝 스타트\"(1판) 교재 소스 코드**\n",
        "\n",
        "## **3장 개발환경구축과 넘파이**\n",
        "---\n",
        "* 출판사 : 인피니티북스( https://www.infinitybooks.co.kr )\n",
        "* 저자 : 박동규\n",
        "* 소스코드 저장소 : https://github.com/dongupak/DLstart\n",
        "* 저작권 : 본 주피터 노트북 코드는 자유롭게 배포가능하지만 위의 출판사, 저자 표기와 함께 배포해 주십시오.\n",
        " * https://www.yes24.com/Product/Goods/124152667\n",
        " * 책의 오류는 dongupak@gmail.com 으로 알려주십시오.\n",
        "---"
      ],
      "metadata": {
        "id": "tD-7HDpXVHVC"
      }
    },
    {
      "cell_type": "markdown",
      "source": [
        "### 3.1 파이썬과 구글 코랩\n",
        "#### 파이썬 프로그래밍 언어"
      ],
      "metadata": {
        "id": "-_PUtDE0U3HG"
      }
    },
    {
      "cell_type": "code",
      "source": [
        "animals = ['lion', 'tiger', 'cat', 'dog']\n",
        "animals.sort()            # animals 리스트 내부 문자열을 알파벳 순으로 정렬\n",
        "animals"
      ],
      "metadata": {
        "colab": {
          "base_uri": "https://localhost:8080/"
        },
        "id": "XVfMcQXUU-D2",
        "outputId": "694c64bc-6938-4a01-b5a4-98771ebedda9"
      },
      "execution_count": null,
      "outputs": [
        {
          "output_type": "execute_result",
          "data": {
            "text/plain": [
              "['cat', 'dog', 'lion', 'tiger']"
            ]
          },
          "metadata": {},
          "execution_count": 1
        }
      ]
    },
    {
      "cell_type": "code",
      "source": [
        "animals.append('rabbit')  # animals 리스트에 새 원소를 추가\n",
        "animals"
      ],
      "metadata": {
        "colab": {
          "base_uri": "https://localhost:8080/"
        },
        "id": "-64-6ACuVFDw",
        "outputId": "b7e2523a-5f9c-4977-e63c-bbeb736edd4d"
      },
      "execution_count": null,
      "outputs": [
        {
          "output_type": "execute_result",
          "data": {
            "text/plain": [
              "['cat', 'dog', 'lion', 'tiger', 'rabbit']"
            ]
          },
          "metadata": {},
          "execution_count": 2
        }
      ]
    },
    {
      "cell_type": "code",
      "source": [
        "animals.reverse()\n",
        "animals"
      ],
      "metadata": {
        "colab": {
          "base_uri": "https://localhost:8080/"
        },
        "id": "jBwN1E5JVKa8",
        "outputId": "8c1aa468-4889-4903-8979-74d6a914c021"
      },
      "execution_count": null,
      "outputs": [
        {
          "output_type": "execute_result",
          "data": {
            "text/plain": [
              "['rabbit', 'tiger', 'lion', 'dog', 'cat']"
            ]
          },
          "metadata": {},
          "execution_count": 3
        }
      ]
    },
    {
      "cell_type": "markdown",
      "source": [
        "#### 코랩 환경에서 코딩하기"
      ],
      "metadata": {
        "id": "14bLFuO__SYW"
      }
    },
    {
      "cell_type": "code",
      "execution_count": null,
      "metadata": {
        "colab": {
          "base_uri": "https://localhost:8080/"
        },
        "id": "8Ej8H7-oVfQ8",
        "outputId": "15ace1fb-da49-44b6-b7ec-7a6bcbbb9d1b"
      },
      "outputs": [
        {
          "output_type": "stream",
          "name": "stdout",
          "text": [
            "Hello Python\n"
          ]
        }
      ],
      "source": [
        "print('Hello Python')"
      ]
    },
    {
      "cell_type": "code",
      "source": [
        "print('Welcome to Deep Learning!')"
      ],
      "metadata": {
        "colab": {
          "base_uri": "https://localhost:8080/"
        },
        "id": "od7Ovq5IVmDh",
        "outputId": "48c249fa-8d86-4cf9-8817-97f22f185b47"
      },
      "execution_count": null,
      "outputs": [
        {
          "output_type": "stream",
          "name": "stdout",
          "text": [
            "Welcome to Deep Learning!\n"
          ]
        }
      ]
    },
    {
      "cell_type": "markdown",
      "source": [
        "---\n",
        "### 3.2 구글 코랩의 여러가지 기능들"
      ],
      "metadata": {
        "id": "PptDtGp_VUhY"
      }
    },
    {
      "cell_type": "markdown",
      "source": [
        "---"
      ],
      "metadata": {
        "id": "Udy-R_oJYOft"
      }
    },
    {
      "cell_type": "code",
      "source": [
        "import tensorflow as tf    # tensorflow의 별명은 tf로 한다\n",
        "\n",
        "print(tf.__version__)      # version 앞뒤로 두 개의 밑줄을 사용한다"
      ],
      "metadata": {
        "id": "pNwM0Ud-VpF6",
        "colab": {
          "base_uri": "https://localhost:8080/"
        },
        "outputId": "aa2aff26-3b0e-4640-a58c-b5639972992f"
      },
      "execution_count": null,
      "outputs": [
        {
          "output_type": "stream",
          "name": "stdout",
          "text": [
            "2.15.0\n"
          ]
        }
      ]
    },
    {
      "cell_type": "markdown",
      "source": [
        "### 3.3 강력한 기능을 가진 넘파이를 알아보자"
      ],
      "metadata": {
        "id": "TpQD8PF0Vku5"
      }
    },
    {
      "cell_type": "code",
      "source": [
        "import numpy as np   # numpy의 별칭으로 np를 지정함\n",
        "\n",
        "a = np.array([2, 3, 4])  # 다차원 배열 객체"
      ],
      "metadata": {
        "id": "NW3ilOaFVfD9"
      },
      "execution_count": null,
      "outputs": []
    },
    {
      "cell_type": "code",
      "source": [
        "a = np.array([2, 3, 4])       # 넘파이 ndarray 객체의 생성\n",
        "\n",
        "# a 객체의 형상(shape), 차원, 요소의 자료형, 요소의 크기(byte), 요소의 수\n",
        "a.shape, a.ndim, a.dtype, a.itemsize, a.size"
      ],
      "metadata": {
        "colab": {
          "base_uri": "https://localhost:8080/"
        },
        "id": "8wKLqoIHVut7",
        "outputId": "61d10251-7296-4e5a-da64-b292caa200e8"
      },
      "execution_count": null,
      "outputs": [
        {
          "output_type": "execute_result",
          "data": {
            "text/plain": [
              "((3,), 1, dtype('int64'), 8, 3)"
            ]
          },
          "metadata": {},
          "execution_count": 6
        }
      ]
    },
    {
      "cell_type": "code",
      "source": [
        "b = np.array([[1, 2, 3], [4, 5, 6]])  # 넘파이 ndarray 객체의 b 생성\n",
        "b.shape"
      ],
      "metadata": {
        "colab": {
          "base_uri": "https://localhost:8080/"
        },
        "id": "2FbmHzj_Vx1Q",
        "outputId": "4627cbb3-23f6-468d-f9ce-bd30771bf125"
      },
      "execution_count": null,
      "outputs": [
        {
          "output_type": "execute_result",
          "data": {
            "text/plain": [
              "(2, 3)"
            ]
          },
          "metadata": {},
          "execution_count": 8
        }
      ]
    },
    {
      "cell_type": "markdown",
      "source": [
        "#### 파이썬의 강력한 자료구조인 리스트와 넘파이의 다차원 배열"
      ],
      "metadata": {
        "id": "xDO22pgzV5IA"
      }
    },
    {
      "cell_type": "code",
      "source": [
        "mid_score_lst = [70, 85, 92, 79]\n",
        "# 파이썬의 리스트를 이용하여 성적을 저장\n",
        "print('중간 시험 점수들 :', mid_score_lst)"
      ],
      "metadata": {
        "colab": {
          "base_uri": "https://localhost:8080/"
        },
        "id": "Lpb8VXxdV1eQ",
        "outputId": "3804e928-e7a5-4107-df7b-c40ee1316a5d"
      },
      "execution_count": null,
      "outputs": [
        {
          "output_type": "stream",
          "name": "stdout",
          "text": [
            "중간 시험 점수들 : [70, 85, 92, 79]\n"
          ]
        }
      ]
    },
    {
      "cell_type": "code",
      "source": [
        "student_mid = [70, 85, 92, 79] # 중간시험 성적\n",
        "student_fin = [90, 65, 70, 85] # 기말시험 성적\n",
        "student_sum = student_mid + student_fin\n",
        "print('중간시험과 기말시험 성적의 합 :', student_sum)"
      ],
      "metadata": {
        "colab": {
          "base_uri": "https://localhost:8080/"
        },
        "id": "yRJFBLZsV4bZ",
        "outputId": "0bb03f64-0814-4421-f5db-556f241d1115"
      },
      "execution_count": null,
      "outputs": [
        {
          "output_type": "stream",
          "name": "stdout",
          "text": [
            "중간시험과 기말시험 성적의 합 : [70, 85, 92, 79, 90, 65, 70, 85]\n"
          ]
        }
      ]
    },
    {
      "cell_type": "code",
      "source": [
        "student_sum / 2   # 오류! : 리스트는 나누기 연산을 지원하지 않음"
      ],
      "metadata": {
        "colab": {
          "base_uri": "https://localhost:8080/",
          "height": 147
        },
        "id": "PYAf6adLWJge",
        "outputId": "7a94d2ff-057b-4260-f5b8-5f96762bf6d9"
      },
      "execution_count": null,
      "outputs": [
        {
          "output_type": "error",
          "ename": "TypeError",
          "evalue": "unsupported operand type(s) for /: 'list' and 'int'",
          "traceback": [
            "\u001b[0;31m---------------------------------------------------------------------------\u001b[0m",
            "\u001b[0;31mTypeError\u001b[0m                                 Traceback (most recent call last)",
            "\u001b[0;32m<ipython-input-11-7bd57eff8340>\u001b[0m in \u001b[0;36m<cell line: 1>\u001b[0;34m()\u001b[0m\n\u001b[0;32m----> 1\u001b[0;31m \u001b[0mstudent_sum\u001b[0m \u001b[0;34m/\u001b[0m \u001b[0;36m2\u001b[0m   \u001b[0;31m# 오류! : 리스트는 나누기 연산을 지원하지 않음\u001b[0m\u001b[0;34m\u001b[0m\u001b[0;34m\u001b[0m\u001b[0m\n\u001b[0m",
            "\u001b[0;31mTypeError\u001b[0m: unsupported operand type(s) for /: 'list' and 'int'"
          ]
        }
      ]
    },
    {
      "cell_type": "code",
      "source": [
        "student_mid = np.array([70, 85, 92, 79]) # 중간시험 성적\n",
        "student_fin = np.array([90, 65, 70, 85]) # 기말시험 성적\n",
        "student_sum = student_mid + student_fin\n",
        "print('중간시험과 기말시험 성적의 합 :', student_sum)"
      ],
      "metadata": {
        "colab": {
          "base_uri": "https://localhost:8080/"
        },
        "id": "uh8bYJSMWNVg",
        "outputId": "2c8d934c-de95-4dba-f98b-fe60ac6a627c"
      },
      "execution_count": null,
      "outputs": [
        {
          "output_type": "stream",
          "name": "stdout",
          "text": [
            "중간시험과 기말시험 성적의 합 : [160 150 162 164]\n"
          ]
        }
      ]
    },
    {
      "cell_type": "code",
      "source": [
        "print('평균 성적 :', student_sum/2)"
      ],
      "metadata": {
        "colab": {
          "base_uri": "https://localhost:8080/"
        },
        "id": "tb8qRyd0WRVJ",
        "outputId": "97ab9ead-aa3e-4132-d16f-1711318b202c"
      },
      "execution_count": null,
      "outputs": [
        {
          "output_type": "stream",
          "name": "stdout",
          "text": [
            "평균 성적 : [80. 75. 81. 82.]\n"
          ]
        }
      ]
    },
    {
      "cell_type": "markdown",
      "source": [
        "#### 다차원 배열의 연산"
      ],
      "metadata": {
        "id": "QFi40c5sZkGk"
      }
    },
    {
      "cell_type": "code",
      "source": [
        "a = np.array([10, 20, 30])    # 넘파이 ndarray 객체 a 생성\n",
        "b = np.array([1, 2, 3])       # 넘파이 ndarray 객체 b 생성\n",
        "a + b"
      ],
      "metadata": {
        "colab": {
          "base_uri": "https://localhost:8080/"
        },
        "id": "zlPxHNNHWjJ3",
        "outputId": "a54c16c1-6a3d-4c8a-c4a9-530c167f89e5"
      },
      "execution_count": null,
      "outputs": [
        {
          "output_type": "execute_result",
          "data": {
            "text/plain": [
              "array([11, 22, 33])"
            ]
          },
          "metadata": {},
          "execution_count": 14
        }
      ]
    },
    {
      "cell_type": "code",
      "source": [
        "a - b"
      ],
      "metadata": {
        "colab": {
          "base_uri": "https://localhost:8080/"
        },
        "id": "z3xGeAC-Zmzw",
        "outputId": "3994def3-5f3e-4adb-91ac-e41ec562c58e"
      },
      "execution_count": null,
      "outputs": [
        {
          "output_type": "execute_result",
          "data": {
            "text/plain": [
              "array([ 9, 18, 27])"
            ]
          },
          "metadata": {},
          "execution_count": 15
        }
      ]
    },
    {
      "cell_type": "code",
      "source": [
        "a * b"
      ],
      "metadata": {
        "colab": {
          "base_uri": "https://localhost:8080/"
        },
        "id": "8PZyriTDZp0A",
        "outputId": "a1acb911-40c9-4fab-e9ba-f0b88b9092e6"
      },
      "execution_count": null,
      "outputs": [
        {
          "output_type": "execute_result",
          "data": {
            "text/plain": [
              "array([10, 40, 90])"
            ]
          },
          "metadata": {},
          "execution_count": 18
        }
      ]
    },
    {
      "cell_type": "code",
      "source": [
        "a / b"
      ],
      "metadata": {
        "colab": {
          "base_uri": "https://localhost:8080/"
        },
        "id": "tfWmufWoZsIV",
        "outputId": "477c896b-8ad5-4bef-d6c4-576a6d310b0c"
      },
      "execution_count": null,
      "outputs": [
        {
          "output_type": "execute_result",
          "data": {
            "text/plain": [
              "array([10., 10., 10.])"
            ]
          },
          "metadata": {},
          "execution_count": 19
        }
      ]
    },
    {
      "cell_type": "markdown",
      "source": [
        "----\n",
        "#### 편리하고 강력한 브로드캐스팅과 벡터화 연산"
      ],
      "metadata": {
        "id": "AaZGgm2hZyp3"
      }
    },
    {
      "cell_type": "code",
      "source": [
        "a = np.array([10, 20, 30])\n",
        "a * 10"
      ],
      "metadata": {
        "colab": {
          "base_uri": "https://localhost:8080/"
        },
        "id": "2kF7G0HTZta8",
        "outputId": "95185e00-c4d8-4ec0-d3c5-391f75f608eb"
      },
      "execution_count": null,
      "outputs": [
        {
          "output_type": "execute_result",
          "data": {
            "text/plain": [
              "array([100, 200, 300])"
            ]
          },
          "metadata": {},
          "execution_count": 20
        }
      ]
    },
    {
      "cell_type": "code",
      "source": [
        "a + 10"
      ],
      "metadata": {
        "colab": {
          "base_uri": "https://localhost:8080/"
        },
        "id": "xtn5-EPQZ13-",
        "outputId": "b4fa8545-a9d8-4de0-8ce1-626b8bc79bd0"
      },
      "execution_count": null,
      "outputs": [
        {
          "output_type": "execute_result",
          "data": {
            "text/plain": [
              "array([20, 30, 40])"
            ]
          },
          "metadata": {},
          "execution_count": 21
        }
      ]
    },
    {
      "cell_type": "code",
      "source": [
        "b = np.array([[10, 20, 30],\n",
        "              [40, 50, 60]])\n",
        "c = np.array([2, 3, 4])\n",
        "b + c"
      ],
      "metadata": {
        "colab": {
          "base_uri": "https://localhost:8080/"
        },
        "id": "tu8r6SCNZ4P8",
        "outputId": "6e8d6884-ce17-4f8a-fa8d-5abddfae3780"
      },
      "execution_count": null,
      "outputs": [
        {
          "output_type": "execute_result",
          "data": {
            "text/plain": [
              "array([[12, 23, 34],\n",
              "       [42, 53, 64]])"
            ]
          },
          "metadata": {},
          "execution_count": 22
        }
      ]
    },
    {
      "cell_type": "code",
      "source": [
        "b * c"
      ],
      "metadata": {
        "colab": {
          "base_uri": "https://localhost:8080/"
        },
        "id": "QhKQwpETZ7HH",
        "outputId": "2577c963-e22e-422e-90e3-f3d2aeddd4d7"
      },
      "execution_count": null,
      "outputs": [
        {
          "output_type": "execute_result",
          "data": {
            "text/plain": [
              "array([[ 20,  60, 120],\n",
              "       [ 80, 150, 240]])"
            ]
          },
          "metadata": {},
          "execution_count": 23
        }
      ]
    },
    {
      "cell_type": "markdown",
      "source": [
        "#### 다차원 배열을 쉽게 생성해 보자\n"
      ],
      "metadata": {
        "id": "gn6n8sUqaDC2"
      }
    },
    {
      "cell_type": "code",
      "source": [
        "import numpy as np\n",
        "\n",
        "np.array(range(1, 11))     # 파이썬의 range() 함수로 연속된 수를 만든다"
      ],
      "metadata": {
        "colab": {
          "base_uri": "https://localhost:8080/"
        },
        "id": "2MQgHnocZ9-l",
        "outputId": "4ae6e28f-890f-4e17-b21c-62d6646e73e6"
      },
      "execution_count": null,
      "outputs": [
        {
          "output_type": "execute_result",
          "data": {
            "text/plain": [
              "array([ 1,  2,  3,  4,  5,  6,  7,  8,  9, 10])"
            ]
          },
          "metadata": {},
          "execution_count": 24
        }
      ]
    },
    {
      "cell_type": "code",
      "source": [
        "np.zeros((2, 3))     # 2행 3열의 행렬 생성 시 모든 값을 0으로"
      ],
      "metadata": {
        "colab": {
          "base_uri": "https://localhost:8080/"
        },
        "id": "TLy0g_rVaEt6",
        "outputId": "aa78199b-39a6-41fc-95fa-27328becc2f5"
      },
      "execution_count": null,
      "outputs": [
        {
          "output_type": "execute_result",
          "data": {
            "text/plain": [
              "array([[0., 0., 0.],\n",
              "       [0., 0., 0.]])"
            ]
          },
          "metadata": {},
          "execution_count": 25
        }
      ]
    },
    {
      "cell_type": "code",
      "source": [
        "np.ones((2, 3))      # 2행 3열의 행렬 생성 시 모든 값을 1로"
      ],
      "metadata": {
        "id": "tdXSS_w5aYMh",
        "colab": {
          "base_uri": "https://localhost:8080/"
        },
        "outputId": "13ea2ebf-f805-4a42-cc1f-2198b868db39"
      },
      "execution_count": null,
      "outputs": [
        {
          "output_type": "execute_result",
          "data": {
            "text/plain": [
              "array([[1., 1., 1.],\n",
              "       [1., 1., 1.]])"
            ]
          },
          "metadata": {},
          "execution_count": 26
        }
      ]
    },
    {
      "cell_type": "code",
      "source": [
        "np.full((2, 3), 100) # 2행 3열의 행렬 생성 시 모든 값을 100으로"
      ],
      "metadata": {
        "colab": {
          "base_uri": "https://localhost:8080/"
        },
        "id": "wdvscsxxb9ML",
        "outputId": "7621878e-1314-43a8-8524-a220501c52d8"
      },
      "execution_count": null,
      "outputs": [
        {
          "output_type": "execute_result",
          "data": {
            "text/plain": [
              "array([[100, 100, 100],\n",
              "       [100, 100, 100]])"
            ]
          },
          "metadata": {},
          "execution_count": 27
        }
      ]
    },
    {
      "cell_type": "code",
      "source": [
        "np.eye(3)            # 3x3 크기의 단위행렬 생성"
      ],
      "metadata": {
        "colab": {
          "base_uri": "https://localhost:8080/"
        },
        "id": "x_Hklc84b_1b",
        "outputId": "13540e86-fd8a-4bdd-a1e0-dbde5ff582db"
      },
      "execution_count": null,
      "outputs": [
        {
          "output_type": "execute_result",
          "data": {
            "text/plain": [
              "array([[1., 0., 0.],\n",
              "       [0., 1., 0.],\n",
              "       [0., 0., 1.]])"
            ]
          },
          "metadata": {},
          "execution_count": 28
        }
      ]
    },
    {
      "cell_type": "markdown",
      "source": [
        "---\n",
        "#### 다차원 배열을 합하는 append() 함수"
      ],
      "metadata": {
        "id": "0vCE7NPccFho"
      }
    },
    {
      "cell_type": "code",
      "source": [
        "a = np.array([1, 2, 3])\n",
        "b = np.array([[4, 5, 6], [7, 8, 9]])\n",
        "np.append(a, b)"
      ],
      "metadata": {
        "colab": {
          "base_uri": "https://localhost:8080/"
        },
        "id": "3f1pHOudcGd8",
        "outputId": "bff3ecac-bbf3-4a76-d19c-ebe7592996ce"
      },
      "execution_count": null,
      "outputs": [
        {
          "output_type": "execute_result",
          "data": {
            "text/plain": [
              "array([1, 2, 3, 4, 5, 6, 7, 8, 9])"
            ]
          },
          "metadata": {},
          "execution_count": 29
        }
      ]
    },
    {
      "cell_type": "code",
      "source": [
        "np.append([a], b, axis = 0)     # [a]를 통해 2차원 배열로 만들어야 함"
      ],
      "metadata": {
        "colab": {
          "base_uri": "https://localhost:8080/"
        },
        "id": "lubu6SZWcLub",
        "outputId": "9a18a8c8-1a42-40ab-e22d-e3b30d82d3c8"
      },
      "execution_count": null,
      "outputs": [
        {
          "output_type": "execute_result",
          "data": {
            "text/plain": [
              "array([[1, 2, 3],\n",
              "       [4, 5, 6],\n",
              "       [7, 8, 9]])"
            ]
          },
          "metadata": {},
          "execution_count": 30
        }
      ]
    },
    {
      "cell_type": "code",
      "source": [
        "a = np.array([[1, 2], [3, 4]])     # 2차원 배열 a\n",
        "b = np.array([[10, 20], [30, 40]]) # 2차원 배열 b\n",
        "a * b         # 2차원 배열의 곱하기 연산 - 원소 간의 곱셈"
      ],
      "metadata": {
        "colab": {
          "base_uri": "https://localhost:8080/"
        },
        "id": "x0UPtW26cC0r",
        "outputId": "7f9ff18e-6c68-47c2-dd8b-7c55ce0a3b16"
      },
      "execution_count": null,
      "outputs": [
        {
          "output_type": "execute_result",
          "data": {
            "text/plain": [
              "array([[ 10,  40],\n",
              "       [ 90, 160]])"
            ]
          },
          "metadata": {},
          "execution_count": 31
        }
      ]
    },
    {
      "cell_type": "code",
      "source": [
        "np.matmul(a, b)     # 2차원 배열 a, b의 행렬곱, a @ b와 같다"
      ],
      "metadata": {
        "colab": {
          "base_uri": "https://localhost:8080/"
        },
        "id": "sYJBfZQRcQdP",
        "outputId": "26f73a51-0718-4175-ffee-6c52c9123cd8"
      },
      "execution_count": null,
      "outputs": [
        {
          "output_type": "execute_result",
          "data": {
            "text/plain": [
              "array([[ 70, 100],\n",
              "       [150, 220]])"
            ]
          },
          "metadata": {},
          "execution_count": 32
        }
      ]
    },
    {
      "cell_type": "code",
      "source": [
        "a @ b               # 2차원 배열 a, b의 행렬곱, 위의 결과와 동일함"
      ],
      "metadata": {
        "id": "jm34qPbPcTzM",
        "colab": {
          "base_uri": "https://localhost:8080/"
        },
        "outputId": "cdfb5072-828b-43b6-bd15-2854da97ba0d"
      },
      "execution_count": null,
      "outputs": [
        {
          "output_type": "execute_result",
          "data": {
            "text/plain": [
              "array([[ 70, 100],\n",
              "       [150, 220]])"
            ]
          },
          "metadata": {},
          "execution_count": 33
        }
      ]
    },
    {
      "cell_type": "markdown",
      "source": [
        "---\n",
        "### 3.4 넘파이의 고급 기능을 알아보자"
      ],
      "metadata": {
        "id": "FDFrdMfJcZoj"
      }
    },
    {
      "cell_type": "markdown",
      "source": [
        "#### 인덱싱과 슬라이싱"
      ],
      "metadata": {
        "id": "8uAotRqQcpXW"
      }
    },
    {
      "cell_type": "code",
      "source": [
        "import numpy as np\n",
        "\n",
        "arr_2d = np.array( [[1, 2, 3], [4, 5, 6],\n",
        "                    [7, 8, 9], [0, 1, 2]] )"
      ],
      "metadata": {
        "id": "X_tH16Hncd04"
      },
      "execution_count": null,
      "outputs": []
    },
    {
      "cell_type": "code",
      "source": [
        "# 첫 번째 행의 첫 번째 데이터\n",
        "print(arr_2d[0][0])\n",
        "# 세 번째 열의 데이터\n",
        "print(arr_2d[2])"
      ],
      "metadata": {
        "id": "j6HCsAJlcxSs",
        "colab": {
          "base_uri": "https://localhost:8080/"
        },
        "outputId": "d258aacc-c656-4906-a1f3-0a9d06fb41af"
      },
      "execution_count": null,
      "outputs": [
        {
          "output_type": "stream",
          "name": "stdout",
          "text": [
            "1\n",
            "[7 8 9]\n"
          ]
        }
      ]
    },
    {
      "cell_type": "code",
      "source": [
        "arr_2d[1:][0:2]"
      ],
      "metadata": {
        "colab": {
          "base_uri": "https://localhost:8080/"
        },
        "id": "O8mZ6pK3dC7Q",
        "outputId": "d4175254-b5f9-4eb2-e24f-025dab8682fa"
      },
      "execution_count": null,
      "outputs": [
        {
          "output_type": "execute_result",
          "data": {
            "text/plain": [
              "array([[4, 5, 6],\n",
              "       [7, 8, 9]])"
            ]
          },
          "metadata": {},
          "execution_count": 36
        }
      ]
    },
    {
      "cell_type": "code",
      "source": [
        "length0, length1 = arr_2d.shape\n",
        "for i in range(length0):\n",
        "   for j in range(length1):\n",
        "       print(arr_2d[i][j], arr_2d[i, j]) # 두 방식의 결과는 동일함"
      ],
      "metadata": {
        "colab": {
          "base_uri": "https://localhost:8080/"
        },
        "id": "WMIwEGM0dDf9",
        "outputId": "1b8131a5-23c6-4af5-c074-05d75f4a4f9c"
      },
      "execution_count": null,
      "outputs": [
        {
          "output_type": "stream",
          "name": "stdout",
          "text": [
            "1 1\n",
            "2 2\n",
            "3 3\n",
            "4 4\n",
            "5 5\n",
            "6 6\n",
            "7 7\n",
            "8 8\n",
            "9 9\n",
            "0 0\n",
            "1 1\n",
            "2 2\n"
          ]
        }
      ]
    },
    {
      "cell_type": "code",
      "source": [
        "ages = np.array([28, 25, 12, 16, 20])"
      ],
      "metadata": {
        "id": "8RgLqWexSLK2"
      },
      "execution_count": null,
      "outputs": []
    },
    {
      "cell_type": "code",
      "source": [
        "y = ages >= 21\n",
        "y"
      ],
      "metadata": {
        "colab": {
          "base_uri": "https://localhost:8080/"
        },
        "id": "IKaNIUr3SPH9",
        "outputId": "04e1f2ce-1183-46fb-8c9c-4584bcbd614c"
      },
      "execution_count": null,
      "outputs": [
        {
          "output_type": "execute_result",
          "data": {
            "text/plain": [
              "array([ True,  True, False, False, False])"
            ]
          },
          "metadata": {},
          "execution_count": 39
        }
      ]
    },
    {
      "cell_type": "code",
      "source": [
        "age_over_21 = ages[ ages>= 21 ]\n",
        "print(f'age_over_21 = {age_over_21}')"
      ],
      "metadata": {
        "colab": {
          "base_uri": "https://localhost:8080/"
        },
        "id": "0U2bUUXYSnBF",
        "outputId": "9d7ec075-850f-49cf-9dbe-e42f12988d6e"
      },
      "execution_count": null,
      "outputs": [
        {
          "output_type": "stream",
          "name": "stdout",
          "text": [
            "age_over_21 = [28 25]\n"
          ]
        }
      ]
    },
    {
      "cell_type": "markdown",
      "source": [
        "#### 난수를 생성해보자"
      ],
      "metadata": {
        "id": "l3Jr0sokl9FG"
      }
    },
    {
      "cell_type": "code",
      "source": [
        "import numpy as np\n",
        "rnd = np.random.randn(5) * 10 + 165 # 평균값이 165,표준편차가 10인 값 생성\n",
        "rnd"
      ],
      "metadata": {
        "colab": {
          "base_uri": "https://localhost:8080/"
        },
        "id": "B_iF7LELd3bn",
        "outputId": "bcc3d7d5-5ff0-494d-9d07-080e7bd438ff"
      },
      "execution_count": null,
      "outputs": [
        {
          "output_type": "execute_result",
          "data": {
            "text/plain": [
              "array([162.18292527, 158.58215035, 161.01449835, 167.8355536 ,\n",
              "       170.10304917])"
            ]
          },
          "metadata": {},
          "execution_count": 1
        }
      ]
    },
    {
      "cell_type": "code",
      "source": [
        "rnd.round(2)     # 소수점 아래 둘째 자리까지 값으로 변환"
      ],
      "metadata": {
        "colab": {
          "base_uri": "https://localhost:8080/"
        },
        "id": "PvvxTqEBd6vM",
        "outputId": "85423ea1-bfc3-4040-9dd6-c674d6f346f4"
      },
      "execution_count": null,
      "outputs": [
        {
          "output_type": "execute_result",
          "data": {
            "text/plain": [
              "array([162.18, 158.58, 161.01, 167.84, 170.1 ])"
            ]
          },
          "metadata": {},
          "execution_count": 3
        }
      ]
    },
    {
      "cell_type": "code",
      "source": [
        "rnd.astype(int)     # 정수형 자료형으로 변환"
      ],
      "metadata": {
        "colab": {
          "base_uri": "https://localhost:8080/"
        },
        "id": "fDPxgrSLd9bM",
        "outputId": "45cf8a9a-0053-4989-a4ff-0b05334ebdcc"
      },
      "execution_count": null,
      "outputs": [
        {
          "output_type": "execute_result",
          "data": {
            "text/plain": [
              "array([162, 158, 161, 167, 170])"
            ]
          },
          "metadata": {},
          "execution_count": 2
        }
      ]
    },
    {
      "cell_type": "code",
      "source": [
        "np.random.seed(42)  # 씨드값이 특정되면 매번 동일한 난수의 열이 생성됨"
      ],
      "metadata": {
        "id": "-c6Tq7CVeCoY"
      },
      "execution_count": null,
      "outputs": []
    },
    {
      "cell_type": "code",
      "source": [
        "nums = np.random.normal(loc=165, scale=10, size=(3, 4)).round(2)\n",
        "nums"
      ],
      "metadata": {
        "colab": {
          "base_uri": "https://localhost:8080/"
        },
        "id": "2fTMZKyGeH3N",
        "outputId": "2efacf6b-96b4-4189-dced-65ebb4242597"
      },
      "execution_count": null,
      "outputs": [
        {
          "output_type": "execute_result",
          "data": {
            "text/plain": [
              "array([[169.97, 163.62, 171.48, 180.23],\n",
              "       [162.66, 162.66, 180.79, 172.67],\n",
              "       [160.31, 170.43, 160.37, 160.34]])"
            ]
          },
          "metadata": {},
          "execution_count": 5
        }
      ]
    },
    {
      "cell_type": "code",
      "source": [
        "a = np.arange(10)  # 0, 1, 2, 3, 4, 5, 6, 7, 8, 9 값을 생성\n",
        "np.random.shuffle(a)\n",
        "a                  # a에는 순서가 뒤섞인 값이 들어있다"
      ],
      "metadata": {
        "colab": {
          "base_uri": "https://localhost:8080/"
        },
        "id": "CM_eNG_meIWT",
        "outputId": "0745fd3f-5099-456a-b120-fdff71dcec49"
      },
      "execution_count": null,
      "outputs": [
        {
          "output_type": "execute_result",
          "data": {
            "text/plain": [
              "array([1, 7, 6, 2, 8, 0, 3, 4, 5, 9])"
            ]
          },
          "metadata": {},
          "execution_count": 45
        }
      ]
    },
    {
      "cell_type": "code",
      "source": [
        "# permutation() 함수는 리스트 원소를 랜덤한 순서로 재배치한 후\n",
        "# ndarray로 반환한다.\n",
        "np.random.permutation([2, 4, 6, 8, 10])"
      ],
      "metadata": {
        "colab": {
          "base_uri": "https://localhost:8080/"
        },
        "id": "19PQWeXOeMY6",
        "outputId": "23cfe1d2-ce41-4fc9-c46b-a297fe622698"
      },
      "execution_count": null,
      "outputs": [
        {
          "output_type": "execute_result",
          "data": {
            "text/plain": [
              "array([ 2,  4, 10,  8,  6])"
            ]
          },
          "metadata": {},
          "execution_count": 47
        }
      ]
    },
    {
      "cell_type": "code",
      "source": [
        "a = np.arange(10)  # 0, 1, 2, 3, 4, 5, 6, 7, 8, 9 값을 생성\n",
        "np.random.shuffle(a)\n",
        "print('50% 데이터 :', a[:5])        # 순서가 뒤섞인 값이 5개 들어있다\n",
        "print('나머지 50% 데이터 :', a[5:])  # 순서가 뒤섞인 값이 5개 들어있다"
      ],
      "metadata": {
        "colab": {
          "base_uri": "https://localhost:8080/"
        },
        "id": "1TdkfIl4eO9Z",
        "outputId": "2162c245-8ef0-4bae-c392-396dc1adb5ca"
      },
      "execution_count": null,
      "outputs": [
        {
          "output_type": "stream",
          "name": "stdout",
          "text": [
            "50% 데이터 : [5 3 1 6 0]\n",
            "나머지 50% 데이터 : [7 9 4 2 8]\n"
          ]
        }
      ]
    },
    {
      "cell_type": "markdown",
      "source": [
        "---\n",
        "#### 여러 개의 배열값을 얻는 방법"
      ],
      "metadata": {
        "id": "5egnRkbWmk8O"
      }
    },
    {
      "cell_type": "code",
      "source": [
        "np.linspace(0, 10, 100)"
      ],
      "metadata": {
        "colab": {
          "base_uri": "https://localhost:8080/"
        },
        "id": "H25Iuq4rhXfI",
        "outputId": "87015569-4267-4a02-a650-b776bb0f4f30"
      },
      "execution_count": null,
      "outputs": [
        {
          "output_type": "execute_result",
          "data": {
            "text/plain": [
              "array([ 0.        ,  0.1010101 ,  0.2020202 ,  0.3030303 ,  0.4040404 ,\n",
              "        0.50505051,  0.60606061,  0.70707071,  0.80808081,  0.90909091,\n",
              "        1.01010101,  1.11111111,  1.21212121,  1.31313131,  1.41414141,\n",
              "        1.51515152,  1.61616162,  1.71717172,  1.81818182,  1.91919192,\n",
              "        2.02020202,  2.12121212,  2.22222222,  2.32323232,  2.42424242,\n",
              "        2.52525253,  2.62626263,  2.72727273,  2.82828283,  2.92929293,\n",
              "        3.03030303,  3.13131313,  3.23232323,  3.33333333,  3.43434343,\n",
              "        3.53535354,  3.63636364,  3.73737374,  3.83838384,  3.93939394,\n",
              "        4.04040404,  4.14141414,  4.24242424,  4.34343434,  4.44444444,\n",
              "        4.54545455,  4.64646465,  4.74747475,  4.84848485,  4.94949495,\n",
              "        5.05050505,  5.15151515,  5.25252525,  5.35353535,  5.45454545,\n",
              "        5.55555556,  5.65656566,  5.75757576,  5.85858586,  5.95959596,\n",
              "        6.06060606,  6.16161616,  6.26262626,  6.36363636,  6.46464646,\n",
              "        6.56565657,  6.66666667,  6.76767677,  6.86868687,  6.96969697,\n",
              "        7.07070707,  7.17171717,  7.27272727,  7.37373737,  7.47474747,\n",
              "        7.57575758,  7.67676768,  7.77777778,  7.87878788,  7.97979798,\n",
              "        8.08080808,  8.18181818,  8.28282828,  8.38383838,  8.48484848,\n",
              "        8.58585859,  8.68686869,  8.78787879,  8.88888889,  8.98989899,\n",
              "        9.09090909,  9.19191919,  9.29292929,  9.39393939,  9.49494949,\n",
              "        9.5959596 ,  9.6969697 ,  9.7979798 ,  9.8989899 , 10.        ])"
            ]
          },
          "metadata": {},
          "execution_count": 50
        }
      ]
    },
    {
      "cell_type": "code",
      "source": [
        "np.logspace(0, 5, 10)"
      ],
      "metadata": {
        "colab": {
          "base_uri": "https://localhost:8080/"
        },
        "id": "0zF_EVmnfJU1",
        "outputId": "d3407ddc-354b-4bb5-c5c5-5e85796472e2"
      },
      "execution_count": null,
      "outputs": [
        {
          "output_type": "execute_result",
          "data": {
            "text/plain": [
              "array([1.00000000e+00, 3.59381366e+00, 1.29154967e+01, 4.64158883e+01,\n",
              "       1.66810054e+02, 5.99484250e+02, 2.15443469e+03, 7.74263683e+03,\n",
              "       2.78255940e+04, 1.00000000e+05])"
            ]
          },
          "metadata": {},
          "execution_count": 51
        }
      ]
    },
    {
      "cell_type": "markdown",
      "source": [
        "#### 배열의 형태를 바꾸는 reshape() 메소드와 flatten() 메소드"
      ],
      "metadata": {
        "id": "-47KgRS-m6g7"
      }
    },
    {
      "cell_type": "code",
      "source": [
        "import numpy as np\n",
        "\n",
        "y = np.arange(12)   # 0에서 11까지 12개의 수를 생성한다\n",
        "y"
      ],
      "metadata": {
        "id": "LwAODPtthVSl",
        "colab": {
          "base_uri": "https://localhost:8080/"
        },
        "outputId": "2b7f5828-0add-4a35-8db5-6419cf47eb6a"
      },
      "execution_count": null,
      "outputs": [
        {
          "output_type": "execute_result",
          "data": {
            "text/plain": [
              "array([ 0,  1,  2,  3,  4,  5,  6,  7,  8,  9, 10, 11])"
            ]
          },
          "metadata": {},
          "execution_count": 52
        }
      ]
    },
    {
      "cell_type": "code",
      "source": [
        "y.reshape(3, 4)     # 다차원 배열의 shape을 (3, 4)로 만든다"
      ],
      "metadata": {
        "colab": {
          "base_uri": "https://localhost:8080/"
        },
        "id": "Sr4Tkz23nGzF",
        "outputId": "18e3a253-f48b-4656-ef4c-05a666bdde35"
      },
      "execution_count": null,
      "outputs": [
        {
          "output_type": "execute_result",
          "data": {
            "text/plain": [
              "array([[ 0,  1,  2,  3],\n",
              "       [ 4,  5,  6,  7],\n",
              "       [ 8,  9, 10, 11]])"
            ]
          },
          "metadata": {},
          "execution_count": 53
        }
      ]
    },
    {
      "cell_type": "code",
      "source": [
        "y.reshape(-1, 4)     # 다차원 배열의 shape을 (3, 4)로 만든다"
      ],
      "metadata": {
        "colab": {
          "base_uri": "https://localhost:8080/"
        },
        "id": "v74jtMvRWfcm",
        "outputId": "4973d67c-dc12-4c51-edf8-363bb993fb6b"
      },
      "execution_count": null,
      "outputs": [
        {
          "output_type": "execute_result",
          "data": {
            "text/plain": [
              "array([[ 0,  1,  2,  3],\n",
              "       [ 4,  5,  6,  7],\n",
              "       [ 8,  9, 10, 11]])"
            ]
          },
          "metadata": {},
          "execution_count": 54
        }
      ]
    },
    {
      "cell_type": "code",
      "source": [
        "# 차원을 3차원으로 만든다, [[[로 시작 ]]]로 마침\n",
        "y.reshape(-1, 3, 4)"
      ],
      "metadata": {
        "colab": {
          "base_uri": "https://localhost:8080/"
        },
        "id": "bTUZaLMjV0ut",
        "outputId": "1767f1b7-bfc2-42f9-9807-8331330cd191"
      },
      "execution_count": null,
      "outputs": [
        {
          "output_type": "execute_result",
          "data": {
            "text/plain": [
              "array([[[ 0,  1,  2,  3],\n",
              "        [ 4,  5,  6,  7],\n",
              "        [ 8,  9, 10, 11]]])"
            ]
          },
          "metadata": {},
          "execution_count": 55
        }
      ]
    },
    {
      "cell_type": "code",
      "source": [
        "# 3차원 배열을 만든다\n",
        "y.reshape(-1, 2, 3)"
      ],
      "metadata": {
        "colab": {
          "base_uri": "https://localhost:8080/"
        },
        "id": "n8Y7sMTaV_nq",
        "outputId": "5dabce12-b6e8-4738-ea04-542a372d937e"
      },
      "execution_count": null,
      "outputs": [
        {
          "output_type": "execute_result",
          "data": {
            "text/plain": [
              "array([[[ 0,  1,  2],\n",
              "        [ 3,  4,  5]],\n",
              "\n",
              "       [[ 6,  7,  8],\n",
              "        [ 9, 10, 11]]])"
            ]
          },
          "metadata": {},
          "execution_count": 56
        }
      ]
    },
    {
      "cell_type": "code",
      "source": [
        "y = np.arange(3)     # 1차원 배열\n",
        "y = y[:, np.newaxis] # 차원을 2차원으로 만든다\n",
        "y"
      ],
      "metadata": {
        "colab": {
          "base_uri": "https://localhost:8080/"
        },
        "id": "Y8_sbi4IWQAm",
        "outputId": "e407b8a9-bbc5-4863-d44f-5c35fc28993b"
      },
      "execution_count": null,
      "outputs": [
        {
          "output_type": "execute_result",
          "data": {
            "text/plain": [
              "array([[0],\n",
              "       [1],\n",
              "       [2]])"
            ]
          },
          "metadata": {},
          "execution_count": 57
        }
      ]
    },
    {
      "cell_type": "code",
      "source": [
        "y = np.arange(3)\n",
        "y = y[:, np.newaxis, np.newaxis]# 차원을 3차원으로 만든다\n",
        "y"
      ],
      "metadata": {
        "colab": {
          "base_uri": "https://localhost:8080/"
        },
        "id": "qp_J_bnHXwef",
        "outputId": "093cbdd9-55c4-4f88-91d5-56a321147bb5"
      },
      "execution_count": null,
      "outputs": [
        {
          "output_type": "execute_result",
          "data": {
            "text/plain": [
              "array([[[0]],\n",
              "\n",
              "       [[1]],\n",
              "\n",
              "       [[2]]])"
            ]
          },
          "metadata": {},
          "execution_count": 58
        }
      ]
    },
    {
      "cell_type": "code",
      "source": [
        "b = np.array([[1, 1], [2, 2], [3, 3]])\n",
        "b.flatten()    # 넘파이 다차원 배열의 평탄화 메소드"
      ],
      "metadata": {
        "colab": {
          "base_uri": "https://localhost:8080/"
        },
        "id": "NWqNm0HoobMp",
        "outputId": "bc85377e-f203-4f9c-e20e-451535cec5d6"
      },
      "execution_count": null,
      "outputs": [
        {
          "output_type": "execute_result",
          "data": {
            "text/plain": [
              "array([1, 1, 2, 2, 3, 3])"
            ]
          },
          "metadata": {},
          "execution_count": 61
        }
      ]
    },
    {
      "cell_type": "code",
      "source": [
        "b = np.array([[1, 1], [2, 2], [3, 3]])\n",
        "b.T"
      ],
      "metadata": {
        "colab": {
          "base_uri": "https://localhost:8080/"
        },
        "id": "_yyLdiGkod37",
        "outputId": "fbb95bc7-51fe-4f45-8c58-59626a828283"
      },
      "execution_count": null,
      "outputs": [
        {
          "output_type": "execute_result",
          "data": {
            "text/plain": [
              "array([[1, 2, 3],\n",
              "       [1, 2, 3]])"
            ]
          },
          "metadata": {},
          "execution_count": 62
        }
      ]
    },
    {
      "cell_type": "markdown",
      "source": [
        "### 3.5 딥러닝을 위한 행렬\n",
        "#### 딥러닝을 위한 행렬의 핵심 개념\n"
      ],
      "metadata": {
        "id": "3hxsQQftrlCx"
      }
    },
    {
      "cell_type": "code",
      "source": [
        "import numpy as np\n",
        "\n",
        "a = np.array([1, -4])\n",
        "b = np.array([3, 6])\n",
        "print('a =', a)\n",
        "print('b =', b)"
      ],
      "metadata": {
        "colab": {
          "base_uri": "https://localhost:8080/"
        },
        "id": "UlS01XqUXVOM",
        "outputId": "9047da66-1a3a-4682-e896-c1569a316c1b"
      },
      "execution_count": null,
      "outputs": [
        {
          "output_type": "stream",
          "name": "stdout",
          "text": [
            "a = [ 1 -4]\n",
            "b = [3 6]\n"
          ]
        }
      ]
    },
    {
      "cell_type": "code",
      "source": [
        "print('a dot b = ', np.dot(a, b))"
      ],
      "metadata": {
        "colab": {
          "base_uri": "https://localhost:8080/"
        },
        "id": "Z05ISwY4Xxrq",
        "outputId": "70f7ac7e-038d-4f35-bacd-c2547aa78e8d"
      },
      "execution_count": null,
      "outputs": [
        {
          "output_type": "stream",
          "name": "stdout",
          "text": [
            "a dot b =  -21\n"
          ]
        }
      ]
    },
    {
      "cell_type": "code",
      "source": [
        "print('a dot b = ', a.dot(b))"
      ],
      "metadata": {
        "colab": {
          "base_uri": "https://localhost:8080/"
        },
        "id": "Kf-V4TOjaWDC",
        "outputId": "5f91d75c-9e0c-464e-d64c-b2551bcc8825"
      },
      "execution_count": null,
      "outputs": [
        {
          "output_type": "stream",
          "name": "stdout",
          "text": [
            "a dot b =  -21\n"
          ]
        }
      ]
    },
    {
      "cell_type": "code",
      "source": [
        "u = np.array([1, 2, 0, -1])\n",
        "v = np.array([2, 2, 3, 4])\n",
        "print('u dot v = ', np.dot(u, v))"
      ],
      "metadata": {
        "colab": {
          "base_uri": "https://localhost:8080/"
        },
        "id": "D6iYztmXpzbX",
        "outputId": "954e040e-fcf3-43e3-cea9-3d63406f3356"
      },
      "execution_count": null,
      "outputs": [
        {
          "output_type": "stream",
          "name": "stdout",
          "text": [
            "u dot v =  2\n"
          ]
        }
      ]
    },
    {
      "cell_type": "code",
      "source": [
        "print('u * v =', u * v)"
      ],
      "metadata": {
        "colab": {
          "base_uri": "https://localhost:8080/"
        },
        "id": "XY9uK9pUbsc1",
        "outputId": "6d4d7cde-cb0a-476a-f98b-1d9fa1015e0b"
      },
      "execution_count": null,
      "outputs": [
        {
          "output_type": "stream",
          "name": "stdout",
          "text": [
            "u * v = [ 2  4  0 -4]\n"
          ]
        }
      ]
    },
    {
      "cell_type": "code",
      "source": [
        "print('np.sum(u * v) =', np.sum(u * v))"
      ],
      "metadata": {
        "colab": {
          "base_uri": "https://localhost:8080/"
        },
        "id": "DtXiS22Er5ZB",
        "outputId": "54a28c02-6d2e-48b7-8c8c-be54f99906dd"
      },
      "execution_count": null,
      "outputs": [
        {
          "output_type": "stream",
          "name": "stdout",
          "text": [
            "np.sum(u * v) = 2\n"
          ]
        }
      ]
    },
    {
      "cell_type": "markdown",
      "source": [
        "#### 행렬 곱 연산"
      ],
      "metadata": {
        "id": "w_eU-BDR_lw2"
      }
    },
    {
      "cell_type": "code",
      "source": [
        "a = np.array([[1, 2], [3, 4]])     # 2차원 배열 a\n",
        "b = np.array([[10, 20], [30, 40]]) # 2차원 배열 b\n",
        "a * b    # 행렬간의 원소 곱 연산자 *를 사용해 보자"
      ],
      "metadata": {
        "colab": {
          "base_uri": "https://localhost:8080/"
        },
        "id": "4yVDfW5EwSkt",
        "outputId": "e7a7d9b0-e5f0-4c87-95ef-8df3f4b76972"
      },
      "execution_count": null,
      "outputs": [
        {
          "output_type": "execute_result",
          "data": {
            "text/plain": [
              "array([[ 10,  40],\n",
              "       [ 90, 160]])"
            ]
          },
          "metadata": {},
          "execution_count": 72
        }
      ]
    },
    {
      "cell_type": "code",
      "source": [
        "a = np.array([[1, 2], [3, 4]])     # 2차원 배열 a\n",
        "b = np.array([[10, 20], [30, 40]]) # 2차원 배열 b\n",
        "np.matmul(a, b)"
      ],
      "metadata": {
        "colab": {
          "base_uri": "https://localhost:8080/"
        },
        "id": "9sNswS3XcWxj",
        "outputId": "655a764d-2a50-4ed4-fc2b-ba7f31db2c87"
      },
      "execution_count": null,
      "outputs": [
        {
          "output_type": "execute_result",
          "data": {
            "text/plain": [
              "array([[ 70, 100],\n",
              "       [150, 220]])"
            ]
          },
          "metadata": {},
          "execution_count": 73
        }
      ]
    },
    {
      "cell_type": "code",
      "source": [
        "a @ b"
      ],
      "metadata": {
        "colab": {
          "base_uri": "https://localhost:8080/"
        },
        "id": "9o0Tj6LVvvnR",
        "outputId": "4aa56b00-35b0-40b9-dd52-24f4b65e3c17"
      },
      "execution_count": null,
      "outputs": [
        {
          "output_type": "execute_result",
          "data": {
            "text/plain": [
              "array([[ 70, 100],\n",
              "       [150, 220]])"
            ]
          },
          "metadata": {},
          "execution_count": 74
        }
      ]
    },
    {
      "cell_type": "code",
      "source": [
        "X = [2, 3]\n",
        "W = [[1, 2, 1], [2, 5, 1]]  # W는 (2, 3)크기의 행렬\n",
        "np.matmul(X, W)       # X행렬과 W의 곱의 결과"
      ],
      "metadata": {
        "colab": {
          "base_uri": "https://localhost:8080/"
        },
        "id": "uepaR_Wuvx28",
        "outputId": "d3b7db0d-f652-4121-cc5d-e0939989c72d"
      },
      "execution_count": null,
      "outputs": [
        {
          "output_type": "execute_result",
          "data": {
            "text/plain": [
              "array([ 8, 19,  5])"
            ]
          },
          "metadata": {},
          "execution_count": 6
        }
      ]
    },
    {
      "cell_type": "markdown",
      "source": [
        "### 단위 행렬과의 곱"
      ],
      "metadata": {
        "id": "rsSH-3SEwum9"
      }
    },
    {
      "cell_type": "code",
      "source": [
        "a = [[1, 2], [3, 4]]\n",
        "b = [[1, 0], [0, 1]]  # b는 단위행렬\n",
        "np.matmul(a, b)       # a행렬과 단위행렬 b의 곱의 결과"
      ],
      "metadata": {
        "colab": {
          "base_uri": "https://localhost:8080/"
        },
        "id": "yqOVr2t0_sLg",
        "outputId": "3f2b2e52-3b05-4f96-cfe2-9ed75dfd1b03"
      },
      "execution_count": null,
      "outputs": [
        {
          "output_type": "execute_result",
          "data": {
            "text/plain": [
              "array([[1, 2],\n",
              "       [3, 4]])"
            ]
          },
          "metadata": {},
          "execution_count": 75
        }
      ]
    },
    {
      "cell_type": "code",
      "source": [
        "c = [[1, 2, -1], [3, 4, 5], [2, 1, 0]]\n",
        "d = [[1, 0, 0], [0, 1, 0], [0, 0, 1]]  # d는 (3, 3)크기의 단위행렬\n",
        "np.matmul(c, d)       # c행렬과 단위행렬 d의 곱의 결과"
      ],
      "metadata": {
        "id": "zkzJB5ICwyXL",
        "outputId": "2e8153b7-c4d2-4858-cd18-3cded72b8e3f",
        "colab": {
          "base_uri": "https://localhost:8080/"
        }
      },
      "execution_count": null,
      "outputs": [
        {
          "output_type": "execute_result",
          "data": {
            "text/plain": [
              "array([[ 1,  2, -1],\n",
              "       [ 3,  4,  5],\n",
              "       [ 2,  1,  0]])"
            ]
          },
          "metadata": {},
          "execution_count": 76
        }
      ]
    }
  ]
}